{
  "nbformat": 4,
  "nbformat_minor": 0,
  "metadata": {
    "colab": {
      "name": "ECProgramacionEvolutiva.ipynb",
      "provenance": [],
      "collapsed_sections": []
    },
    "kernelspec": {
      "name": "python3",
      "display_name": "Python 3"
    },
    "language_info": {
      "name": "python"
    }
  },
  "cells": [
    {
      "cell_type": "markdown",
      "metadata": {
        "id": "gOApybu_B-zo"
      },
      "source": [
        "**Un algoritmo basado en PE debe considerar los siguientes aspectos:**\n",
        "- Representación de los individuos, mutación\n",
        "- Selección de sobreviviente\n",
        "- Autoadaptación"
      ]
    },
    {
      "cell_type": "code",
      "metadata": {
        "id": "mL2J1-7TXLKa"
      },
      "source": [
        "from math import exp\n",
        "from math import sqrt\n",
        "from math import cos\n",
        "from math import e\n",
        "from math import pi\n",
        "import numpy as np\n",
        "from numpy import std\n",
        "from random import randint"
      ],
      "execution_count": 15,
      "outputs": []
    },
    {
      "cell_type": "markdown",
      "metadata": {
        "id": "qbPuC_9EFvHV"
      },
      "source": [
        "# **Resolver**\n",
        "---\n",
        "\n",
        "\n",
        "$$\n",
        "min f(\\overrightarrow{x}) = -20 \\ast exp \\left( -0.2 \\ast \\sqrt{\\frac{1}{n} \\sum_{i=1}^{n}x^{2}_{i}}\\right) - exp \\left( \\frac{1}{n} \\sum_{i=1}^{n} cos(2 \\pi x_{i})  \\right) + 20 + e\n",
        "$$\n",
        "\n",
        "> La función $f$ es conocida como la **función de Ackley**, su dominio es $|x_{i}| \\leq 30$ y su mínimo global está en $x_{i} = 0$ y $f(\\overrightarrow{x}) = 0.0$\n",
        "\n",
        "\n",
        "#### **Consideraciones:**\n",
        "  - Cuidar que las variables de decisión no salgan del rango especificado en el problema. \n",
        "  > Si eso ocurre, deberá contar con un mecanismo que vuelva a generar el valor de la variable o que lo ajuste al rango deseado. \n",
        "  >> Explique en su reporte qué mecanismo fue utilizado "
      ]
    },
    {
      "cell_type": "markdown",
      "metadata": {
        "id": "KjHo9qOXYsUT"
      },
      "source": [
        "# **Función** \n",
        "---"
      ]
    },
    {
      "cell_type": "code",
      "metadata": {
        "id": "31ozS5zF82t3"
      },
      "source": [
        "def f(x, n): \n",
        "  \"\"\"\n",
        "  x = list\n",
        "  n = int, num of decisition variables\n",
        "  return: float number\n",
        "  \"\"\"\n",
        "  # Para efectuar la primer sumatoria\n",
        "  sum1 = 0\n",
        "  for i in range(n): \n",
        "    sum1 += x[i]**2\n",
        "  sumatoria1 = (1/n)*sum1\n",
        "  # Para efectuar la segunda sumatoria\n",
        "  sum2 = 0\n",
        "  for i in range(n): \n",
        "    sum2 += cos(2*pi*x[i])\n",
        "  sumatoria2 = (1/n)*sum2\n",
        "\n",
        "  return (-20 * exp(-0.2*sqrt(sumatoria1)) - exp(sumatoria2) + 20 + e)"
      ],
      "execution_count": 2,
      "outputs": []
    },
    {
      "cell_type": "code",
      "metadata": {
        "id": "9FwNQ5A2ZzUT"
      },
      "source": [
        "def fitness(x, n):\n",
        "  \"\"\"\n",
        "  x = list\n",
        "  n = int, num of decision variables\n",
        "  return: float number\n",
        "  \"\"\"\n",
        "  return -f(x, n)"
      ],
      "execution_count": 3,
      "outputs": []
    },
    {
      "cell_type": "markdown",
      "metadata": {
        "id": "eixXyNlzaGVv"
      },
      "source": [
        "**Representación del individuo**\n",
        "---\n",
        "Un arreglo de valores flotantes de tamaño 4.\n",
        "Las primeras dos componentes corresponden a las dos variables del problema.\n",
        "Las siguentes dos componentes corresponden a los tamaños de paso para la mutación de cada una de las variables del problema.\n",
        "\n",
        "\n",
        "\n",
        "```\n",
        "x1 = abs(np.random.uniform(-30, 30))\n",
        "x2 = abs(np.random.uniform(-30, 30))\n",
        "o1 = np.random.uniform(0,1)\n",
        "o2 = np.random.uniform(0,1)\n",
        "\n",
        "\n",
        "X = [x1, x2, o1, o2]\n",
        "```\n",
        "\n"
      ]
    },
    {
      "cell_type": "markdown",
      "metadata": {
        "id": "KWmqi-laeE2S"
      },
      "source": [
        "**Población inicial**\n",
        "---"
      ]
    },
    {
      "cell_type": "code",
      "metadata": {
        "id": "mAFO6nDWeIK8"
      },
      "source": [
        "# Generamos un individuo de la siguiente forma: Utilizando una distribución uniforme,\n",
        "# generamos dos números aleatorios en el intervalo abs([-30, 30]) y los\n",
        "# guardamos en las primeras dos posiciones de un arreglo de tamaño 4. \n",
        "# Posteriormente, generamos otros dos números aleatorios en el intervalo (0, 1) y\n",
        "# los guardamos en las últimas dos posiciones de nuestro arreglo. Repetimos el\n",
        "# mismo procedimiento para generar la cantidad de individuos que se deseen.\n",
        "# En este caso usaremos una población de tamaño μ = 100.\n",
        "\n",
        "# La descripción anterior es para n = 2\n",
        "# en general, el arreglo de representación \n",
        "# del individuo es de tamaño 2n\n",
        "# Donde\n",
        "# Las primer mitad de componentes corresponden a las n variables del problema.\n",
        "# Las otra mitad de componentes corresponden a los n tamaños de paso para la mutación\n",
        "# de cada una de las variables del problema.\n",
        "def getInitialPopulation(mu, n):\n",
        "  \"\"\"\n",
        "  mu = int, poblation size\n",
        "  n = int, num of decision variables\n",
        "  return: list with initial population and their fitness by guy\n",
        "  \"\"\"\n",
        "  parents = []\n",
        "  for i in range(mu):\n",
        "    #Generamos un individuo\n",
        "    guy = np.concatenate((abs(np.random.uniform(-30, 30, n)), np.random.uniform(0, 1, n)))\n",
        "    #print(guy)\n",
        "    #print(guy[:n]) # las x\n",
        "    #print(guy[n:]) # las o\n",
        "    #print(fitness(guy[:n], n))\n",
        "    #break\n",
        "\n",
        "    #Calculamos la aptitud del individuo\n",
        "    guy = [guy, fitness(guy[:n], n)]\n",
        "    #print(guy)\n",
        "    #break\n",
        "\n",
        "    #Agregamos al individuo a la población \"parents\"\n",
        "    parents.append(guy)\n",
        "\n",
        "  # Regresamos la población generada\n",
        "  # Arreglo de arreglos, donde un indice corresponde a un individuo formado como: \n",
        "  # mitad variables del problema, mitad variables de mutación y fitness\n",
        "  return parents"
      ],
      "execution_count": 4,
      "outputs": []
    },
    {
      "cell_type": "code",
      "metadata": {
        "id": "rsI3jqElfaI8"
      },
      "source": [
        "#print(getInitialPopulation(100,2))\n",
        "#population = getInitialPopulation(100,2)\n",
        "\n",
        "# primer individuo generado\n",
        "#print(len(population), population[0])"
      ],
      "execution_count": 5,
      "outputs": []
    },
    {
      "cell_type": "markdown",
      "metadata": {
        "id": "GagvhqIGh6nU"
      },
      "source": [
        "**Mutación**\n",
        "---"
      ]
    },
    {
      "cell_type": "code",
      "metadata": {
        "id": "AgKF6EbMh9Nj"
      },
      "source": [
        "def mutation(guy, n, alpha, epsilon):\n",
        "  \"\"\"\n",
        "  guy = list, guy number any\n",
        "  n = int, num of decision variables\n",
        "  alpha = float, mutation parameter\n",
        "  epsilon = float, tolerance number\n",
        "  return: list, new guy\n",
        "  \"\"\"\n",
        "  #print(guy, type(guy), n, alpha, epsilon)\n",
        "  #print(guy)\n",
        "  #tmp = (1+(alpha*np.random.normal(0, 1, n)))\n",
        "  #print(\"tmp\", tmp)\n",
        "  #print(\"guy\", guy[n:])\n",
        "  #print(\"result\", guy[n:]*tmp)\n",
        "  #print(np.random.normal(0, 1, n))\n",
        "  #return (None)\n",
        "  \n",
        "  # Mutamos los últimos dos componentes de nuestro arreglo -> (tamaños de paso)\n",
        "  mutation_sigma = guy[n:]*(1+(alpha*np.random.normal(0, 1, n)))\n",
        "\n",
        "  \n",
        "  # Verificamos que los nuevos valores no sean menores a épsilon\n",
        "  # Si se cumple para alguno de los valores, este será igual a epsilon\n",
        "  mutation_sigma[mutation_sigma < epsilon] = epsilon\n",
        "\n",
        "  # Mutamos las variables de decisión a partir de las mutaciones\n",
        "  mutation_x = guy[:n] + (mutation_sigma*np.random.normal(0, 1, n))\n",
        "\n",
        "  # Revisamos que las variables de decisión estén dentro de los límites\n",
        "  # De lo contrario las igualamos al limite\n",
        "  # PROPONER OTRO CAMINO Y EVALUAR\n",
        "  mutation_x[mutation_x < -30] = randint(-30, 0)\n",
        "  mutation_x[mutation_x > 30] = randint(0, 31)\n",
        "\n",
        "  # Creamos el nuevo Individuo y lo devolvemos\n",
        "  return [np.concatenate((mutation_x, mutation_sigma)), fitness(mutation_x, n)]"
      ],
      "execution_count": 21,
      "outputs": []
    },
    {
      "cell_type": "markdown",
      "metadata": {
        "id": "VcqxQX4WYjW-"
      },
      "source": [
        "Dado que se trata de un algoritmo pseudoestocastico, ya que tiene componentes deterministas y algunos estocasticos. He elegido evaluar que la variable de decisión de tal forma que si se revasa los limites, se le reasigne un número aleatorio dentro de los limites. Esto con la finalidad de añadir más componentes estocasticos al algoritmo y dejar un poco más de lado lo determinista, tal como sigue:\n",
        "\n",
        "```\n",
        "mutation_x[mutation_x < -30] = -30\n",
        "mutation_x[mutation_x > 30] = 30\n",
        "```\n",
        "\n"
      ]
    },
    {
      "cell_type": "code",
      "metadata": {
        "id": "3ArWbjLLUVOM"
      },
      "source": [
        "#guys = getInitialPopulation(100,2)\n",
        "#print(guys[0][0])\n",
        "#child = mutation(guys[0][0], num_variables, alpha, epsilon)\n",
        "#print(child)"
      ],
      "execution_count": 7,
      "outputs": []
    },
    {
      "cell_type": "markdown",
      "metadata": {
        "id": "MlJfdw1bWWWK"
      },
      "source": [
        "**Algoritmo Completo**\n",
        "---"
      ]
    },
    {
      "cell_type": "code",
      "metadata": {
        "id": "SGpz7Bq2WRO5"
      },
      "source": [
        "def PE(n, mu, num_gen, alpha, epsilon):\n",
        "  \"\"\"\n",
        "  n = int, num of decision variables\n",
        "  mu = int, poblation size\n",
        "  num_gen = int; generations number\n",
        "  alpha = float, mutation parameter\n",
        "  epsilon = float, tolerance number\n",
        "  return: best solution for the function\n",
        "  \"\"\"\n",
        "  \n",
        "  parents = getInitialPopulation(mu, n)\n",
        "\n",
        "  for _ in range(num_gen):\n",
        "    new_gen = parents.copy()\n",
        "    for parent in parents:\n",
        "      # Creamos un hijo\n",
        "      child = mutation(parent[0], n, alpha, epsilon)\n",
        "      # Agregamos al hijo a la nueva generación\n",
        "      new_gen.append(child)\n",
        "\n",
        "    # En este caso utilizaremos una selección más, por lo tanto\n",
        "    # ordenamos del peor individuo al mejor individuo \n",
        "    # (del menor valor de aptitud al mayor)\n",
        "    #print(new_gen)\n",
        "    new_gen = sorted(new_gen, key=lambda individual: individual[-1])\n",
        "    #print(\"\\n\", new_gen)\n",
        "    \n",
        "    # Nos quedamos con los mu mejores individuos\n",
        "    new_gen = new_gen[mu:]\n",
        "    #print(\"\\n\", new_gen)\n",
        "    #return (None)\n",
        "    parents = new_gen.copy()\n",
        "  \n",
        "  \n",
        "  #for tmp in parents:\n",
        "    #print(tmp)\n",
        "  \n",
        "  # Devolvemos el mejor\n",
        "  # parents[-1][0] = lista de los 2n valores (mitad x y mitad o)\n",
        "  # -parents[-1][1] = resultado del fitness aplicado a las x\n",
        "  return (parents[-1][0], -parents[-1][1])"
      ],
      "execution_count": 8,
      "outputs": []
    },
    {
      "cell_type": "code",
      "metadata": {
        "id": "5slrap_fYZIj"
      },
      "source": [
        "#print(PE(num_variables, poblation_size, generations_number, alpha, epsilon))\n",
        "#sol, fx = PE(num_variables, poblation_size, generations_number, alpha, epsilon)\n",
        "#Xs = sol[:num_variables]\n",
        "#Sigmas = sol[num_variables:]\n",
        "#print(f\"Xs: {Xs}\\nSigmas: {Sigmas}\\nf(x): {round(fx,3)}\")"
      ],
      "execution_count": 9,
      "outputs": []
    },
    {
      "cell_type": "markdown",
      "metadata": {
        "id": "sg1iYjpv6GO2"
      },
      "source": [
        "> Su mínimo global está en $x_{i} = 0$ y $f(\\overrightarrow{x}) = 0.0$"
      ]
    },
    {
      "cell_type": "markdown",
      "metadata": {
        "id": "0QItI_MEKeiv"
      },
      "source": [
        "# **INPUT** \n",
        "---\n",
        "1. La primer línea tendrá el número de variables que tendrá a la función de Ackley $\\textbf{n}$\n",
        "\n",
        "2. La segunda línea tendrá el tamaño de la población y el número máximo de generaciones, *separados por un espacio*\n",
        "\n",
        "3. La tercer línea tendrá el valor de los parámetros $\\alpha$ y $\\epsilon$, separados por un espacio"
      ]
    },
    {
      "cell_type": "code",
      "metadata": {
        "id": "YzUQcp9WFuex"
      },
      "source": [
        "def get_data_by_txt(name_file: str):\n",
        "  \"\"\"function to read the input from file txt\n",
        "  name_file = str with the name file.txt\n",
        "  return: int num_variables, int poblation_size, int generations_number, float alpha. float epsilon \n",
        "  \"\"\"\n",
        "\n",
        "  with open('input.txt', 'r') as fichero:\n",
        "    num_variables = fichero.readline()\n",
        "    poblation_size, generations_number = fichero.readline().split(' ')\n",
        "    alpha, epsilon = fichero.readline().split(' ')\n",
        "    # casteamos al tipo de dato correcto \n",
        "    num_variables = int(num_variables)\n",
        "    poblation_size = int(poblation_size)\n",
        "    generations_number = int(generations_number)\n",
        "    alpha = float(alpha)\n",
        "    epsilon = float(epsilon)\n",
        "\n",
        "    return (num_variables, poblation_size, generations_number, alpha, epsilon)"
      ],
      "execution_count": 10,
      "outputs": []
    },
    {
      "cell_type": "code",
      "metadata": {
        "id": "hFodwgFVNG2P"
      },
      "source": [
        "#num_variables, poblation_size, generations_number, alpha, epsilon = get_data_by_txt(\"input.txt\")\n",
        "#print(num_variables, poblation_size, generations_number, alpha, epsilon)"
      ],
      "execution_count": 11,
      "outputs": []
    },
    {
      "cell_type": "markdown",
      "metadata": {
        "id": "J4yFJhCnpPIK"
      },
      "source": [
        "# Main\n",
        "---"
      ]
    },
    {
      "cell_type": "code",
      "metadata": {
        "id": "_JAnPOtLTIq2",
        "colab": {
          "base_uri": "https://localhost:8080/"
        },
        "outputId": "d939f316-23c4-4763-c1b0-9ee5ee30414c"
      },
      "source": [
        "if __name__ == \"__main__\":\n",
        " \n",
        "  #file_name = str(input(\"Nombre del archivo: \"))\n",
        "  #num_variables, poblation_size, generations_number, alpha, epsilon = get_data_by_txt(file_name)\n",
        "  opt = int(input(\"1) Datos a mano\\n2) Datos por txt\\nIntroduce un número: \"))\n",
        "  if opt == 1:\n",
        "    num_variables = int(input(\"Número de variables: \"))\n",
        "    poblation_size = int(input(\"Tamaño de la población: \"))\n",
        "    generations_number = int(input(\"Número de generaciones: \"))\n",
        "    alpha = float(input(\"Valor de alpha: \"))\n",
        "    epsilon = float(input(\"Valor de epsilon: \"))\n",
        "  \n",
        "  elif opt == 2: \n",
        "    num_variables, poblation_size, generations_number, alpha, epsilon = get_data_by_txt(\"input.txt\")\n",
        "  else: \n",
        "    print(\"Opción no disponible\")\n",
        "  # Nota: Se deben reportar los resultados del algoritmo para las\n",
        "  # siguientes instancias: 5, 10 y 20 variables de decisión.\n",
        "  # Recuerde que puede variar los parámetros del algoritmo (tamaño de la \n",
        "  # población, número de generaciones\").\n",
        "\n",
        "  M = int(input(\"Número de ejecuciones: \"))\n",
        "    \n",
        "  # ------------------------------------------PARTE 2\n",
        "  #1. Mejor solución encontrada considerando las M ejecuciones.\n",
        "  #2. Peor solución encontrada considerando las M ejecuciones.\n",
        "  #3. Solución que corresponde a la mediana considerando las M ejecuciones.\n",
        "  #4. Media del valor de la función objetivo considerando las M ejecuciones.\n",
        "  #5. Desviación est ́andar del valor de la función objetivo considerando las M ejecuciones.\n",
        "\n",
        "  solutions = []\n",
        "  conteo = 0\n",
        "  #En los primeros tres puntos indica tanto el valor de x (lista de objetos y su\n",
        "  #correspondiente cadena binaria) como el valor de las funciones f (valor de la mochila) y g (peso de la mochila).\n",
        "  while conteo != M:\n",
        "    sol, fx = PE(num_variables, poblation_size, generations_number, alpha, epsilon)\n",
        "    #Xs = sol[:num_variables]\n",
        "    #Sigmas = sol[num_variables:]\n",
        "    solutions.append([sol, fx])\n",
        "    conteo += 1  \n",
        "\n",
        "     \n",
        "  my_f_sol = [x[-1] for x in solutions] # fitness/ la evaluación de las x en la funcióón objetivo\n",
        "  \n",
        "    \n",
        "  # Ordenamos del peor individuo al mejor individuo con base en el fitness \n",
        "  solutions = sorted(solutions, key=lambda value: value[-1]) \n",
        "\n",
        "  # mejor solución\n",
        "  best_Xs = solutions[0][0][:num_variables]\n",
        "  best_Sigmas = solutions[0][0][num_variables:]\n",
        "  best_fx = solutions[0][-1]\n",
        "  print(f\"\\nMEJOR SOLUCION\\n X's: {best_Xs}\\nSigmas: {best_Sigmas}\\nf(x): {round(best_fx,3)}\")\n",
        "  # peor solución\n",
        "  worst_Xs = solutions[-1][0][:num_variables]\n",
        "  worst_Sigmas = solutions[-1][0][num_variables:]\n",
        "  worst_fx = solutions[-1][-1]\n",
        "  print(f\"PEOR SOLUCION\\n X's: {worst_Xs}\\nSigmas: {worst_Sigmas}\\nf(x): {round(worst_fx,3)}\")  \n",
        "  print(f\"MEDIANA\\n X's: {solutions[M//2][0][:num_variables]}\\nSigmas: {solutions[M//2][0][num_variables:]}\\nf(x): {round(solutions[M//2][-1],3)}\")\n",
        "  print(\"MEDIA DE LAS FITNESS\\n\", np.mean(my_f_sol))\n",
        "  print(\"DESVIACION ESTANDAR DE LAS FITNESS\\n\", np.std(my_f_sol))\n",
        "\n"
      ],
      "execution_count": 25,
      "outputs": [
        {
          "output_type": "stream",
          "text": [
            "1) Datos a mano\n",
            "2) Datos por txt\n",
            "Introduce un número: 2\n",
            "Número de ejecuciones: 100\n",
            "\n",
            "MEJOR SOLUCION\n",
            " X's: [8.46482836e-08 7.65312690e-08]\n",
            "Sigmas: [0.00025323 0.0001    ]\n",
            "f(x): 0.0\n",
            "PEOR SOLUCION\n",
            " X's: [-1.49147451e-06  1.95891788e+00]\n",
            "Sigmas: [0.0001 0.0001]\n",
            "f(x): 4.884\n",
            "MEDIANA\n",
            " X's: [ 1.50845894e-06 -8.79297233e-07]\n",
            "Sigmas: [0.0001 0.0001]\n",
            "f(x): 0.0\n",
            "MEDIA DE LAS FITNESS\n",
            " 0.3656234010389315\n",
            "DESVIACION ESTANDAR DE LAS FITNESS\n",
            " 1.0345099408891367\n"
          ],
          "name": "stdout"
        }
      ]
    },
    {
      "cell_type": "markdown",
      "metadata": {
        "id": "pl3rN6vfjuJF"
      },
      "source": [
        "# **Resultados**\n",
        "\n",
        "## n = 5\n",
        "\n",
        "## n = 10 \n",
        " \n",
        "## n = 20"
      ]
    },
    {
      "cell_type": "code",
      "metadata": {
        "id": "Z1_RKnJvaOhd"
      },
      "source": [
        ""
      ],
      "execution_count": null,
      "outputs": []
    }
  ]
}