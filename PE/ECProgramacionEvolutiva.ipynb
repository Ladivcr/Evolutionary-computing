{
  "nbformat": 4,
  "nbformat_minor": 0,
  "metadata": {
    "colab": {
      "name": "ECProgramacionEvolutiva.ipynb",
      "provenance": [],
      "collapsed_sections": []
    },
    "kernelspec": {
      "name": "python3",
      "display_name": "Python 3"
    },
    "language_info": {
      "name": "python"
    }
  },
  "cells": [
    {
      "cell_type": "markdown",
      "metadata": {
        "id": "gOApybu_B-zo"
      },
      "source": [
        "**Un algoritmo basado en PE debe considerar los siguientes aspectos:**\n",
        "- Representación de los individuos, mutación\n",
        "- Selección de sobreviviente\n",
        "- Autoadaptación"
      ]
    },
    {
      "cell_type": "code",
      "metadata": {
        "id": "mL2J1-7TXLKa"
      },
      "source": [
        "from math import exp\n",
        "from math import sqrt\n",
        "from math import cos\n",
        "from math import e\n",
        "from math import pi\n",
        "import numpy as np\n",
        "from numpy import std\n",
        "from random import randint"
      ],
      "execution_count": 1,
      "outputs": []
    },
    {
      "cell_type": "markdown",
      "metadata": {
        "id": "qbPuC_9EFvHV"
      },
      "source": [
        "# **Resolver**\n",
        "---\n",
        "\n",
        "\n",
        "$$\n",
        "min f(\\overrightarrow{x}) = -20 \\ast exp \\left( -0.2 \\ast \\sqrt{\\frac{1}{n} \\sum_{i=1}^{n}x^{2}_{i}}\\right) - exp \\left( \\frac{1}{n} \\sum_{i=1}^{n} cos(2 \\pi x_{i})  \\right) + 20 + e\n",
        "$$\n",
        "\n",
        "> La función $f$ es conocida como la **función de Ackley**, su dominio es $|x_{i}| \\leq 30$ y su mínimo global está en $x_{i} = 0$ y $f(\\overrightarrow{x}) = 0.0$\n",
        "\n",
        "\n",
        "#### **Consideraciones:**\n",
        "  - Cuidar que las variables de decisión no salgan del rango especificado en el problema. \n",
        "  > Si eso ocurre, deberá contar con un mecanismo que vuelva a generar el valor de la variable o que lo ajuste al rango deseado. \n",
        "  >> Explique en su reporte qué mecanismo fue utilizado "
      ]
    },
    {
      "cell_type": "markdown",
      "metadata": {
        "id": "KjHo9qOXYsUT"
      },
      "source": [
        "# **Función** \n",
        "---"
      ]
    },
    {
      "cell_type": "code",
      "metadata": {
        "id": "31ozS5zF82t3"
      },
      "source": [
        "def f(x, n): \n",
        "  \"\"\"\n",
        "  x = list\n",
        "  n = int, num of decisition variables\n",
        "  return: float number\n",
        "  \"\"\"\n",
        "  # Para efectuar la primer sumatoria\n",
        "  sum1 = 0\n",
        "  for i in range(n): \n",
        "    sum1 += x[i]**2\n",
        "  sumatoria1 = (1/n)*sum1\n",
        "  # Para efectuar la segunda sumatoria\n",
        "  sum2 = 0\n",
        "  for i in range(n): \n",
        "    sum2 += cos(2*pi*x[i])\n",
        "  sumatoria2 = (1/n)*sum2\n",
        "\n",
        "  return (-20 * exp(-0.2*sqrt(sumatoria1)) - exp(sumatoria2) + 20 + e)"
      ],
      "execution_count": 2,
      "outputs": []
    },
    {
      "cell_type": "code",
      "metadata": {
        "id": "9FwNQ5A2ZzUT"
      },
      "source": [
        "def fitness(x, n):\n",
        "  \"\"\"\n",
        "  x = list\n",
        "  n = int, num of decision variables\n",
        "  return: float number\n",
        "  \"\"\"\n",
        "  return -f(x, n)"
      ],
      "execution_count": 3,
      "outputs": []
    },
    {
      "cell_type": "markdown",
      "metadata": {
        "id": "eixXyNlzaGVv"
      },
      "source": [
        "**Representación del individuo**\n",
        "---\n",
        "Un arreglo de valores flotantes de tamaño 4.\n",
        "Las primeras dos componentes corresponden a las dos variables del problema.\n",
        "Las siguentes dos componentes corresponden a los tamaños de paso para la mutación de cada una de las variables del problema.\n",
        "\n",
        "\n",
        "\n",
        "```\n",
        "x1 = abs(np.random.uniform(-30, 30))\n",
        "x2 = abs(np.random.uniform(-30, 30))\n",
        "o1 = np.random.uniform(0,1)\n",
        "o2 = np.random.uniform(0,1)\n",
        "\n",
        "\n",
        "X = [x1, x2, o1, o2]\n",
        "```\n",
        "\n"
      ]
    },
    {
      "cell_type": "markdown",
      "metadata": {
        "id": "KWmqi-laeE2S"
      },
      "source": [
        "**Población inicial**\n",
        "---"
      ]
    },
    {
      "cell_type": "code",
      "metadata": {
        "id": "mAFO6nDWeIK8"
      },
      "source": [
        "# Generamos un individuo de la siguiente forma: Utilizando una distribución uniforme,\n",
        "# generamos dos números aleatorios en el intervalo abs([-30, 30]) y los\n",
        "# guardamos en las primeras dos posiciones de un arreglo de tamaño 4. \n",
        "# Posteriormente, generamos otros dos números aleatorios en el intervalo (0, 1) y\n",
        "# los guardamos en las últimas dos posiciones de nuestro arreglo. Repetimos el\n",
        "# mismo procedimiento para generar la cantidad de individuos que se deseen.\n",
        "# En este caso usaremos una población de tamaño μ = 100.\n",
        "\n",
        "# La descripción anterior es para n = 2\n",
        "# en general, el arreglo de representación \n",
        "# del individuo es de tamaño 2n\n",
        "# Donde\n",
        "# Las primer mitad de componentes corresponden a las n variables del problema.\n",
        "# Las otra mitad de componentes corresponden a los n tamaños de paso para la mutación\n",
        "# de cada una de las variables del problema.\n",
        "def getInitialPopulation(mu, n):\n",
        "  \"\"\"\n",
        "  mu = int, poblation size\n",
        "  n = int, num of decision variables\n",
        "  return: list with initial population and their fitness by guy\n",
        "  \"\"\"\n",
        "  parents = []\n",
        "  for i in range(mu):\n",
        "    #Generamos un individuo\n",
        "    guy = np.concatenate((abs(np.random.uniform(-30, 30, n)), np.random.uniform(0, 1, n)))\n",
        "    #print(guy)\n",
        "    #print(guy[:n]) # las x\n",
        "    #print(guy[n:]) # las o\n",
        "    #print(fitness(guy[:n], n))\n",
        "    #break\n",
        "\n",
        "    #Calculamos la aptitud del individuo\n",
        "    guy = [guy, fitness(guy[:n], n)]\n",
        "    #print(guy)\n",
        "    #break\n",
        "\n",
        "    #Agregamos al individuo a la población \"parents\"\n",
        "    parents.append(guy)\n",
        "\n",
        "  # Regresamos la población generada\n",
        "  # Arreglo de arreglos, donde un indice corresponde a un individuo formado como: \n",
        "  # mitad variables del problema, mitad variables de mutación y fitness\n",
        "  return parents"
      ],
      "execution_count": 4,
      "outputs": []
    },
    {
      "cell_type": "code",
      "metadata": {
        "id": "rsI3jqElfaI8"
      },
      "source": [
        "#print(getInitialPopulation(100,2))\n",
        "#population = getInitialPopulation(100,2)\n",
        "\n",
        "# primer individuo generado\n",
        "#print(len(population), population[0])"
      ],
      "execution_count": 5,
      "outputs": []
    },
    {
      "cell_type": "markdown",
      "metadata": {
        "id": "GagvhqIGh6nU"
      },
      "source": [
        "**Mutación**\n",
        "---"
      ]
    },
    {
      "cell_type": "code",
      "metadata": {
        "id": "AgKF6EbMh9Nj"
      },
      "source": [
        "def mutation(guy, n, alpha, epsilon):\n",
        "  \"\"\"\n",
        "  guy = list, guy number any\n",
        "  n = int, num of decision variables\n",
        "  alpha = float, mutation parameter\n",
        "  epsilon = float, tolerance number\n",
        "  return: list, new guy\n",
        "  \"\"\"\n",
        "  #print(guy, type(guy), n, alpha, epsilon)\n",
        "  #print(guy)\n",
        "  #tmp = (1+(alpha*np.random.normal(0, 1, n)))\n",
        "  #print(\"tmp\", tmp)\n",
        "  #print(\"guy\", guy[n:])\n",
        "  #print(\"result\", guy[n:]*tmp)\n",
        "  #print(np.random.normal(0, 1, n))\n",
        "  #return (None)\n",
        "  \n",
        "  # Mutamos los últimos dos componentes de nuestro arreglo -> (tamaños de paso)\n",
        "  mutation_sigma = guy[n:]*(1+(alpha*np.random.normal(0, 1, n)))\n",
        "\n",
        "  \n",
        "  # Verificamos que los nuevos valores no sean menores a épsilon\n",
        "  # Si se cumple para alguno de los valores, este será igual a epsilon\n",
        "  mutation_sigma[mutation_sigma < epsilon] = epsilon\n",
        "\n",
        "  # Mutamos las variables de decisión a partir de las mutaciones\n",
        "  mutation_x = guy[:n] + (mutation_sigma*np.random.normal(0, 1, n))\n",
        "\n",
        "  # Revisamos que las variables de decisión estén dentro de los límites\n",
        "  # De lo contrario las igualamos al limite\n",
        "  # PROPONER OTRO CAMINO Y EVALUAR\n",
        "  mutation_x[mutation_x < -30] = randint(-30, 0)\n",
        "  mutation_x[mutation_x > 30] = randint(0, 31)\n",
        "\n",
        "  # Creamos el nuevo Individuo y lo devolvemos\n",
        "  return [np.concatenate((mutation_x, mutation_sigma)), fitness(mutation_x, n)]"
      ],
      "execution_count": 6,
      "outputs": []
    },
    {
      "cell_type": "markdown",
      "metadata": {
        "id": "VcqxQX4WYjW-"
      },
      "source": [
        "Dado que se trata de un algoritmo pseudoestocastico, ya que tiene componentes deterministas y algunos estocasticos. He elegido evaluar que la variable de decisión de tal forma que si se revasa los limites, se le reasigne un número aleatorio dentro de los limites. Esto con la finalidad de añadir más componentes estocasticos al algoritmo y dejar un poco más de lado lo determinista, tal como sigue:\n",
        "\n",
        "```\n",
        "mutation_x[mutation_x < -30] = -30\n",
        "mutation_x[mutation_x > 30] = 30\n",
        "```\n",
        "\n"
      ]
    },
    {
      "cell_type": "code",
      "metadata": {
        "id": "3ArWbjLLUVOM"
      },
      "source": [
        "#guys = getInitialPopulation(100,2)\n",
        "#print(guys[0][0])\n",
        "#child = mutation(guys[0][0], num_variables, alpha, epsilon)\n",
        "#print(child)"
      ],
      "execution_count": 7,
      "outputs": []
    },
    {
      "cell_type": "markdown",
      "metadata": {
        "id": "MlJfdw1bWWWK"
      },
      "source": [
        "**Algoritmo Completo**\n",
        "---"
      ]
    },
    {
      "cell_type": "code",
      "metadata": {
        "id": "SGpz7Bq2WRO5"
      },
      "source": [
        "def PE(n, mu, num_gen, alpha, epsilon):\n",
        "  \"\"\"\n",
        "  n = int, num of decision variables\n",
        "  mu = int, poblation size\n",
        "  num_gen = int; generations number\n",
        "  alpha = float, mutation parameter\n",
        "  epsilon = float, tolerance number\n",
        "  return: best solution for the function\n",
        "  \"\"\"\n",
        "  \n",
        "  parents = getInitialPopulation(mu, n)\n",
        "\n",
        "  for _ in range(num_gen):\n",
        "    new_gen = parents.copy()\n",
        "    for parent in parents:\n",
        "      # Creamos un hijo\n",
        "      child = mutation(parent[0], n, alpha, epsilon)\n",
        "      # Agregamos al hijo a la nueva generación\n",
        "      new_gen.append(child)\n",
        "\n",
        "    # En este caso utilizaremos una selección más, por lo tanto\n",
        "    # ordenamos del peor individuo al mejor individuo \n",
        "    # (del menor valor de aptitud al mayor)\n",
        "    #print(new_gen)\n",
        "    new_gen = sorted(new_gen, key=lambda individual: individual[-1])\n",
        "    #print(\"\\n\", new_gen)\n",
        "    \n",
        "    # Nos quedamos con los mu mejores individuos\n",
        "    new_gen = new_gen[mu:]\n",
        "    #print(\"\\n\", new_gen)\n",
        "    #return (None)\n",
        "    parents = new_gen.copy()\n",
        "  \n",
        "  \n",
        "  #for tmp in parents:\n",
        "    #print(tmp)\n",
        "  \n",
        "  # Devolvemos el mejor\n",
        "  # parents[-1][0] = lista de los 2n valores (mitad x y mitad o)\n",
        "  # -parents[-1][1] = resultado del fitness aplicado a las x\n",
        "  return (parents[-1][0], -parents[-1][1])"
      ],
      "execution_count": 8,
      "outputs": []
    },
    {
      "cell_type": "code",
      "metadata": {
        "id": "5slrap_fYZIj"
      },
      "source": [
        "#print(PE(num_variables, poblation_size, generations_number, alpha, epsilon))\n",
        "#sol, fx = PE(num_variables, poblation_size, generations_number, alpha, epsilon)\n",
        "#Xs = sol[:num_variables]\n",
        "#Sigmas = sol[num_variables:]\n",
        "#print(f\"Xs: {Xs}\\nSigmas: {Sigmas}\\nf(x): {round(fx,3)}\")"
      ],
      "execution_count": 9,
      "outputs": []
    },
    {
      "cell_type": "markdown",
      "metadata": {
        "id": "sg1iYjpv6GO2"
      },
      "source": [
        "> Su mínimo global está en $x_{i} = 0$ y $f(\\overrightarrow{x}) = 0.0$"
      ]
    },
    {
      "cell_type": "markdown",
      "metadata": {
        "id": "0QItI_MEKeiv"
      },
      "source": [
        "# **INPUT** \n",
        "---\n",
        "1. La primer línea tendrá el número de variables que tendrá a la función de Ackley $\\textbf{n}$\n",
        "\n",
        "2. La segunda línea tendrá el tamaño de la población y el número máximo de generaciones, *separados por un espacio*\n",
        "\n",
        "3. La tercer línea tendrá el valor de los parámetros $\\alpha$ y $\\epsilon$, separados por un espacio"
      ]
    },
    {
      "cell_type": "code",
      "metadata": {
        "id": "YzUQcp9WFuex"
      },
      "source": [
        "def get_data_by_txt(name_file: str):\n",
        "  \"\"\"function to read the input from file txt\n",
        "  name_file = str with the name file.txt\n",
        "  return: int num_variables, int poblation_size, int generations_number, float alpha. float epsilon \n",
        "  \"\"\"\n",
        "\n",
        "  with open('input.txt', 'r') as fichero:\n",
        "    num_variables = fichero.readline()\n",
        "    poblation_size, generations_number = fichero.readline().split(' ')\n",
        "    alpha, epsilon = fichero.readline().split(' ')\n",
        "    # casteamos al tipo de dato correcto \n",
        "    num_variables = int(num_variables)\n",
        "    poblation_size = int(poblation_size)\n",
        "    generations_number = int(generations_number)\n",
        "    alpha = float(alpha)\n",
        "    epsilon = float(epsilon)\n",
        "\n",
        "    return (num_variables, poblation_size, generations_number, alpha, epsilon)"
      ],
      "execution_count": 10,
      "outputs": []
    },
    {
      "cell_type": "code",
      "metadata": {
        "id": "hFodwgFVNG2P"
      },
      "source": [
        "#num_variables, poblation_size, generations_number, alpha, epsilon = get_data_by_txt(\"input.txt\")\n",
        "#print(num_variables, poblation_size, generations_number, alpha, epsilon)"
      ],
      "execution_count": 11,
      "outputs": []
    },
    {
      "cell_type": "markdown",
      "metadata": {
        "id": "J4yFJhCnpPIK"
      },
      "source": [
        "# Main\n",
        "---"
      ]
    },
    {
      "cell_type": "code",
      "metadata": {
        "id": "_JAnPOtLTIq2",
        "colab": {
          "base_uri": "https://localhost:8080/"
        },
        "outputId": "74a157af-8a62-4704-cf94-0d073dc99a6d"
      },
      "source": [
        " if __name__ == \"__main__\":\n",
        " \n",
        "  #file_name = str(input(\"Nombre del archivo: \"))\n",
        "  #num_variables, poblation_size, generations_number, alpha, epsilon = get_data_by_txt(file_name)\n",
        "  opt = int(input(\"1) Datos a mano\\n2) Datos por txt\\nIntroduce un número: \"))\n",
        "  if opt == 1:\n",
        "    num_variables = int(input(\"Número de variables: \"))\n",
        "    poblation_size = int(input(\"Tamaño de la población: \"))\n",
        "    generations_number = int(input(\"Número de generaciones: \"))\n",
        "    alpha = float(input(\"Valor de alpha: \"))\n",
        "    epsilon = float(input(\"Valor de epsilon: \"))\n",
        "  \n",
        "  elif opt == 2: \n",
        "    num_variables, poblation_size, generations_number, alpha, epsilon = get_data_by_txt(\"input.txt\")\n",
        "  else: \n",
        "    print(\"Opción no disponible\")\n",
        "  # Nota: Se deben reportar los resultados del algoritmo para las\n",
        "  # siguientes instancias: 5, 10 y 20 variables de decisión.\n",
        "  # Recuerde que puede variar los parámetros del algoritmo (tamaño de la \n",
        "  # población, número de generaciones\").\n",
        "\n",
        "  M = int(input(\"Número de ejecuciones: \"))\n",
        "    \n",
        "  # ------------------------------------------PARTE 2\n",
        "  #1. Mejor solución encontrada considerando las M ejecuciones.\n",
        "  #2. Peor solución encontrada considerando las M ejecuciones.\n",
        "  #3. Solución que corresponde a la mediana considerando las M ejecuciones.\n",
        "  #4. Media del valor de la función objetivo considerando las M ejecuciones.\n",
        "  #5. Desviación est ́andar del valor de la función objetivo considerando las M ejecuciones.\n",
        "\n",
        "  solutions = []\n",
        "  conteo = 0\n",
        "  #En los primeros tres puntos indica tanto el valor de x (lista de objetos y su\n",
        "  #correspondiente cadena binaria) como el valor de las funciones f (valor de la mochila) y g (peso de la mochila).\n",
        "  while conteo != M:\n",
        "    sol, fx = PE(num_variables, poblation_size, generations_number, alpha, epsilon)\n",
        "    #Xs = sol[:num_variables]\n",
        "    #Sigmas = sol[num_variables:]\n",
        "    solutions.append([sol, fx])\n",
        "    conteo += 1  \n",
        "\n",
        "     \n",
        "  \n",
        "  my_f_sol = [x[-1] for x in solutions] # fitness/ la evaluación de las x en la funcióón objetivo\n",
        "  \n",
        "    \n",
        "  # Ordenamos del peor individuo al mejor individuo con base en el fitness \n",
        "  solutions = sorted(solutions, key=lambda value: value[-1]) \n",
        "\n",
        "  # mejor solución\n",
        "  best_Xs = solutions[0][0][:num_variables]\n",
        "  best_Sigmas = solutions[0][0][num_variables:]\n",
        "  best_fx = solutions[0][-1]\n",
        "  print(f\"\\nMEJOR SOLUCION\\n X's: {best_Xs}\\nSigmas: {best_Sigmas}\\nf(x): {round(best_fx,3)}\")\n",
        "  # peor solución\n",
        "  worst_Xs = solutions[-1][0][:num_variables]\n",
        "  worst_Sigmas = solutions[-1][0][num_variables:]\n",
        "  worst_fx = solutions[-1][-1]\n",
        "  print(f\"PEOR SOLUCION\\n X's: {worst_Xs}\\nSigmas: {worst_Sigmas}\\nf(x): {round(worst_fx,3)}\")  \n",
        "  print(f\"MEDIANA\\n X's: {solutions[M//2][0][:num_variables]}\\nSigmas: {solutions[M//2][0][num_variables:]}\\nf(x): {round(solutions[M//2][-1],3)}\")\n",
        "  print(\"MEDIA DE LAS FITNESS\\n\", np.mean(my_f_sol))\n",
        "  print(\"DESVIACION ESTANDAR DE LAS FITNESS\\n\", np.std(my_f_sol))\n",
        "\n"
      ],
      "execution_count": 18,
      "outputs": [
        {
          "output_type": "stream",
          "text": [
            "1) Datos a mano\n",
            "2) Datos por txt\n",
            "Introduce un número: 1\n",
            "Número de variables: 10\n",
            "Número de ejecuciones: 1000\n",
            "\n",
            "MEJOR SOLUCION\n",
            " X's: [ 0.0045152   0.00075988  0.00475325 -0.00038708 -0.02435038  0.00024418\n",
            " -0.0183235   0.02604997  0.01117783 -0.02369965]\n",
            "Sigmas: [0.0116969  0.0001     0.0001     0.0001     0.00415816 0.0001\n",
            " 0.01087061 0.0001     0.0001     0.0001    ]\n",
            "f(x): 0.074\n",
            "PEOR SOLUCION\n",
            " X's: [ 6.99598738  6.99465073 -1.99849188  1.99743612  3.99772355  9.99308595\n",
            " 16.98918002  0.99936624 17.98892801  0.99975293]\n",
            "Sigmas: [0.0001     0.0001     0.0001     0.00022641 0.00032319 0.0001\n",
            " 0.0001     0.00023391 0.00012132 0.0001    ]\n",
            "f(x): 16.789\n",
            "MEDIANA\n",
            " X's: [ 9.68096361e-01  9.95061737e-01 -7.96135980e-03  2.14445692e-03\n",
            "  9.89147263e-01  9.99871351e-01  9.87932166e-01  9.90790922e-01\n",
            "  2.98374097e+00  4.93476350e+00]\n",
            "Sigmas: [0.00020917 0.00182665 0.0001     0.00324803 0.00577215 0.00010158\n",
            " 0.0001     0.01416165 0.00024469 0.0001    ]\n",
            "f(x): 6.566\n",
            "MEDIA DE LAS FITNESS\n",
            " 7.124412664578651\n",
            "DESVIACION ESTANDAR DE LAS FITNESS\n",
            " 3.8598447151497894\n"
          ],
          "name": "stdout"
        }
      ]
    },
    {
      "cell_type": "markdown",
      "metadata": {
        "id": "pl3rN6vfjuJF"
      },
      "source": [
        "# **Resultados**\n",
        "\n",
        "## n = 5\n",
        "> Número de ejecuciones = 100\n",
        "```\n",
        "MEJOR SOLUCION\n",
        " X's: [-1.62036010e-05 -1.71289378e-05  1.41171710e-05 -7.67381288e-06\n",
        "  1.49993736e-05]\n",
        "Sigmas: [0.00013667 0.00032539 0.0001     0.0001     0.00017973]\n",
        "f(x): 0.0\n",
        "PEOR SOLUCION\n",
        " X's: [ 1.09741526e+01  4.98827068e+00  9.97641185e-01 -2.09526719e-05\n",
        " -4.05536850e-05]\n",
        "Sigmas: [0.00011253 0.00011383 0.0001     0.00025668 0.00030095]\n",
        "f(x): 13.23\n",
        "MEDIANA\n",
        " X's: [ 1.79453613e-05  9.45352089e-01  2.88086745e-05 -1.11987066e-05\n",
        "  9.45412382e-01]\n",
        "Sigmas: [0.0001     0.0001     0.00014842 0.00022322 0.00010381]\n",
        "f(x): 2.317\n",
        "MEDIA DE LAS FITNESS\n",
        " 2.893811578715165\n",
        "DESVIACION ESTANDAR DE LAS FITNESS\n",
        " 3.112272436973118\n",
        "```\n",
        "\n",
        "\n",
        "\n",
        "## n = 10 \n",
        "> Número de ejecuciones = 100\n",
        "\n",
        "```\n",
        "MEJOR SOLUCION\n",
        " X's: [ 0.00307628  0.07154816 -0.02416617  0.12001407  0.08271466 -0.01984347\n",
        "  0.04526667  0.06972563 -0.01238512 -0.02548058]\n",
        "Sigmas: [1.00000000e-04 1.22149373e-01 2.83086969e-04 2.11376405e-04\n",
        " 2.44904838e-04 4.61229174e-04 1.00000000e-04 1.00000000e-04\n",
        " 1.00000000e-04 1.00000000e-04]\n",
        "f(x): 0.412\n",
        "PEOR SOLUCION\n",
        " X's: [12.9891006  -0.9992072   1.99834784  4.99599988  4.99599019  0.99896934\n",
        "  4.99582709 11.99002795  4.99593678 16.98593202]\n",
        "Sigmas: [0.00012535 0.0001     0.00010493 0.0001     0.0001     0.00032409\n",
        " 0.0001     0.0001     0.00027115 0.0001    ]\n",
        "f(x): 16.281\n",
        "MEDIANA\n",
        " X's: [ 1.0133202   5.96695473  0.08086425  1.01140741 -0.97054949  1.01580088\n",
        " -1.04552821  0.03537899 -2.10692036 -1.00289257]\n",
        "Sigmas: [8.98058808e+00 1.97075710e-04 1.00000000e-04 1.00000000e-04\n",
        " 1.46333192e-03 1.00000000e-04 2.65729406e-02 3.19947182e-04\n",
        " 1.00000000e-04 3.46447012e-04]\n",
        "f(x): 7.109\n",
        "MEDIA DE LAS FITNESS\n",
        " 7.445055038682716\n",
        "DESVIACION ESTANDAR DE LAS FITNESS\n",
        " 3.9068061374222705\n",
        "```\n",
        "\n",
        "\n",
        " \n",
        "## n = 20\n",
        "> Número de ejecuciones = 100\n",
        "\n",
        "```\n",
        "MEJOR SOLUCION\n",
        " X's: [ 0.17848684  0.86204387 -1.01863474 -1.0724038   0.95890567  4.13661845\n",
        "  0.39789309  3.0171237   2.72138765 -0.85319077 -0.26925651 -0.99002892\n",
        "  0.22514868  0.64495898  0.08788658 -1.07513346 -1.11902064  0.95780707\n",
        "  0.02234067  1.02400942]\n",
        "Sigmas: [2.77787653e-04 1.00000000e-04 1.20000224e-04 1.00000000e-04\n",
        " 3.53358654e-04 3.29324077e-04 1.00000000e-04 1.47694548e-04\n",
        " 4.48607012e-03 1.54648387e-04 1.00000000e-04 1.64589110e-03\n",
        " 5.02166772e-04 1.00000000e-04 1.03327459e-04 5.26573396e-04\n",
        " 1.75940957e-01 1.61883317e-04 2.16827288e-03 2.68533671e-04]\n",
        "f(x): 6.129\n",
        "PEOR SOLUCION\n",
        " X's: [ 1.69844810e+01  1.00035978e+00 -6.00837693e+00  1.79865271e+01\n",
        "  1.39996076e+01  9.97329973e-01  1.00378733e+00 -9.99670362e+00\n",
        "  7.99169521e+00  3.00777612e+00  1.99339428e+00  9.99211566e+00\n",
        "  9.95420990e-01  6.73072306e-03  1.29834270e+01 -1.99420807e+00\n",
        "  1.29973719e+01  2.09805932e+01  1.99808499e+00  6.99663355e+00]\n",
        "Sigmas: [0.00048505 0.00322274 0.0001     0.00025293 0.0001     0.0001\n",
        " 0.00020839 0.00018116 0.0001     0.00018121 0.0001     0.00345614\n",
        " 0.00012809 0.0009693  0.0001     0.0001     0.00165429 0.01894341\n",
        " 0.000166   0.00077355]\n",
        "f(x): 17.242\n",
        "MEDIANA\n",
        " X's: [ 1.71409802e-03  4.99980618e+00  8.10824783e+00  2.01222752e+00\n",
        "  1.98286999e+00  1.96941753e+00  4.92882805e+00  1.00125457e+01\n",
        "  1.04543773e+00  7.95362936e+00 -6.95963067e+00  2.18215178e+00\n",
        "  9.00130432e-01  0.00000000e+00  2.00649718e+00  2.03631858e+00\n",
        "  1.98008243e+00 -3.99073005e+00 -1.20020373e+01  3.03579056e+00]\n",
        "Sigmas: [1.86728262e-03 1.00000000e-04 1.00000000e-04 2.76816043e-04\n",
        " 1.00000000e-04 2.93810399e-03 2.17685902e-04 1.00000000e-04\n",
        " 1.00000000e-04 1.00000000e-04 1.60121033e-03 1.10265797e-04\n",
        " 1.00000000e-04 4.77007431e+01 1.00000000e-04 1.00000000e-04\n",
        " 1.66186109e-04 1.00000000e-04 1.00000000e-04 1.00000000e-04]\n",
        "f(x): 13.006\n",
        "MEDIA DE LAS FITNESS\n",
        " 13.077336391770105\n",
        "DESVIACION ESTANDAR DE LAS FITNESS\n",
        " 2.3057006800713062\n",
        "```\n",
        "\n"
      ]
    },
    {
      "cell_type": "markdown",
      "metadata": {
        "id": "hlcuAsSKeD_B"
      },
      "source": [
        "He realizado nuevamente la ejecución para un **número de variables** igual a **10** pero ahora para **1000 ejecuciones**, si bien tardo más de 8 minutos en completar la ejecución, no hubo mucha mejora en los resultados: \n",
        "\n",
        "\n",
        "```\n",
        "MEJOR SOLUCION\n",
        " X's: [ 0.0045152   0.00075988  0.00475325 -0.00038708 -0.02435038  0.00024418\n",
        " -0.0183235   0.02604997  0.01117783 -0.02369965]\n",
        "Sigmas: [0.0116969  0.0001     0.0001     0.0001     0.00415816 0.0001\n",
        " 0.01087061 0.0001     0.0001     0.0001    ]\n",
        "f(x): 0.074\n",
        "PEOR SOLUCION\n",
        " X's: [ 6.99598738  6.99465073 -1.99849188  1.99743612  3.99772355  9.99308595\n",
        " 16.98918002  0.99936624 17.98892801  0.99975293]\n",
        "Sigmas: [0.0001     0.0001     0.0001     0.00022641 0.00032319 0.0001\n",
        " 0.0001     0.00023391 0.00012132 0.0001    ]\n",
        "f(x): 16.789\n",
        "MEDIANA\n",
        " X's: [ 9.68096361e-01  9.95061737e-01 -7.96135980e-03  2.14445692e-03\n",
        "  9.89147263e-01  9.99871351e-01  9.87932166e-01  9.90790922e-01\n",
        "  2.98374097e+00  4.93476350e+00]\n",
        "Sigmas: [0.00020917 0.00182665 0.0001     0.00324803 0.00577215 0.00010158\n",
        " 0.0001     0.01416165 0.00024469 0.0001    ]\n",
        "f(x): 6.566\n",
        "MEDIA DE LAS FITNESS\n",
        " 7.124412664578651\n",
        "DESVIACION ESTANDAR DE LAS FITNESS\n",
        " 3.8598447151497894\n",
        "```\n",
        "\n",
        "### NOTA\n",
        "> En las corridas mostradas, lo único que varió fue el número de variables de decisión. \n"
      ]
    },
    {
      "cell_type": "code",
      "metadata": {
        "id": "Z1_RKnJvaOhd"
      },
      "source": [
        ""
      ],
      "execution_count": 12,
      "outputs": []
    }
  ]
}