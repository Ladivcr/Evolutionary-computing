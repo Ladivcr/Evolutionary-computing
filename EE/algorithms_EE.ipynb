{
  "nbformat": 4,
  "nbformat_minor": 5,
  "metadata": {
    "kernelspec": {
      "display_name": "Python 3",
      "language": "python",
      "name": "python3"
    },
    "language_info": {
      "codemirror_mode": {
        "name": "ipython",
        "version": 3
      },
      "file_extension": ".py",
      "mimetype": "text/x-python",
      "name": "python",
      "nbconvert_exporter": "python",
      "pygments_lexer": "ipython3",
      "version": "3.8.8"
    },
    "colab": {
      "name": "algorithms_EE.ipynb",
      "provenance": [],
      "collapsed_sections": []
    }
  },
  "cells": [
    {
      "cell_type": "markdown",
      "metadata": {
        "id": "f216df2b"
      },
      "source": [
        "# Algoritmo 4: (1+1)-EE\n",
        "TODO: Entrada\n",
        "- Valor inicial de o (desviación estándar), constante c, número máximo de generaciones G y parámetros de entrada para el problema que se quiere resolver.\n",
        "\n",
        "TODO: Salida\n",
        "- Mejor solución encontrada.\n",
        "\n",
        "TODO: Pasos del algoritmo (1+1)-EE\n",
        "\n",
        "**Primero:** crea un individuo inicial x que es conocido como **padre**\n",
        "**Después:** genera un hijo y = x + z, donde z es un vector generado con números aleatorios utilizando una distribución normal con media 0 y desviación estándar $\\sigma:$ $z_{i}$ = N(0, $\\sigma$). El valor de $\\sigma$ controla qué tanto son perturbadas las variables de decisión a la hora de generar un hijo. Este valor se ajusta a cada determinado número de iteraciones, es decir se auto-adapta, utilizando **la regla del éxito 1/5**. Esta regla enuncia que la tasa de mutaciones exitosas (es decir, mutaciones en las que el hijo es mejor que el padre), debería ser exactamente de 1/5. La regla del éxito del 1/5 es aplicada cada k iteraciones de la siguiente forma:\n",
        "\n",
        "$\\sigma$ = {$\\sigma$/c Sí p_{s} > 1/5, $\\sigma$*c Sí p_{s} < 1/5, o si p_{s} = 1/5}\n",
        "\n",
        "Dónde $p_{s}$ es el porcentaje de mutaciones exitosas y 0.817 <= c <= 1 Si se tiene demasiadas mutaciones\n",
        "exitosas ($p_{s}$ > 1/5), o debería ser incrementado para realizar una búsqueda más amplia en el espacio de soluciones.\n",
        "\n",
        "Si se tienen muy pocas mutaciones exitosas ($p_{s}$ < 1/5), o debería ser decrementado para para concentrar la búsqueda alrededor del individuo actual. Finalmente, padre e hijo compiten y el que tenga una mejor aptitud será el padre de la siguiente iteración.\n",
        "\n",
        "# REPRESENTACIÓN\n",
        "\n",
        "Cada individuo almacena tanto las variables del problema que se desea resolver como los parámetros que utiliza la EE en el operador de mutación. Por ejemplo: $[x_{1}, ..., x_{n}, \\sigma_{1}, ..., \\sigma_{m}]$\n",
        "$x_{1}, ..., x_{n}$ son valores flotantes asociados a cada una de las n variables de decisión del problema.\n",
        "$\\sigma_{1}, ..., \\sigma_{m}$ definen las formas de las distribuciónes utilizadas para mutar a los individuos (tamaños de paso) **regularmente se utiliza m=1 ó m=n;**\n",
        "\n",
        "# SELECCIÓN DE PADRES\n",
        "Las EEs seleccionan a los individuos que serán padres de manera aleatoria, utilizando una distribución uniforme.\n",
        "los individuos tiene la misma probabilidad de ser padres, sin importar su aptitud.\n",
        "\n",
        "# CRUZA\n",
        "Regularmente, el operador de recombinación o cruza utiliza dos individuos (padres) para generar un nuevo individuo (hijo).Tenemos: \n",
        "    - Recombinación discreta \n",
        "    - Recombinación intermedia:\n",
        "\n",
        "**DISCRETA:** Recorre uno a uno los componentes de cada padre y se decide de manera aleatoria si la información del nuevo individuo se toma del padre 1 ó del padre 2.\n",
        "\n",
        "**INTERMEDIA:** La recombinación intermedia genera al nuevo individuo utilizando el promedio de ambos padres para cada componente. Supongamos que a partir de los padres X e Y, se va a generar al hijo Z.\n",
        "Quedando los operadores de la siguiente forma:\n",
        "- Recombinación discreta: $Z_{i} = X_{i}$ ó $Y_{i}$ (elegido aleatoriamente)\n",
        "- Recombinación intermedia: $Z_{i} = X_{i} + Y_{i} / 2$\n",
        "\n",
        "# MUTACIÓN\n",
        "El operador de mutación utiliza una distribución normal. \n",
        "Este tipo de distribución requiere de dos parámetros: la media u y la desviación estándar $\\sigma$. \n",
        "Regularmente, u es igual a cero (0), o se va estableciendo conforme la búsqueda avanza. \n",
        "\n",
        "**Las variables de decisión se mutan de la siguiente forma:** \n",
        "\n",
        "$$\n",
        "X^{´}_{i} = X_{i} + \\sigma^{´}_{i} * N(0,1)$$\n",
        "Donde N(0,1) genera un número aleatorio utilizando una distribución normal con \n",
        "media 0 y desviación estándar 1. \n",
        "\n",
        "**MUTACIÓN CON UN ÚNICO TAMAÑO DE PASO**\n",
        "\n",
        "Cuando se tiene un único valor o en cada individuo: $[x_{1}, ..., x_{n}, 0]$, el valor o se muta de la siguiente manera: \n",
        "\n",
        "$$\n",
        "\\sigma^{'} = \\sigma * e^{t*N(0,1)}\n",
        "$$\n",
        "\n",
        "Dónde N(0, 1) genera un número aleatorio utilizando una distribución \n",
        "normal con media 0 y desviación estándar 1. t es un parámetro de entrada al algoritmo\n",
        "que es visto como una tasa de aprendizaje. Regularmente se usa. t = 1/$sqrt(n)$, dónde n es el número de variables del problema.\n",
        "\n",
        "**Para evitar valores muy pequeños en $\\sigma$, si $\\sigma^{'}$ < $E_{0}$ se hace $\\sigma^{'}$ = $E_{0}$ \n",
        "\n",
        "**SELECCIÓN DE SOBREVIVIENTES**\n",
        "Las EEs suelen utilizar algunos de los siguinetes esquemas de selección de sobrevivientes: \n",
        "\n",
        "- **SELECCIÓN (u, $\\lambda$)**. A partir de u posibles padres, se generan $\\lambda$ hijos, con $\\lambda$ >= u. De los $\\lambda$ hijos, se seleccionan a los u mejores.Estos individuos formarán parte de la siguiente iteración. Este tipo de selección se recomienda en problemas en los que el óptimo es dinámico o cuando la función es multmimodal. Se recomienda utilizar $\\lambda$ = 7u\n",
        "\n",
        "- **SELECCIÓN (u+$\\lambda$)**. A partir de u posibles padres, se generan $\\lambda$ hijos. Se unen las poblaciones de padres e hijos y se seleccionan a los mejores u individuos. Estos individuos formarán parte de las siguiente iteración. Este tipo se considera elitista. \n",
        "\n",
        "\n",
        "**REPRESENTACIÓN DE UN INDIVIDUO** \n",
        "Cada individuo será visto como un arreglo de tamaño n + 1. Las primeras\n",
        "n componentes corresponden a las variables de decisión del problema $x_{i}$ y\n",
        "la última componente corresponde con el tamaño de paso. En este caso\n",
        "usaremos un único tamaño de paso para todas las variables de decisión.\n",
        "Si n = 2, un posible individuo es: $[ 10.3, 7.84, 0.84]$\n",
        "\n",
        "**POBLACIÓN INICIAL** \n",
        "Generamos un individuo de la siguiente forma: Utilizando una distribución\n",
        "uniforme, generamos n números aleatorios en el intervalo $[ 30, 30]$ y los guardamos en las primeras\n",
        "n posiciones de un arreglo de tamaño n + 1. Posteriormente, generamos otro número aleatorio en el intervalo (0, 1) y lo guardamos en la última posición de nuestro arreglo. Repetimos el mismo procedimiento\n",
        "para generar la cantidad de individuos que se deseen. En este caso usaremos\n",
        "una población de tamaño μ = 100.\n"
      ],
      "id": "f216df2b"
    },
    {
      "cell_type": "markdown",
      "metadata": {
        "id": "e44408a8"
      },
      "source": [
        "# Ejercicios\n",
        "[X] Implementar el algoritmo 4 para resolver la función de Ackley\n",
        "\n",
        "\n",
        "---\n",
        "\n",
        "\n",
        "$$\n",
        "min f(\\overrightarrow{x}) = -20 \\ast exp \\left( -0.2 \\ast \\sqrt{\\frac{1}{n} \\sum_{i=1}^{n}x^{2}_{i}}\\right) - exp \\left( \\frac{1}{n} \\sum_{i=1}^{n} cos(2 \\pi x_{i})  \\right) + 20 + e\n",
        "$$\n",
        "\n",
        "> La función $f$ es conocida como la **función de Ackley**, su dominio es $|x_{i}| \\leq 30$ y su mínimo global está en $x_{i} = 0$ y $f(\\overrightarrow{x}) = 0.0$\n",
        "\n",
        "\n",
        "[X] Implementar un algoritmo basado en EEs para resolver la función de Ackley. El objetivo es mejorar los resultados obtenidos con el diseño propuesto en el ejemplo\n",
        "\n",
        "[X] Permitir al usuario realizar M ejecuciones del algoritmo de EE, implementado en el punto anterior, para resolver la instancia del problema de Ackley. Reportar: Mejor solución, Peor solución, La media de soluciones, desviación estandar del valor de la función objetivo\n",
        "\n",
        "[x] Realizar una tabla comparativa que reporte los resultados de\n",
        "las tres versiones de EEs implementadas: (1 + 1)-EE, (μ,$\\lambda$)-EE y la versión propuesta. Se deben reportar los resultados para problemas con 2, 5, 7 y 10 variables."
      ],
      "id": "e44408a8"
    },
    {
      "cell_type": "markdown",
      "metadata": {
        "id": "4kOtGCqTpiEV"
      },
      "source": [
        "# Ejercicio 1 \n",
        "---\n",
        "Implementar en el lenguaje de su preferencia, el algoritmo 4 para resolver la función de Ackley"
      ],
      "id": "4kOtGCqTpiEV"
    },
    {
      "cell_type": "code",
      "metadata": {
        "id": "c9439e98"
      },
      "source": [
        "from math import exp\n",
        "from math import sqrt\n",
        "from math import cos\n",
        "from math import e\n",
        "from math import pi\n",
        "import numpy as np\n",
        "from numpy import std\n",
        "from random import randint"
      ],
      "id": "c9439e98",
      "execution_count": 4,
      "outputs": []
    },
    {
      "cell_type": "code",
      "metadata": {
        "id": "5ddba1b0"
      },
      "source": [
        "# TODO: Función de Ackley\n",
        "def f(x, n): \n",
        "  \"\"\"\n",
        "  x = list\n",
        "  n = int, num of decisition variables\n",
        "  return: float number\n",
        "  \"\"\"\n",
        "  #print(\"f\", x)\n",
        "  #print(\"FF\", x[0])\n",
        "  # Para efectuar la primer sumatoria\n",
        "  sum1 = 0\n",
        "  for i in range(n): \n",
        "    sum1 += x[i]**2\n",
        "  sumatoria1 = (1/n)*sum1\n",
        "  # Para efectuar la segunda sumatoria\n",
        "  sum2 = 0\n",
        "  for i in range(n): \n",
        "    sum2 += cos(2*pi*x[i])\n",
        "  sumatoria2 = (1/n)*sum2\n",
        "\n",
        "  return (-20 * exp(-0.2*sqrt(sumatoria1)) - exp(sumatoria2) + 20 + e)"
      ],
      "id": "5ddba1b0",
      "execution_count": 149,
      "outputs": []
    },
    {
      "cell_type": "code",
      "metadata": {
        "id": "50e30150"
      },
      "source": [
        "def fitness(x, n):\n",
        "  \"\"\"\n",
        "  x = list\n",
        "  n = int, num of decision variables\n",
        "  return: float number\n",
        "  \"\"\"\n",
        "  return -f(x, n)"
      ],
      "id": "50e30150",
      "execution_count": 150,
      "outputs": []
    },
    {
      "cell_type": "markdown",
      "metadata": {
        "id": "4436ddfb"
      },
      "source": [
        "# Representación del individuo\n",
        "\n",
        "Un arreglo de valores flotantes de tamaño 4. Las primeras dos componentes corresponden a las dos variables del problema. Las siguentes dos componentes corresponden a los tamaños de paso para la mutación de cada una de las variables del problema.\n",
        "\n",
        "x1 = abs(np.random.uniform(-30, 30))\n",
        "\n",
        "x2 = abs(np.random.uniform(-30, 30))\n",
        "\n",
        "$\\sigma$1 = np.random.uniform(0,1)\n",
        "\n",
        "$\\sigma$2 = np.random.uniform(0,1)\n",
        "\n",
        "\n",
        "X = [x1, x2, $\\sigma$1, $\\sigma$2]"
      ],
      "id": "4436ddfb"
    },
    {
      "cell_type": "markdown",
      "metadata": {
        "id": "cb106ad6"
      },
      "source": [
        "# Población Inicial"
      ],
      "id": "cb106ad6"
    },
    {
      "cell_type": "code",
      "metadata": {
        "id": "511ab603"
      },
      "source": [
        "# En general, el arreglo de representación \n",
        "# del individuo es de tamaño 2n\n",
        "# Donde\n",
        "# Las primer mitad de componentes corresponden a las n variables del problema.\n",
        "# Las otra mitad de componentes corresponden a los n tamaños de paso para la mutación\n",
        "# de cada una de las variables del problema.\n",
        "def getInitialPopulation(n, mu=False):\n",
        "    \"\"\"\n",
        "    mu = int, poblation size\n",
        "    n = int, num of decision variables\n",
        "    return: list with initial population and their fitness by guy\n",
        "    \"\"\"\n",
        "    if mu != False:\n",
        "      population = []\n",
        "      for i in range(mu):\n",
        "        #Generamos un individuo\n",
        "        guy = np.concatenate((abs(np.random.uniform(-30, 30, n)), np.random.uniform(0, 1, 1)), axis=0)\n",
        "\n",
        "        #Calculamos la aptitud del individuo\n",
        "        guy = [guy, fitness(guy[:n], n)]\n",
        "        #print(guy)\n",
        "        #break\n",
        "\n",
        "        #Agregamos al individuo a la población \"parents\"\n",
        "        population.append(guy)\n",
        "      \n",
        "      # Regresamos la población generada\n",
        "      # Arreglo de arreglos, donde un indice corresponde a un individuo formado como: \n",
        "      # mitad variables del problema, mitad variables de mutación y fitness\n",
        "      return population\n",
        "    \n",
        "    else:\n",
        "      left = np.random.uniform(-30,30,n)\n",
        "      right = np.random.uniform(0,1,1)\n",
        "      left_fitness = f(left, n) \n",
        "      guy =  np.concatenate((left, right), axis=0)\n",
        "      guy = [guy, left_fitness]\n",
        "      \n",
        "    return guy\n",
        "\n",
        "    \n",
        "    "
      ],
      "id": "511ab603",
      "execution_count": 151,
      "outputs": []
    },
    {
      "cell_type": "markdown",
      "metadata": {
        "id": "b2470343"
      },
      "source": [
        "# Mutación "
      ],
      "id": "b2470343"
    },
    {
      "cell_type": "code",
      "metadata": {
        "id": "585e2ced"
      },
      "source": [
        "def mutation(guy, n):\n",
        "    \"\"\"\n",
        "      guy = list, guy number any\n",
        "      n = int, num of decision variables\n",
        "      return: list, new guy\n",
        "    \"\"\"\n",
        "\n",
        "    # Mutamos los componentes de nuestro arreglo\n",
        "    # TODO: Recordemos que o (sigma) se va estableciendo conforme la búsqueda avanza\n",
        "    # por lo que le asignamos un primer valor\n",
        "    o = guy[0][-1]\n",
        "    for i in range(n):\n",
        "      guy[0][i] = guy[0][i]+o*np.random.normal(0,1)\n",
        "      \n",
        "\n",
        "    # Revisamos que las variables de decisión estén dentro de los límites\n",
        "    # De lo contrario las igualamos al limite\n",
        "    #guy[:n < -30] = -30\n",
        "    #guy[:n > 30] = 30\n",
        "    #print(guy)\n",
        "    for i in range(n):\n",
        "      if guy[0][i] < -30: guy[0][i] = -30\n",
        "      elif guy[0][i] > 30: guy[0][i] = 30\n",
        "    #print(guy)\n",
        "\n",
        "    guy_fitness = fitness(guy[0][:n], n)\n",
        "    # Creamos el nuevo Individuo y lo devolvemos\n",
        "    return [[guy, guy_fitness]][0][0]"
      ],
      "id": "585e2ced",
      "execution_count": 153,
      "outputs": []
    },
    {
      "cell_type": "markdown",
      "metadata": {
        "id": "FYkEYKyHY2h0"
      },
      "source": [
        "# Main: (1+1)-EE"
      ],
      "id": "FYkEYKyHY2h0"
    },
    {
      "cell_type": "code",
      "metadata": {
        "id": "64bc3a88"
      },
      "source": [
        "def one_one_EE(o, c, G, k, n):\n",
        "    \"\"\"\n",
        "    o: float - init value sd \n",
        "    c: int - constant value\n",
        "    G: int - max number of generations\n",
        "    k: int - Actualizacion generaciones\n",
        "    n: int, num of decision variables\n",
        "    \"\"\"\n",
        "    t = 0\n",
        "    m_successful = 0\n",
        "    # Obtener solución inicial x\n",
        "    x = getInitialPopulation(n)\n",
        "    # Evaluar f(x)\n",
        "    #x_Eval = fitness(x, n) # TODO: Revisando el pseudocódigo de (1+1)-EE, no me queda claro la finalidad de sta evaluación\n",
        "    while t <= G: \n",
        "      # Mutar solución x_head = x´i = xi + o *Ni(0,1)\n",
        "      x_head = mutation(x, n)\n",
        "      \n",
        "      if x_head  < x: \n",
        "        x = x_head\n",
        "        m_successful += 1\n",
        "      \n",
        "      t += 1\n",
        "      if t % k == 0: \n",
        "        Ps = m_successful/k\n",
        "        \n",
        "        if Ps > 1/5:\n",
        "          o = o/c\n",
        "\n",
        "        elif Ps < 1/5: \n",
        "          o = o*c\n",
        "\n",
        "        m_successful = 0\n",
        "\n",
        "    return x_head\n",
        "        "
      ],
      "id": "64bc3a88",
      "execution_count": 155,
      "outputs": []
    },
    {
      "cell_type": "code",
      "metadata": {
        "id": "2WdssLNSpmgx"
      },
      "source": [
        "#!pip install python-dotenv"
      ],
      "id": "2WdssLNSpmgx",
      "execution_count": 156,
      "outputs": []
    },
    {
      "cell_type": "code",
      "metadata": {
        "colab": {
          "base_uri": "https://localhost:8080/"
        },
        "id": "XBGP9jXLpjiO",
        "outputId": "3b404170-24d0-4638-bb55-6a7f75770ad7"
      },
      "source": [
        "from dotenv import dotenv_values\n",
        "if __name__==\"__main__\":\n",
        "  variables = dotenv_values(\"11-EE.txt\")\n",
        "  O = float(variables[\"11eeO\"])\n",
        "  C = float(variables[\"11eeC\"])\n",
        "  GG = float(variables[\"11eeG\"])\n",
        "  K = float(variables[\"11eeK\"])\n",
        "  N = int(variables[\"11eeN\"])\n",
        "  print(N)\n",
        "  one_one_EE(o=O, c=C, G=GG, k=K, n=N)\n",
        "\n",
        "  M = int(input(\"Número de ejecuciones: \"))\n",
        "\n",
        "  solutions = {}\n",
        "  conteo = 0\n",
        "  while conteo != M:\n",
        "    current = one_one_EE(o=O, c=C, G=GG, k=K, n=N)\n",
        "    xs = current[0][:-1]\n",
        "    fx = current[1]\n",
        "    solutions[tuple(xs)] = fx\n",
        "    conteo += 1  \n",
        "\n",
        "  \n",
        "  # TODO: Ordenamos de menor a mayor por fitness\n",
        "  solutions = sorted(solutions.items(), key=lambda x: x[1])\n",
        "  #print(solutions)\n",
        "  #print(solutions[0]) #best\n",
        "  #print(solutions[-1]) #faild\n",
        "  \n",
        "  # MEJOR SOLUCION\n",
        "  print(f\"\\nMEJOR SOLUCION\\nXs: {solutions[0][0][:-1]}\\nfx: {solutions[0][1]}\")\n",
        "  # PEOR SOLUCION \n",
        "  print(f\"\\nPEOR SOLUCION\\nXs: {solutions[-1][0][:-1]}\\nfx: {solutions[-1][1]}\")\n",
        "  # MEDIANAS\n",
        "  print(\"\\nMEDIANA: Xs&fx\")\n",
        "  tmp_X = []\n",
        "  tmp_F = []\n",
        "  for i in range(len(solutions)): \n",
        "    tmpX = solutions[i][0][:-1]\n",
        "    tmpF = solutions[i][1]\n",
        "    tmp_X.append(tmpX)\n",
        "    tmp_F.append(tmpF)\n",
        "\n",
        "\n",
        "  num_ele = len(tmp_X[0])\n",
        "  aux = [0 for i in range(num_ele)]\n",
        "  \n",
        "  for element in tmp_X:\n",
        "    for i in range(num_ele):\n",
        "      aux[i] += element[i]\n",
        "\n",
        "  for i in range(len(aux)):\n",
        "    aux[i] = aux[i]/len(tmp_X)\n",
        "\n",
        "  # Media de ambos\n",
        "  print(f\"Xs&fx: {aux} & {sum(tmp_F)/len(tmp_F)}\")\n",
        "  \n",
        "  # Media del valor de la f objetivo\n",
        "  print(\"\\nMEDIA FUNCION OBJETIVO\")\n",
        "  print(f\"Media: {sum(tmp_F)/len(tmp_F)}\")\n",
        "\n",
        "  # Desviación estánda de la f objetivo\n",
        "  print(\"\\nDESVIACION ESTANDAR FUNCION OBJETIVO\")\n",
        "  print(f\"SD: {np.std(tmp_F)}\")\n",
        "    "
      ],
      "id": "XBGP9jXLpjiO",
      "execution_count": 165,
      "outputs": [
        {
          "output_type": "stream",
          "text": [
            "10\n",
            "Número de ejecuciones: 5000\n",
            "\n",
            "MEJOR SOLUCION\n",
            "Xs: (-2.044246570159379, 17.88231351065758, -6.052851320747088, -1.1693274828589078, -0.9154921722675008, 7.962487770169621, -2.9105446028522426, -6.105693861656952, 1.1571605460194185)\n",
            "fx: 17.547398709030844\n",
            "\n",
            "PEOR SOLUCION\n",
            "Xs: (15.130841356357774, 21.870701365438478, 29.77423858024341, 28.481443809529747, 26.140565658607038, -28.105194874326962, -25.515260304844062, -2.2332799251082722, -30.0)\n",
            "fx: 21.94152537433068\n",
            "\n",
            "MEDIANA: Xs&fx\n",
            "Xs&fx: [0.010372363820764036, -0.02250920550874845, -0.18706328010297152, 0.4985264746541095, 0.08681879516998701, -0.27355355064089315, 0.08632618368508485, -0.36110568281307387, 0.031095853796096355] & 20.946555311456187\n",
            "\n",
            "MEDIA FUNCION OBJETIVO\n",
            "Media: 20.946555311456187\n",
            "\n",
            "DESVIACION ESTANDAR FUNCION OBJETIVO\n",
            "SD: 0.4664691168459052\n"
          ],
          "name": "stdout"
        }
      ]
    },
    {
      "cell_type": "markdown",
      "metadata": {
        "id": "iOO__A4pYvzb"
      },
      "source": [
        "# Implementación: ($\\mu$, $\\lambda$)-EE\n",
        "---\n",
        "\n",
        "Dado que para realizar la tabla comparativa necesito este algoritmo, he de implementarlo aquí con apoyo del manual"
      ],
      "id": "iOO__A4pYvzb"
    },
    {
      "cell_type": "code",
      "metadata": {
        "id": "Wrj_umqcL41r"
      },
      "source": [
        "import numpy as np\n",
        "from copy import copy\n",
        "from math import e, exp, sqrt, pi, cos\n",
        "from random import choices"
      ],
      "id": "Wrj_umqcL41r",
      "execution_count": 169,
      "outputs": []
    },
    {
      "cell_type": "markdown",
      "metadata": {
        "id": "qJ7ab0aEe9Kd"
      },
      "source": [
        "## Representación del individuo"
      ],
      "id": "qJ7ab0aEe9Kd"
    },
    {
      "cell_type": "code",
      "metadata": {
        "id": "U_vUMAOGamzz"
      },
      "source": [
        "# TODO: Representación de un individuo \n",
        "# Representación: Cada individuo será visto como un arreglo de valroes flotantes de tamaño n+1\n",
        "# Las primeras n componentes corresponden a las variables de decisión del problema \n",
        "# y las siguiente componente corresponde al tamaño de paso para la mutación de las variables del problema\n"
      ],
      "id": "U_vUMAOGamzz",
      "execution_count": 171,
      "outputs": []
    },
    {
      "cell_type": "markdown",
      "metadata": {
        "id": "MX0kpzVxfAX1"
      },
      "source": [
        "## Aptitud"
      ],
      "id": "MX0kpzVxfAX1"
    },
    {
      "cell_type": "code",
      "metadata": {
        "id": "Ww8b-hQte6wT"
      },
      "source": [
        "def f(x): \n",
        "  part1 = 20*exp(-0.2*sqrt(np.average(x**2)))\n",
        "  part2 = exp(np.average(np.array([cos(i) for i in 2*pi*x])))\n",
        "  return -part1-part2+20+e\n",
        "\n",
        "def fitness(x):\n",
        "  return -f(x)"
      ],
      "id": "Ww8b-hQte6wT",
      "execution_count": 172,
      "outputs": []
    },
    {
      "cell_type": "markdown",
      "metadata": {
        "id": "hyuV4p4Cflri"
      },
      "source": [
        "## Población inicial \n",
        "---\n",
        "Por cada individuo requerido, se utiliza una distribución uniforme para generar números aleatorios. Primero se generan n números en el intervalo [30, 30], cada uno corresponde a una variable de decisión. Posteriormente, un número aleatorio en el intervalo (0, 1) que\n",
        "corresponde al tamaño de paso."
      ],
      "id": "hyuV4p4Cflri"
    },
    {
      "cell_type": "code",
      "metadata": {
        "id": "0OG23nJwfj92"
      },
      "source": [
        "def getInitialPopulation(mu, n):\n",
        "  population = []\n",
        "  for i in range(mu):\n",
        "    #Generamos un individuo\n",
        "    p = np.concatenate((np.random.uniform(-30, 30, n),\n",
        "    np.random.uniform(0, 1, 1)))\n",
        "    #Calculamos la aptitud del individuo\n",
        "    p = [p, fitness(p[:n])]\n",
        "    #Agregamos al individuo a la población \"parents\"\n",
        "    population.append(p)\n",
        "    \n",
        "  return population"
      ],
      "id": "0OG23nJwfj92",
      "execution_count": 174,
      "outputs": []
    },
    {
      "cell_type": "markdown",
      "metadata": {
        "id": "44wD3vqWgJNv"
      },
      "source": [
        "## Cruza\n",
        "\n",
        "Recombinación discreta local. Utilizando una distribución uniforme, generamos un número aleatorio en el intervalo (0, 1) por cada componente de nuestro individuo. Recordemos que las primeras n componentes del individuo corresponden a sus variables de decisión y la última componente a su tamaño de paso. Si el valor es menor a 0.5, el hijo\n",
        "se queda con el valor del primer padre. De lo contrario, el hijo se queda con el valor del\n",
        "segundo padre."
      ],
      "id": "44wD3vqWgJNv"
    },
    {
      "cell_type": "code",
      "metadata": {
        "id": "oRV-0JkHgFSL"
      },
      "source": [
        "def localDiscreteCrossover(parent_1, parent_2):\n",
        "  N = len(parent_1)\n",
        "  #Creamos un vector con N componentes en el intervalo\n",
        "  # (0,1) con distribución uniforme\n",
        "  z = np.random.uniform(0, 1, N)\n",
        "  child = np.array([0.0]*N)\n",
        "  #Asignamos el valor del padre correspondiente\n",
        "  for i in range(N):\n",
        "    if z[i] < 0.5:\n",
        "      child[i] = parent_1[i]\n",
        "  else:\n",
        "    child[i] = parent_2[i]\n",
        "  \n",
        "  #Regresamos el individuo generado\n",
        "  return child"
      ],
      "id": "oRV-0JkHgFSL",
      "execution_count": 176,
      "outputs": []
    },
    {
      "cell_type": "markdown",
      "metadata": {
        "id": "rZuU9tIeiFb0"
      },
      "source": [
        "## Mutación \n",
        "para mutar necesitamos: \n",
        "\n",
        "- tamaño de paso: $\\sigma^{´} = \\sigma * e^{t*N(0,1)}$\n",
        "\n",
        "Si el valor de $\\sigma^{´}$ es de menor a $\\epsilon_{0}$ hacemos que \n",
        "$\\sigma^{'} = \\epsilon_{0}$ Posteriormente utilizamos $\\sigma^{'}$ para mutar las variables de decisión\n"
      ],
      "id": "rZuU9tIeiFb0"
    },
    {
      "cell_type": "markdown",
      "metadata": {
        "id": "PICNvZYejExn"
      },
      "source": [
        "Si n = 2, nuestras variables de deción mutadas quedan de la siguiente forma: \n",
        "\n",
        "$$\n",
        "x^{'}_{1} = x_{1} + \\sigma^{'} * N(0,1)\n",
        "$$\n",
        "\n",
        "$$\n",
        "x^{'}_{2} = x_{2} + \\sigma^{'} * N(0,1)\n",
        "$$"
      ],
      "id": "PICNvZYejExn"
    },
    {
      "cell_type": "markdown",
      "metadata": {
        "id": "JeaceEPmjke5"
      },
      "source": [
        "Revisamos que las variables de decisión generadas estén dentro del rango que indica el problema. En caso de que no, se les asigna el valor del límite que rebasó. Construimos el individuo: \n",
        "\n",
        "$$\n",
        "i^{'} = [x^{'}_{1}, x^{'}_{2}, \\sigma^{'}]\n",
        "$$"
      ],
      "id": "JeaceEPmjke5"
    },
    {
      "cell_type": "code",
      "metadata": {
        "id": "ywW9CzxEiEXl"
      },
      "source": [
        "def mutation(i, n, epsilon, tau):\n",
        "  #Mutamos el tamaño de paso\n",
        "  mutation_sigma = i[-1]*(e**(tau*np.random.normal(0, 1, 1)))\n",
        "  #Verificamos que el nuevo valor no sea menor a épsilon\n",
        "  if mutation_sigma[0] < epsilon:\n",
        "    mutation_sigma[0] = epsilon\n",
        "\n",
        "  #Mutamos las variables de decisión\n",
        "  mutation_x = i[:n] + (mutation_sigma[0]*np.random.normal(0, 1, n))\n",
        "\n",
        "  #Revisamos que estén dentro de los límites\n",
        "  mutation_x[mutation_x < -30] = -30\n",
        "  mutation_x[mutation_x > 30] = 30\n",
        "\n",
        "  return np.concatenate((mutation_x, mutation_sigma))"
      ],
      "id": "ywW9CzxEiEXl",
      "execution_count": 178,
      "outputs": []
    },
    {
      "cell_type": "markdown",
      "metadata": {
        "id": "YeNA1UQwllfI"
      },
      "source": [
        "## Crear hijo usando cruza y mutación "
      ],
      "id": "YeNA1UQwllfI"
    },
    {
      "cell_type": "code",
      "metadata": {
        "id": "pOY0Uw8dkNdT"
      },
      "source": [
        "def createChild(parent_1, parent_2, n, epsilon, tau):\n",
        "  new_ind = localDiscreteCrossover(parent_1, parent_2)\n",
        "  new_ind = mutation(new_ind, n, epsilon, tau)\n",
        "\n",
        "  #Regresamos el nuevo individuo, junto con su valor de apitud\n",
        "  return [new_ind, fitness(new_ind[:n])]"
      ],
      "id": "pOY0Uw8dkNdT",
      "execution_count": 180,
      "outputs": []
    },
    {
      "cell_type": "markdown",
      "metadata": {
        "id": "4PVdkxuZl3rD"
      },
      "source": [
        "## Main: $(\\mu, \\lambda)$ - EE\n",
        "---\n",
        "Se usa una selección ($μ, \\lambda$) donde μ=100 y $\\lambda$=700. Se elegirán dos padres al azar para\n",
        "generar un hijo nuevo y este proceso se llevará a cabo 700 veces. De los hijos resultantes,\n",
        "se elegirán a los 100 mejores que pasarán a la siguiente generación."
      ],
      "id": "4PVdkxuZl3rD"
    },
    {
      "cell_type": "code",
      "metadata": {
        "id": "sop5VXPOltua"
      },
      "source": [
        "def EvolutionStrategies(n, G, epsilon=0.01, tau=None, mu_=100, lambda_=700):\n",
        "  #Si el usuario no define tau,\n",
        "  #se usa el valor recomendado en la literatura\n",
        "  if tau == None:\n",
        "    tau = 1/sqrt(n)\n",
        "\n",
        "  population = getInitialPopulation(mu_, n)\n",
        "  #Generamos los índices de los individuos para poder elegirlos\n",
        "  #aleatoriamente\n",
        "  population_idx = range(mu_)\n",
        "\n",
        "  #Repetimos el proceso por G generaciones\n",
        "  for _ in range(G):\n",
        "    offspring = []\n",
        "    #Generamos lambda_ hijos\n",
        "    for i in range(lambda_):\n",
        "      #Seleccionamos a los padres\n",
        "      parents_idx = choices(population_idx, k=2)\n",
        "      parent_1 = population[population_idx[0]][0]\n",
        "      parent_2 = population[population_idx[1]][0]\n",
        "      #Creamos el hijo y lo añadimos a la población de hijos\n",
        "      offspring.append( createChild(parent_1, parent_2, n, epsilon, tau) )\n",
        "    \n",
        "    #Ordenamos del mejor individuo al peor individuo\n",
        "    offspring.sort(key=lambda x: x[-1], reverse=True)\n",
        "    #Seleccionamos a los mu_ mejores\n",
        "    population = offspring[:mu_].copy()\n",
        "\n",
        "  #Regresamos el mejor individuo\n",
        "  return population[0][0], -population[0][1]"
      ],
      "id": "sop5VXPOltua",
      "execution_count": 182,
      "outputs": []
    },
    {
      "cell_type": "code",
      "metadata": {
        "colab": {
          "base_uri": "https://localhost:8080/"
        },
        "id": "kNrDkyVtnJsR",
        "outputId": "89548e96-9412-412a-b0e1-7830763d9724"
      },
      "source": [
        "from dotenv import dotenv_values\n",
        "if __name__==\"__main__\":\n",
        "  variables = dotenv_values(\"11-EE.txt\")\n",
        "  N = int(variables[\"mulambdaN\"])\n",
        "  MU_ = int(variables[\"mulambdaMu\"]) #tamaño de la población\n",
        "  LAMBDA_ = int(variables[\"mulambdaLambda\"]) #Cantidad de hijos que se generan por generación\n",
        "  GG = int(variables[\"mulambdaG\"]) #número de generaciones\n",
        "  TAU = 1/sqrt(n) #tasa de aprendizaje\n",
        "  EPSILON = float(variables[\"mulambdaEpsilon\"]) #valor mínimo de sigma (tamaño de paso)\n",
        "\n",
        "  print(N)  \n",
        "  M = int(input(\"Número de ejecuciones: \"))\n",
        "\n",
        "  solutions = {}\n",
        "  conteo = 0\n",
        "  while conteo != M:\n",
        "    current_xs, current_fx = EvolutionStrategies(n=N, G=GG, epsilon=EPSILON,tau=TAU, mu_=MU_, lambda_=LAMBDA_)\n",
        "    xs = current_xs[:N]\n",
        "    fx = current_fx\n",
        "    solutions[tuple(xs)] = fx\n",
        "    conteo += 1  \n",
        "\n",
        "  \n",
        "  # TODO: Ordenamos de menor a mayor por fitness\n",
        "  solutions = sorted(solutions.items(), key=lambda x: x[1])\n",
        "  #print(solutions)\n",
        "  #print(solutions[0]) #best\n",
        "  #print(solutions[-1]) #faild\n",
        "  \n",
        "  # MEJOR SOLUCION\n",
        "  print(f\"\\nMEJOR SOLUCION\\nXs: {solutions[0][0][:-1]}\\nfx: {solutions[0][1]}\")\n",
        "  # PEOR SOLUCION \n",
        "  print(f\"\\nPEOR SOLUCION\\nXs: {solutions[-1][0][:-1]}\\nfx: {solutions[-1][1]}\")\n",
        "  # MEDIANAS\n",
        "  print(\"\\nMEDIANA: Xs&fx\")\n",
        "  tmp_X = []\n",
        "  tmp_F = []\n",
        "  for i in range(len(solutions)): \n",
        "    tmpX = solutions[i][0][:-1]\n",
        "    tmpF = solutions[i][1]\n",
        "    tmp_X.append(tmpX)\n",
        "    tmp_F.append(tmpF)\n",
        "\n",
        "\n",
        "  num_ele = len(tmp_X[0])\n",
        "  aux = [0 for i in range(num_ele)]\n",
        "  \n",
        "  for element in tmp_X:\n",
        "    for i in range(num_ele):\n",
        "      aux[i] += element[i]\n",
        "\n",
        "  for i in range(len(aux)):\n",
        "    aux[i] = aux[i]/len(tmp_X)\n",
        "\n",
        "  # Media de ambos\n",
        "  print(f\"Xs&fx: {aux} & {sum(tmp_F)/len(tmp_F)}\")\n",
        "  \n",
        "  # Media del valor de la f objetivo\n",
        "  print(\"\\nMEDIA FUNCION OBJETIVO\")\n",
        "  print(f\"Media: {sum(tmp_F)/len(tmp_F)}\")\n",
        "\n",
        "  # Desviación estánda de la f objetivo\n",
        "  print(\"\\nDESVIACION ESTANDAR FUNCION OBJETIVO\")\n",
        "  print(f\"SD: {np.std(tmp_F)}\")  \n",
        "  "
      ],
      "id": "kNrDkyVtnJsR",
      "execution_count": 191,
      "outputs": [
        {
          "output_type": "stream",
          "text": [
            "10\n",
            "Número de ejecuciones: 10\n",
            "\n",
            "MEJOR SOLUCION\n",
            "Xs: (-0.007856224531891857, -0.004900643004742735, 0.0023537358139212325, -0.0008414020724393399, 0.002150847399051097, 0.0046581898315798944, -0.0012226454308359954, 0.001062616874116001, 0.002619402286077113)\n",
            "fx: 0.014992679304719037\n",
            "\n",
            "PEOR SOLUCION\n",
            "Xs: (-0.0047211243877690635, -0.005492142626463613, -0.002548911092052195, -0.0015819740857767558, 0.0019770234868002746, 0.0067102071411357725, 0.005643268025221114, 0.007040333883980928, -0.002103292223683865)\n",
            "fx: 0.020937350486651685\n",
            "\n",
            "MEDIANA: Xs&fx\n",
            "Xs&fx: [-0.0016897703135800156, -0.0015113848830057494, -0.001775757451882999, 0.0014822654723971043, 0.002669917249006662, 0.001753149609581519, 0.00021638853540399913, -0.0006085943719727511, 0.0001282185673733577] & 0.018763338761734704\n",
            "\n",
            "MEDIA FUNCION OBJETIVO\n",
            "Media: 0.018763338761734704\n",
            "\n",
            "DESVIACION ESTANDAR FUNCION OBJETIVO\n",
            "SD: 0.0021167310260617705\n"
          ],
          "name": "stdout"
        }
      ]
    },
    {
      "cell_type": "markdown",
      "metadata": {
        "id": "0f71FLPJqOM8"
      },
      "source": [
        "# Ejercicio 2\n",
        "---\n",
        "Implementar, en el lenguaje de su preferencia, un algoritmo basado en EEs para resolver la función de Ackley. El objetivo es mejorar los resultados obtenidos con el diseño propuesto \n",
        "\n",
        "\n",
        "---\n",
        "Para resolver esta parte del ejercicio voy a hacer uso de la implementación $(\\mu, \\lambda)-EE$ sin embargo voy a modificar dos partes, la __cruza__ y la __mutación__ ya que considero que son las partes fundamentales de un algoritmo basado en EEs y por lo tanto no he de crearlo desde cero sino que puedo reutilizar algunas funciones que ya hay en este documento"
      ],
      "id": "0f71FLPJqOM8"
    },
    {
      "cell_type": "code",
      "metadata": {
        "id": "d8GRbM4cRcdT"
      },
      "source": [
        "import numpy as np\n",
        "from copy import copy\n",
        "from math import e, exp, sqrt, pi, cos\n",
        "from random import choices"
      ],
      "id": "d8GRbM4cRcdT",
      "execution_count": 192,
      "outputs": []
    },
    {
      "cell_type": "markdown",
      "metadata": {
        "id": "dw_1AOnTDrS7"
      },
      "source": [
        "## Función y calculo de aptitud"
      ],
      "id": "dw_1AOnTDrS7"
    },
    {
      "cell_type": "code",
      "metadata": {
        "id": "lbz8YM6No_20"
      },
      "source": [
        "def f(x): \n",
        "  part1 = 20*exp(-0.2*sqrt(np.average(x**2)))\n",
        "  part2 = exp(np.average(np.array([cos(i) for i in 2*pi*x])))\n",
        "  return -part1-part2+20+e\n",
        "\n",
        "def fitness(x):\n",
        "  return -f(x)"
      ],
      "id": "lbz8YM6No_20",
      "execution_count": 193,
      "outputs": []
    },
    {
      "cell_type": "markdown",
      "metadata": {
        "id": "1YKdaipfDx0K"
      },
      "source": [
        "## Población inicial "
      ],
      "id": "1YKdaipfDx0K"
    },
    {
      "cell_type": "code",
      "metadata": {
        "id": "Cp0d6QAzDuZ4"
      },
      "source": [
        "def getInitialPopulation_plus(mu, n):\n",
        "  population = []\n",
        "  for i in range(mu):\n",
        "    #Generamos un individuo\n",
        "    p = np.concatenate((np.random.uniform(-30, 30, n),\n",
        "    np.random.uniform(0, 1, 1)))\n",
        "    #Calculamos la aptitud del individuo\n",
        "    p = [p, fitness(p[:n])]\n",
        "    #Agregamos al individuo a la población \"parents\"\n",
        "    population.append(p)\n",
        "    \n",
        "  return population"
      ],
      "id": "Cp0d6QAzDuZ4",
      "execution_count": 194,
      "outputs": []
    },
    {
      "cell_type": "markdown",
      "metadata": {
        "id": "-wwV4FgvGQXh"
      },
      "source": [
        "## Cruza modificada"
      ],
      "id": "-wwV4FgvGQXh"
    },
    {
      "cell_type": "code",
      "metadata": {
        "id": "O809nuh9DzdT"
      },
      "source": [
        "def localDiscreteCrossover_modified(parent_1, parent_2):\n",
        "  N = len(parent_1)\n",
        "  #Creamos un vector con N componentes en el intervalo\n",
        "  # generamos a los padres a partir de una distribución de chi cuadrada\n",
        "  # de tal forma que privilegiamos más a unos números que a otros\n",
        "  z = np.random.chisquare(1, N)\n",
        "  \n",
        "  child = np.array([0.0]*N)\n",
        "  \n",
        "  #Asignamos el valor del padre correspondiente\n",
        "  # En este caso, daremos más libertad de elección, es decir\n",
        "  # la ampliaremos a 0.8 a su vez, el hijo no sé quedara con el \n",
        "  # valor del primer padre sino que se quedara con un promedio \n",
        "  # de ambos, que básicamente sería recombinación intermedia\n",
        "  for i in range(N):\n",
        "    if z[i] < 0.8:\n",
        "      child[i] = (parent_1[i]+parent_2[i])/2\n",
        "    else:\n",
        "      child[i] = parent_2[i]\n",
        "  \n",
        "  #Regresamos el individuo generado\n",
        "  return child"
      ],
      "id": "O809nuh9DzdT",
      "execution_count": 195,
      "outputs": []
    },
    {
      "cell_type": "markdown",
      "metadata": {
        "id": "Ewvj0cUNGVTf"
      },
      "source": [
        "## Mutación modificada"
      ],
      "id": "Ewvj0cUNGVTf"
    },
    {
      "cell_type": "code",
      "metadata": {
        "id": "g9p6ga2lGScv"
      },
      "source": [
        "def mutation_modified(i, n, epsilon, tau):\n",
        "  #Mutamos el tamaño de paso\n",
        "  mutation_sigma = i[-1]*(e**(tau*np.random.normal(0, 1, 1)))\n",
        "  #Verificamos que el nuevo valor no sea menor a épsilon\n",
        "  if mutation_sigma[0] < epsilon:\n",
        "    mutation_sigma[0] = epsilon\n",
        "\n",
        "  #Mutamos las variables de decisión\n",
        "  mutation_x = i[:n] + (mutation_sigma[0]*np.random.normal(0, 1, n))\n",
        "\n",
        "  # En lugar de hacer una asignación fija, vamos a implementar una asignación variable\n",
        "  aux_less = -1*int(30/2)\n",
        "  aux_plus = int(30/2)\n",
        "  for i in range(len(mutation_x)): \n",
        "    if mutation_x[i] < -30: \n",
        "      mutation_x[i] = aux_less\n",
        "      if (aux_less > -30) == False: \n",
        "        aux_less = -20\n",
        "      else: \n",
        "        aux_less += -2\n",
        "    \n",
        "    if mutation_x[i] > 30: \n",
        "      mutation_x[i] = aux_plus\n",
        "      if (aux_plus > 30) == True:\n",
        "        aux_plus = 20\n",
        "      else: \n",
        "        aux_plus += 2\n",
        "\n",
        "  return np.concatenate((mutation_x, mutation_sigma))"
      ],
      "id": "g9p6ga2lGScv",
      "execution_count": 197,
      "outputs": []
    },
    {
      "cell_type": "markdown",
      "metadata": {
        "id": "rk2rXkNCGZO6"
      },
      "source": [
        "## Creación de hijos"
      ],
      "id": "rk2rXkNCGZO6"
    },
    {
      "cell_type": "code",
      "metadata": {
        "id": "TJ97cAuuGW8g"
      },
      "source": [
        "def createChild_plus(parent_1, parent_2, n, epsilon, tau):\n",
        "  new_ind = localDiscreteCrossover_modified(parent_1, parent_2)\n",
        "  new_ind = mutation_modified(new_ind, n, epsilon, tau)\n",
        "\n",
        "  #Regresamos el nuevo individuo, junto con su valor de apitud\n",
        "  return [new_ind, fitness(new_ind[:n])]"
      ],
      "id": "TJ97cAuuGW8g",
      "execution_count": 199,
      "outputs": []
    },
    {
      "cell_type": "markdown",
      "metadata": {
        "id": "5mh0wGMuGh4-"
      },
      "source": [
        "## ($\\mu, \\lambda$)-EE Modificada"
      ],
      "id": "5mh0wGMuGh4-"
    },
    {
      "cell_type": "code",
      "metadata": {
        "id": "LqOItKNuGdnA"
      },
      "source": [
        "def EvolutionStrategies_with_plus(n, G, epsilon=0.01, tau=None, mu_=100, lambda_=700):\n",
        "  #Si el usuario no define tau,\n",
        "  #se usa el valor recomendado en la literatura\n",
        "  if tau == None:\n",
        "    tau = 1/sqrt(n)\n",
        "\n",
        "  population = getInitialPopulation_plus(mu_, n)\n",
        "  #Generamos los índices de los individuos para poder elegirlos\n",
        "  #aleatoriamente\n",
        "  population_idx = range(mu_)\n",
        "\n",
        "  #Repetimos el proceso por G generaciones\n",
        "  for _ in range(G):\n",
        "    offspring = []\n",
        "    #Generamos lambda_ hijos\n",
        "    for i in range(lambda_):\n",
        "      #Seleccionamos a los padres\n",
        "      parents_idx = choices(population_idx, k=2)\n",
        "      parent_1 = population[population_idx[0]][0]\n",
        "      parent_2 = population[population_idx[1]][0]\n",
        "      #Creamos el hijo y lo añadimos a la población de hijos\n",
        "      offspring.append( createChild_plus(parent_1, parent_2, n, epsilon, tau) )\n",
        "    \n",
        "    #Ordenamos del mejor individuo al peor individuo\n",
        "    offspring.sort(key=lambda x: x[-1], reverse=True)\n",
        "    #Seleccionamos a los mu_ mejores\n",
        "    population = offspring[:mu_].copy()\n",
        "\n",
        "  \n",
        "  #Regresamos el mejor individuo\n",
        "  return population[0][0], -population[0][1]"
      ],
      "id": "LqOItKNuGdnA",
      "execution_count": 200,
      "outputs": []
    },
    {
      "cell_type": "markdown",
      "metadata": {
        "id": "dW-5rWd_jpoD"
      },
      "source": [
        "# Ejercicio 3\n",
        "---\n",
        "Permitir al usuario realizar M ejecuciones del algoritmo de EE, implementado en el punto anterior para resolver la instancia del problema de Ackley. \n",
        "\n",
        "Reportar: Mejor solución, Peor solución, La media de soluciones, desviación estandar del valor de la función objetivo"
      ],
      "id": "dW-5rWd_jpoD"
    },
    {
      "cell_type": "code",
      "metadata": {
        "id": "Ukxw2BtTde7h",
        "colab": {
          "base_uri": "https://localhost:8080/"
        },
        "outputId": "a78b7971-a7e9-4b5e-cc9b-be0bff8409b2"
      },
      "source": [
        "from dotenv import dotenv_values\n",
        "if __name__==\"__main__\":\n",
        "  variables = dotenv_values(\"11-EE.txt\")\n",
        "  N = int(variables[\"plusN\"])\n",
        "  MU_ = int(variables[\"plusMu\"]) \n",
        "  LAMBDA_ = int(variables[\"plusLambda\"]) \n",
        "  GG = int(variables[\"plusG\"]) \n",
        "  TAU = 1/sqrt(n) \n",
        "  EPSILON = float(variables[\"plusEpsilon\"]) \n",
        "\n",
        "  M = int(input(\"Número de ejecuciones: \"))\n",
        "\n",
        "  print(N)\n",
        "  solutions = {}\n",
        "  conteo = 0\n",
        "  while conteo != M:\n",
        "    current_xs, current_fx = EvolutionStrategies_with_plus(n=N, G=GG, epsilon=EPSILON,tau=TAU, mu_=MU_, lambda_=LAMBDA_)\n",
        "    xs = current_xs[:N]\n",
        "    fx = current_fx\n",
        "    solutions[tuple(xs)] = fx\n",
        "    conteo += 1  \n",
        "\n",
        "  \n",
        "  # TODO: Ordenamos de menor a mayor por fitness\n",
        "  solutions = sorted(solutions.items(), key=lambda x: x[1])\n",
        "  #print(solutions)\n",
        "  #print(solutions[0]) #best\n",
        "  #print(solutions[-1]) #faild\n",
        "  \n",
        "  # MEJOR SOLUCION\n",
        "  print(f\"\\nMEJOR SOLUCION\\nXs: {solutions[0][0][:-1]}\\nfx: {solutions[0][1]}\")\n",
        "  # PEOR SOLUCION \n",
        "  print(f\"\\nPEOR SOLUCION\\nXs: {solutions[-1][0][:-1]}\\nfx: {solutions[-1][1]}\")\n",
        "  # MEDIANAS\n",
        "  print(\"\\nMEDIANA: Xs&fx\")\n",
        "  tmp_X = []\n",
        "  tmp_F = []\n",
        "  for i in range(len(solutions)): \n",
        "    tmpX = solutions[i][0][:-1]\n",
        "    tmpF = solutions[i][1]\n",
        "    tmp_X.append(tmpX)\n",
        "    tmp_F.append(tmpF)\n",
        "\n",
        "\n",
        "  num_ele = len(tmp_X[0])\n",
        "  aux = [0 for i in range(num_ele)]\n",
        "  \n",
        "  for element in tmp_X:\n",
        "    for i in range(num_ele):\n",
        "      aux[i] += element[i]\n",
        "\n",
        "  for i in range(len(aux)):\n",
        "    aux[i] = aux[i]/len(tmp_X)\n",
        "\n",
        "  # Media de ambos\n",
        "  print(f\"Xs&fx: {aux} & {sum(tmp_F)/len(tmp_F)}\")\n",
        "  \n",
        "  # Media del valor de la f objetivo\n",
        "  print(\"\\nMEDIA FUNCION OBJETIVO\")\n",
        "  print(f\"Media: {sum(tmp_F)/len(tmp_F)}\")\n",
        "\n",
        "  # Desviación estánda de la f objetivo\n",
        "  print(\"\\nDESVIACION ESTANDAR FUNCION OBJETIVO\")\n",
        "  print(f\"SD: {np.std(tmp_F)}\")  "
      ],
      "id": "Ukxw2BtTde7h",
      "execution_count": 208,
      "outputs": [
        {
          "output_type": "stream",
          "text": [
            "Número de ejecuciones: 10\n",
            "10\n",
            "\n",
            "MEJOR SOLUCION\n",
            "Xs: (0.004420046587569724, 0.00035445490769713895, 0.004402534446553326, 0.00014611252983356754, 0.000172854842535602, 0.009088904085331414, -0.0018491751790590946, -0.002416399144102829, 0.006050284694682531)\n",
            "fx: 0.017466030363323615\n",
            "\n",
            "PEOR SOLUCION\n",
            "Xs: (-19.998994302737838, -3.9970848747708967, -0.0023164593762708564, -1.0028266951330405, 5.001517168997477, -17.996775554301692, 6.988993889518492, 19.99069474715385, -0.9978270129615832)\n",
            "fx: 17.890848805206414\n",
            "\n",
            "MEDIANA: Xs&fx\n",
            "Xs&fx: [-1.6994488066475821, -1.6984491923289482, -0.398483036213164, 1.4979317807581385, -0.1997073087455182, -0.29671741469677926, 1.3980132590082726, 1.796938309170787, -1.399356606663876] & 3.525860155614563\n",
            "\n",
            "MEDIA FUNCION OBJETIVO\n",
            "Media: 3.525860155614563\n",
            "\n",
            "DESVIACION ESTANDAR FUNCION OBJETIVO\n",
            "SD: 7.014478993012486\n"
          ],
          "name": "stdout"
        }
      ]
    },
    {
      "cell_type": "markdown",
      "metadata": {
        "id": "D9xYDunATJcf"
      },
      "source": [
        "# Ejercicio 4\n",
        "---\n",
        "Me ha resultado muy dificil hacer una tabla comparativa aquí con markdown, lo siento mucho si esto te complica más el revisar los resultados. No es mi intención dificultarte la evaluación. \n",
        "\n"
      ],
      "id": "D9xYDunATJcf"
    },
    {
      "cell_type": "markdown",
      "metadata": {
        "id": "kfh5SViMTTEZ"
      },
      "source": [
        "## Resultados\n",
        "\n",
        "# ALGORITMO (1+1)-EE\n",
        "\n",
        "## n = 2\n",
        "\n",
        "MEJOR SOLUCION\n",
        "Xs: (-1.142502665578857,)\n",
        "fx: 2.4200543113066932\n",
        "\n",
        "MEDIANA: Xs&fx\n",
        "Xs&fx: [-0.3362261291596411] & 19.89657893084126\n",
        "\n",
        "## n = 5\n",
        "\n",
        "MEJOR SOLUCION\n",
        "Xs: (2.251628513294725, -0.8552266373665476, 10.509473886693849, -10.336022599432713)\n",
        "fx: 14.06043338102895\n",
        "\n",
        "MEDIANA: Xs&fx\n",
        "Xs&fx: [0.12741528041417274, -0.34705642397619574, 0.15826665944670285, -0.42751948945306395] & 20.761250621021976\n",
        "\n",
        "## n = 7\n",
        "\n",
        "MEJOR SOLUCION\n",
        "Xs: (-0.3942074350828388, 5.977341767189939, 0.8045857815256243, 6.301963576604272, 4.250286311734453, -1.6181860251572715)\n",
        "fx: 13.893407370011952\n",
        "\n",
        "MEDIANA: Xs&fx\n",
        "Xs&fx: [0.3825494665775337, -0.12847038195474642, 0.11402759456928693, -0.2310110649755229, -0.07415102120264548, -0.32259527614265887] & 20.878749797387382\n",
        "\n",
        "## n = 10\n",
        "\n",
        "MEJOR SOLUCION\n",
        "Xs: (-2.044246570159379, 17.88231351065758, -6.052851320747088, -1.1693274828589078, -0.9154921722675008, 7.962487770169621, -2.9105446028522426, -6.105693861656952, 1.1571605460194185)\n",
        "fx: 17.547398709030844\n",
        "\n",
        "MEDIANA: Xs&fx\n",
        "Xs&fx: [0.010372363820764036, -0.02250920550874845, -0.18706328010297152, 0.4985264746541095, 0.08681879516998701, -0.27355355064089315, 0.08632618368508485, -0.36110568281307387, 0.031095853796096355] & 20.946555311456187\n",
        "\n",
        "# ALGORITMO (mu, lambda)-EE\n",
        "---\n",
        "Para este algoritmo tuve que reducir las ejecución de 5000 a 100 debido a que\n",
        "para n = 2 después de 15 minutos aún no terminaba. La he bajado a 10 ejecuciones ya\n",
        "que para n = 2 después de seis minutos no terminaba y no queria perder mucho tiempo\n",
        "entre un caso y otro\n",
        "\n",
        "## n = 2\n",
        "\n",
        "MEJOR SOLUCION\n",
        "Xs: (-2.850511722755683e-06,)\n",
        "fx: 0.00015762266398811065\n",
        "\n",
        "MEDIANA: Xs&fx\n",
        "Xs&fx: [-7.00993642101619e-05] & 0.0017123825916592673\n",
        "\n",
        "## n = 5\n",
        "\n",
        "MEJOR SOLUCION\n",
        "Xs: (-0.0007418717877417545, -0.0010435098095047547, -0.0017318702315364293, -0.0008017086674698879)\n",
        "fx: 0.005946192550876805\n",
        "\n",
        "MEDIANA: Xs&fx\n",
        "Xs&fx: [-0.0011901986994583165, 0.0004330298117639753, -0.0011428405068369804, -0.0002689190084993846] & 0.009109659856281826\n",
        "\n",
        "\n",
        "## n = 7\n",
        "\n",
        "MEJOR SOLUCION\n",
        "Xs: (0.00013798782180813644, -0.002419827427409884, 0.0014021533860532648, 0.001052838240213387, 9.420560686191522e-05, -0.0004660784956039138)\n",
        "fx: 0.008765996129266984\n",
        "\n",
        "MEDIANA: Xs&fx\n",
        "Xs&fx: [0.00033167664554998466, 0.0007614059208538299, 0.00020789993593843268, 0.0002276489383165554, -0.0011807471092961327, -0.0007901537648412232] & 0.012093297799161195\n",
        "\n",
        "\n",
        "## n = 10\n",
        "\n",
        "MEJOR SOLUCION\n",
        "Xs: (-0.007856224531891857, -0.004900643004742735, 0.0023537358139212325, -0.0008414020724393399, 0.002150847399051097, 0.0046581898315798944, -0.0012226454308359954, 0.001062616874116001, 0.002619402286077113)\n",
        "fx: 0.014992679304719037\n",
        "\n",
        "MEDIANA: Xs&fx\n",
        "Xs&fx: [-0.0016897703135800156, -0.0015113848830057494, -0.001775757451882999, 0.0014822654723971043, 0.002669917249006662, 0.001753149609581519, 0.00021638853540399913, -0.0006085943719727511, 0.0001282185673733577] & 0.018763338761734704\n",
        "\n",
        "# ALGORITMO (mu, lambda)-EE con modificaciones implementadas\n",
        "\n",
        "## n = 2\n",
        "\n",
        "MEJOR SOLUCION\n",
        "Xs: (-0.000207548674756605,)\n",
        "fx: 0.0007028745808530523\n",
        "\n",
        "MEDIANA: Xs&fx\n",
        "Xs&fx: [-0.19975958885452802] & 1.5898436637876647\n",
        "\n",
        "## n = 5\n",
        "\n",
        "MEJOR SOLUCION\n",
        "Xs: (-0.0009790976897849375, -0.0014898144287687383, 0.0004773494041373778, 0.001506930863386827)\n",
        "fx: 0.005249789878320588\n",
        "\n",
        "MEDIANA: Xs&fx\n",
        "Xs&fx: [0.2998739155678475, -3.39894248470828, 4.6986586905324375, 0.5985083868005623] & 5.572852708420219\n",
        "\n",
        "## n = 7\n",
        "\n",
        "MEJOR SOLUCION\n",
        "Xs: (-0.004379147750717403, 0.0019322258693806448, -0.004068392658695756, 0.000688083632791084, 0.0002639492455335274, -0.0017949343249720532)\n",
        "fx: 0.01076345269676482\n",
        "\n",
        "MEDIANA: Xs&fx\n",
        "Xs&fx: [-0.299228788074312, -3.1961626549137905, 3.5974338935273225, -3.09804691923341, -2.399372987480376, 4.296222646805348] & 6.293547777969152\n",
        "\n",
        "## n = 10\n",
        "\n",
        "MEJOR SOLUCION\n",
        "Xs: (0.004420046587569724, 0.00035445490769713895, 0.004402534446553326, 0.00014611252983356754, 0.000172854842535602, 0.009088904085331414, -0.0018491751790590946, -0.002416399144102829, 0.006050284694682531)\n",
        "fx: 0.017466030363323615\n",
        "\n",
        "MEDIANA: Xs&fx\n",
        "Xs&fx: [-1.6994488066475821, -1.6984491923289482, -0.398483036213164, 1.4979317807581385, -0.1997073087455182, -0.29671741469677926, 1.3980132590082726, 1.796938309170787, -1.399356606663876] & 3.525860155614563\n",
        "\n",
        "\n",
        "Según parece, todos los algoritmos convergen mucho más rápido a menor número de variables pero el número de ejecuciones juega un papel importante también."
      ],
      "id": "kfh5SViMTTEZ"
    }
  ]
}