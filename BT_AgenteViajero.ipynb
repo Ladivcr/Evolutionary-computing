{
  "nbformat": 4,
  "nbformat_minor": 0,
  "metadata": {
    "colab": {
      "name": "BT_AgenteViajero.ipynb",
      "provenance": [],
      "collapsed_sections": [
        "epx1l9bz6uZZ"
      ]
    },
    "kernelspec": {
      "name": "python3",
      "display_name": "Python 3"
    }
  },
  "cells": [
    {
      "cell_type": "markdown",
      "metadata": {
        "id": "RzrvB9TYADfK"
      },
      "source": [
        "\n",
        "**Dada una lista de ciudades y la distancia entre cada par de ellas, encontrar el camino más corto que visite cada ciudad exactamente una\n",
        "vez y regrese a la ciudad de origen.**\n"
      ]
    },
    {
      "cell_type": "markdown",
      "metadata": {
        "id": "eNDnXQgvES1A"
      },
      "source": [
        "**Consideraciones:**\n",
        "\n",
        "> Etiquete a las ciudades como 0, 1, 2, ··· , N\n",
        "\n",
        "> El viajero siempre parte de la ciudad n0.\n",
        "\n",
        "> Tiene el mismo costo ir de la ciudad A a la ciudad B que ir de la ciudad B a la ciudad A.\n",
        "\n",
        "> Una solucion al problema es una permutación de las N ciudades.\n",
        "\n",
        "> La solucion inicial se genera utilizando un algoritmo voraz. Se parte\n",
        "de la ciudad n0, se revisa el costo de ir a las N-1 ciudades restantes\n",
        "y se elige la de menor costo. Posteriormente, se repite el proceso. Es\n",
        "importante considerar que estamos generando permutaciones y por lo\n",
        "tanto no puede haber ciudades repetidas en la solucion.\n",
        "\n",
        "> El vecindario de una solución se genera de la siguiente forma:\n",
        ">> Se elige al azar una posicion de la permutación. Se generan N-2 soluciones nuevas moviendo la ciudad de esa posición a cualquiera de las otras N-2 posiciones posibles.\n",
        "\n",
        "> En la lista tabu se almacena la ciudad que se utilizo para generar el\n",
        "vecindario y tendra un tiempo tabú de N/2 (piso)"
      ]
    },
    {
      "cell_type": "markdown",
      "metadata": {
        "id": "lpf7P_cHND1s"
      },
      "source": [
        "**La salida del programa será:**\n",
        "1. Recorrido que debe seguirá el viajero (permutación).\n",
        "2. Costo de seguir el recorrido encontrado."
      ]
    },
    {
      "cell_type": "code",
      "metadata": {
        "id": "672w8yOL_7w1"
      },
      "source": [
        "# La primera lınea tendra el numero de ciudades N.\n",
        "#N = int(input(\"Número de ciudades: \"))\n",
        "\n",
        "#\"La segunda lınea tendrá el numero maximo de iteraciones Imax del\n",
        "#Imax = int(input(\"Número maximo de iteraciones: \"))\n",
        "\n",
        "\"\"\"\n",
        "10\n",
        "100\n",
        "49 30 53 72 19 76 87 45 48\n",
        "19 38 32 31 75 69 61 25\n",
        "41 98 56 6 6 45 53\n",
        "52 29 46 90 23 98\n",
        "63 90 69 50 82\n",
        "60 88 41 95\n",
        "61 92 10\n",
        "82 73\n",
        "5\n",
        "\"\"\"\n",
        "\"\"\"\n",
        "#all_cities = []\n",
        "all_cities = {\"{0}\".format(i): \"\" for i in range(N-1)}\n",
        "for i in range(N-1):\n",
        "  cities = input() # Recibimos la línea de ciudades\n",
        "  cities = cities.split(\" \") # detectamos cada número \n",
        "  my_cities = list(map(int, cities)) # convertimos cada número a entero\n",
        "  key = f\"n{i}\"\n",
        "  all_cities[key] = my_cities # almacenamos la lista en el arreglo que contendra todas\n",
        "\"\"\"\n"
      ],
      "execution_count": null,
      "outputs": []
    },
    {
      "cell_type": "code",
      "metadata": {
        "colab": {
          "base_uri": "https://localhost:8080/"
        },
        "id": "IadkfdPVhM6s",
        "outputId": "d81f8034-8b4e-4617-fe7a-9911c35b88c0"
      },
      "source": [
        "# La primera lınea tendra el numero de ciudades N.\n",
        "#N = int(input(\"Número de ciudades: \"))\n",
        "N = 10\n",
        "#\"La segunda lınea tendrá el numero maximo de iteraciones Imax del\n",
        "#Imax = int(input(\"Número maximo de iteraciones: \"))\n",
        "Imax = 100\n",
        "all_cities = {'0': [49, 30, 53, 72, 19, 76, 87, 45, 48], '1': [19, 38, 32, 31, 75, 69, 61, 25], '2': [41, 98, 56, 6, 6, 45, 53], '3': [52, 29, 46, 90, 23, 98], '4': [63, 90, 69, 50, 82], '5': [60, 88, 41, 95], '6': [61, 92, 10], '7': [82, 73], '8': [5]}\n",
        "print(all_cities)"
      ],
      "execution_count": 1,
      "outputs": [
        {
          "output_type": "stream",
          "text": [
            "{'0': [49, 30, 53, 72, 19, 76, 87, 45, 48], '1': [19, 38, 32, 31, 75, 69, 61, 25], '2': [41, 98, 56, 6, 6, 45, 53], '3': [52, 29, 46, 90, 23, 98], '4': [63, 90, 69, 50, 82], '5': [60, 88, 41, 95], '6': [61, 92, 10], '7': [82, 73], '8': [5]}\n"
          ],
          "name": "stdout"
        }
      ]
    },
    {
      "cell_type": "code",
      "metadata": {
        "id": "wScwbl1-fz_r"
      },
      "source": [
        "def generate_solution(N): \n",
        "  \"\"\"A function to generate a possible solution\n",
        "  N = int number of the cities\n",
        "  return: array with a possible solution\n",
        "  \"\"\"\n",
        "  #order_visit = ['0']\n",
        "  #actual_city = X0[0]\n",
        "  from random import shuffle\n",
        "  X0 = [\"0\"]\n",
        "  #tmp = [\"n{0}\".format(i) for i in range(1,N-1)]; shuffle(tmp)\n",
        "  tmp = [\"{0}\".format(i) for i in range(1,N-1)]\n",
        "  shuffle(tmp)\n",
        "  X0 = X0+tmp+X0\n",
        "  return (X0)"
      ],
      "execution_count": 2,
      "outputs": []
    },
    {
      "cell_type": "markdown",
      "metadata": {
        "id": "epx1l9bz6uZZ"
      },
      "source": [
        "# **DEJAMOS PENDIENTE LA GENERACIÓN VORAZ**"
      ]
    },
    {
      "cell_type": "code",
      "metadata": {
        "id": "c9Tn5OYkUnoo"
      },
      "source": [
        "#La solucion inicial se genera utilizando un algoritmo voraz. \n",
        "#Se parte de la ciudad n0, se revisa el costo de ir a las N-1 ciudades restantes\n",
        "# y se elige la de menor costo. Posteriormente, se repite el proceso.\n",
        "def generate_voraz_solution(N, all_cities): \n",
        "  \"\"\"A function to generate a voraz solution\n",
        "  N = int number of the cities\n",
        "  all_cities = dict with city:distance from city to other cities\n",
        "  \"\"\"\n",
        "  X0 = [\"0\"] # Way to visit the different cities\n",
        "  current_city = X0[0]\n",
        "  \n",
        "  tmp = [i[-1] for i in all_cities.values()]\n",
        "  all_cities[str(len(all_cities.keys()))] = tmp\n",
        "  distance = 0\n",
        "\n",
        "  for i in range(len(all_cities.keys())):\n",
        "    best_weight = min(all_cities[current_city]) # Peso más bajo de la siguiente ciudad\n",
        "    best_weight_index = (all_cities[current_city].index(best_weight))+1 # Número de la ciudad a movernos\n",
        "    distance += best_weight\n",
        "\n",
        "    if int(current_city) < best_weight_index:\n",
        "      pass\n",
        "    elif int(current_city) > best_weight_index: \n",
        "      pass\n",
        "\n",
        "    \n",
        "    print(best_weight_index, all_cities[current_city], all_cities[current_city][best_weight_index], len(all_cities.keys()), all_cities.values())\n",
        "    break\n"
      ],
      "execution_count": null,
      "outputs": []
    },
    {
      "cell_type": "code",
      "metadata": {
        "colab": {
          "base_uri": "https://localhost:8080/"
        },
        "id": "FlQXd_LobNXK",
        "outputId": "00024cf6-4a39-4271-f7bb-bbdfebe40aab"
      },
      "source": [
        "print(generate_voraz_solution(N, all_cities))"
      ],
      "execution_count": null,
      "outputs": [
        {
          "output_type": "stream",
          "text": [
            "5 [49, 30, 53, 72, 19, 76, 87, 45, 48] 76 9 dict_values([[49, 30, 53, 72, 19, 76, 87, 45, 48], [19, 38, 32, 31, 75, 69, 61, 25], [41, 98, 56, 6, 6, 45, 53], [52, 29, 46, 90, 23, 98], [63, 90, 69, 50, 82], [60, 88, 41, 95], [61, 92, 10], [82, 73], [5]])\n",
            "None\n"
          ],
          "name": "stdout"
        }
      ]
    },
    {
      "cell_type": "markdown",
      "metadata": {
        "id": "HuEvo1M2Lxgj"
      },
      "source": [
        "# [Función] Evaluación de distancia"
      ]
    },
    {
      "cell_type": "code",
      "metadata": {
        "id": "rfby2VNRGz3H"
      },
      "source": [
        "def f(x, all_cities):\n",
        "  \"\"\"my function to get the whole distance \n",
        "  x = array a permutation of the cities\n",
        "  all_cities = dict with city:distance from city to other cities\n",
        "  return: int with the whole distance\n",
        "  \"\"\"\n",
        "  distance = 0\n",
        "  actual_city = x[0] # ciudad actual\n",
        "  #print(actual_city)\n",
        "  for i in range(len(all_cities.keys())):\n",
        "    try:\n",
        "      next_city = x[i+1] # ciudad siguiente\n",
        "    except:\n",
        "      break\n",
        "\n",
        "    if int(actual_city) < int(next_city):\n",
        "      index_city_distance = abs(int(actual_city)-int(next_city))-1\n",
        "      distance += all_cities[actual_city][index_city_distance] # Sumamos la distancia de ir de actual_city a next_city\n",
        "      actual_city = next_city\n",
        "      \n",
        "    elif int(actual_city) > int(next_city):\n",
        "      index_city_distance = abs(int(actual_city)-int(next_city))-1\n",
        "      distance += all_cities[next_city][index_city_distance] # Sumamos la distancia de ir de actual_city a next_city\n",
        "      actual_city = next_city\n",
        "  \n",
        "  return (distance)\n"
      ],
      "execution_count": 35,
      "outputs": []
    },
    {
      "cell_type": "markdown",
      "metadata": {
        "id": "Pv5Kwu4PShp7"
      },
      "source": [
        "> *Insertar imagen para que se entienda la función de calculo de distancia anterior"
      ]
    },
    {
      "cell_type": "code",
      "metadata": {
        "id": "xZkLvxMRKwEL"
      },
      "source": [
        "# test for f(x)\n",
        "#x = ['0', '6', '2', '3', '7', '8', '5', '1', '4', '0']\n",
        "#print(f(x, all_cities))\n",
        "# it works!"
      ],
      "execution_count": 31,
      "outputs": []
    },
    {
      "cell_type": "markdown",
      "metadata": {
        "id": "0sLiMe59w0b3"
      },
      "source": [
        "# [Función] Actualizar Lista Tabú "
      ]
    },
    {
      "cell_type": "code",
      "metadata": {
        "id": "EYhGW9glwz_5"
      },
      "source": [
        "def update_tabu_list(tabu_list, city_used): \n",
        "  \"\"\"function to update tabu list\n",
        "  tabu_list = dict with city: tabu time\n",
        "  city_used = str city used to generate a neighborhood\n",
        "  return: dict with update tabu list\n",
        "  \"\"\"\n",
        "  tabu_list[city_used] -= 1\n",
        "  if tabu_list[city_used] == 0:\n",
        "    del tabu_list[city_used]\n",
        "  \n",
        "  return (tabu_list)"
      ],
      "execution_count": 28,
      "outputs": []
    },
    {
      "cell_type": "markdown",
      "metadata": {
        "id": "3lG961nsN-90"
      },
      "source": [
        "# [Función] Generación de vecindario"
      ]
    },
    {
      "cell_type": "code",
      "metadata": {
        "id": "EQDQN-nYQBd_"
      },
      "source": [
        "#El vecindario de una solución se genera de la siguiente forma: Se elige\n",
        "#al azar una posición de la permutación. Se generan N-2 soluciones\n",
        "#nuevas moviendo la ciudad de esa posición a cualquiera de las otras\n",
        "#N-2 posiciones posibles.\n",
        "def get_neighborhood(current_solution):\n",
        "  \"\"\"function to get more possibles solutions and maybe better\n",
        "  current_solution = array with the current order of the cities\n",
        "  return: array of arrays with N-2 pissibles solutions & the city\n",
        "  \"\"\"\n",
        "  from random import randint\n",
        "  tmp_solution = current_solution.copy() # Para no modificar nuestra solución actual\n",
        "  neighborhood = [] # arreglo que contendra las N-2 soluciones\n",
        "  index_city = randint(1, 8) # 0 corresponde a la ciudad de origen, esa no cambia y 9 igual\n",
        "  city = current_solution[index_city] # ciudad que se usará para generar el vecindario\n",
        "  #print(index_city)\n",
        "  for i in range(1, len(current_solution)-1): #Ignoramos los extremos ya que corresponden a la ciudad de origen\n",
        "    tmp = tmp_solution\n",
        "    # hacemos el intercambio de posiciones\n",
        "    val_tmp = tmp[i]\n",
        "    tmp[i] = current_solution[index_city]\n",
        "    tmp[index_city] = val_tmp\n",
        "    # volvemos a la solución con la que entramos a esta función\n",
        "    tmp_solution = current_solution.copy()\n",
        "    #almacenamos la solución generada a partir del intercambio de posiciones\n",
        "    neighborhood.append(tmp)\n",
        "\n",
        "  return (neighborhood, city)"
      ],
      "execution_count": 29,
      "outputs": []
    },
    {
      "cell_type": "code",
      "metadata": {
        "id": "QPw9DEWmMdny"
      },
      "source": [
        "# test for getNeighborhood\n",
        "#x = ['0', '6', '2', '3', '7', '8', '5', '1', '4', '0']\n",
        "#vecindario, city_used = get_neighborhood(x)\n",
        "#for i in vecindario:\n",
        "  #print(i)\n",
        "#print(len(vecindario), city_used)\n",
        "# It works!"
      ],
      "execution_count": 30,
      "outputs": []
    },
    {
      "cell_type": "markdown",
      "metadata": {
        "id": "ILBGNBypyZav"
      },
      "source": [
        "# [Función] Vecindario reducido\n"
      ]
    },
    {
      "cell_type": "code",
      "metadata": {
        "id": "pgHO-bDAyfbg"
      },
      "source": [
        "def get_reduce_neighborhood(city_used, tabu_list):\n",
        "  \"\"\"function to reduce my neighborhood of possible solutions\n",
        "  city_used = str the city used to generate the neighborhood \n",
        "  tabu_list = dict with city: tabu time\n",
        "  return: array with the new neighborhood\n",
        "  \"\"\"\n",
        "  pass"
      ],
      "execution_count": 17,
      "outputs": []
    },
    {
      "cell_type": "markdown",
      "metadata": {
        "id": "jdIXh84HOgdg"
      },
      "source": [
        "# [Función] Búsqueda Tabú"
      ]
    },
    {
      "cell_type": "code",
      "metadata": {
        "id": "s5LTHk6SMOlS"
      },
      "source": [
        "def tabu_search(Imax, N, all_cities):\n",
        "  \"\"\"Implementation of Tabu Search\n",
        "  Imax = int number of iterations\n",
        "  N = int number of cities\n",
        "  all_cities = dict with city:distance from city to other cities\n",
        "  return: (array with the best way, int with the whole distance)\n",
        "  \"\"\"\n",
        "  from math import floor\n",
        "  # Generar solución inicial X0.\n",
        "  # El viajero siempre parte de n0\n",
        "  # De acuerdo a las consideraciones: La solucion inicial se genera utilizando un algoritmo voraz.\n",
        "  X0 = generate_solution(N)\n",
        "  print(f\"Solución inicial: {X0}, {f(X0, all_cities)}\")\n",
        "  \n",
        "  # Colocar el contador de iteraciones en 0: K <- 0\n",
        "  k = 0\n",
        "  X = X0\n",
        "  # Inicializar la lista tabú como un conjunto vacio: T(X, K) = {}\n",
        "  tabu_time = floor(N/2)\n",
        "  tabu_list = {} # {\"0\":2} = {city: tabu_time}\n",
        "  \n",
        "  while k <= Imax:\n",
        "    k += 1\n",
        "    # Determinar el vecindario N(x)\n",
        "    possible_solutions, city_used = get_neighborhood(X0)\n",
        "    tabu_list[city_used] = tabu_time # Añadimos a la lista tabu, la ciudad usada para generar el vecindario\n",
        "    ## Determinar el conjunto de aspirantes A(X,K)\n",
        "\n",
        "    ## Es aquí donde uso el concepto de la lista tabú, sino no tiene sentido para que la cree\n",
        "    # debo corroborar que la ciudad usada para generar neighborhood no este en la lista tabú\n",
        "    # Determinar el vecindario reducido: N*(X) = {N(X) - T(X, K)} u A(X, K) \n",
        "\n",
        "    # Escoger la mejor solución X entre las soluciones que estan en N*(X,K)\n",
        "    for ps in possible_solutions:\n",
        "      if f(ps, all_cities) < f(X, all_cities): #if f(x) < f(x*) \n",
        "        X = ps#X_start = X\n",
        "    \n",
        "    #actualizar la lista tabú L(X,K)\n",
        "    tabu_list = update_tabu_list(tabu_list, city_used)\n",
        "\n",
        "  return (X, f(X, all_cities))\n",
        "\n",
        "\n",
        " \n"
      ],
      "execution_count": 40,
      "outputs": []
    },
    {
      "cell_type": "code",
      "metadata": {
        "colab": {
          "base_uri": "https://localhost:8080/"
        },
        "id": "tzt3etDrAcvP",
        "outputId": "aeab929c-df9d-4858-bd7d-86b0273d95e9"
      },
      "source": [
        "print(tabu_search(Imax, N, all_cities))"
      ],
      "execution_count": 42,
      "outputs": [
        {
          "output_type": "stream",
          "text": [
            "Solución inicial: ['0', '7', '5', '8', '3', '4', '6', '2', '1', '0'], 455\n",
            "(['0', '1', '5', '8', '3', '4', '6', '2', '7', '0'], 385)\n"
          ],
          "name": "stdout"
        }
      ]
    },
    {
      "cell_type": "code",
      "metadata": {
        "id": "3BNXqtO23rXu"
      },
      "source": [
        ""
      ],
      "execution_count": null,
      "outputs": []
    }
  ]
}