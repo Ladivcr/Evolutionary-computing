{
  "nbformat": 4,
  "nbformat_minor": 0,
  "metadata": {
    "colab": {
      "name": "BT_AgenteViajero.ipynb",
      "provenance": [],
      "collapsed_sections": [
        "QYfC60IL8zSX",
        "epx1l9bz6uZZ"
      ],
      "toc_visible": true
    },
    "kernelspec": {
      "name": "python3",
      "display_name": "Python 3"
    }
  },
  "cells": [
    {
      "cell_type": "markdown",
      "metadata": {
        "id": "RzrvB9TYADfK"
      },
      "source": [
        "\n",
        "**Dada una lista de ciudades y la distancia entre cada par de ellas, encontrar el camino más corto que visite cada ciudad exactamente una\n",
        "vez y regrese a la ciudad de origen.**\n"
      ]
    },
    {
      "cell_type": "markdown",
      "metadata": {
        "id": "eNDnXQgvES1A"
      },
      "source": [
        "**Consideraciones:**\n",
        "\n",
        "> Etiquete a las ciudades como 0, 1, 2, ··· , N\n",
        "\n",
        "> El viajero siempre parte de la ciudad n0.\n",
        "\n",
        "> Tiene el mismo costo ir de la ciudad A a la ciudad B que ir de la ciudad B a la ciudad A.\n",
        "\n",
        "> Una solucion al problema es una permutación de las N ciudades.\n",
        "\n",
        "> La solucion inicial se genera utilizando un algoritmo voraz. Se parte\n",
        "de la ciudad n0, se revisa el costo de ir a las N-1 ciudades restantes\n",
        "y se elige la de menor costo. Posteriormente, se repite el proceso. Es\n",
        "importante considerar que estamos generando permutaciones y por lo\n",
        "tanto no puede haber ciudades repetidas en la solucion.\n",
        "\n",
        "> El vecindario de una solución se genera de la siguiente forma:\n",
        ">> Se elige al azar una posicion de la permutación. Se generan N-2 soluciones nuevas moviendo la ciudad de esa posición a cualquiera de las otras N-2 posiciones posibles.\n",
        "\n",
        "> En la lista tabu se almacena la ciudad que se utilizo para generar el\n",
        "vecindario y tendra un tiempo tabú de N/2 (piso)"
      ]
    },
    {
      "cell_type": "markdown",
      "metadata": {
        "id": "lpf7P_cHND1s"
      },
      "source": [
        "**La salida del programa será:**\n",
        "1. Recorrido que debe seguirá el viajero (permutación).\n",
        "2. Costo de seguir el recorrido encontrado."
      ]
    },
    {
      "cell_type": "markdown",
      "metadata": {
        "id": "_qbuoiyJltrj"
      },
      "source": [
        "# Librerias"
      ]
    },
    {
      "cell_type": "code",
      "metadata": {
        "id": "J1tGednUP5FI"
      },
      "source": [
        "# Bibliotecas a utilizar\n",
        "from random import shuffle\n",
        "from random import randint\n",
        "from math import floor\n",
        "import numpy as np"
      ],
      "execution_count": 17,
      "outputs": []
    },
    {
      "cell_type": "markdown",
      "metadata": {
        "id": "QYfC60IL8zSX"
      },
      "source": [
        "# [Función] Generación de solución aleatoria\n",
        "> La generación de esta solución es aleatoria, por lo que puedes obtener la mejor o la peor "
      ]
    },
    {
      "cell_type": "code",
      "metadata": {
        "id": "wScwbl1-fz_r"
      },
      "source": [
        "def generate_solution(N:int): \n",
        "  \"\"\"A function to generate a possible solution\n",
        "  N = int number of the cities\n",
        "  return: array with a possible solution\n",
        "  \"\"\"\n",
        "  #order_visit = ['0']\n",
        "  #actual_city = X0[0]\n",
        "  #from random import shuffle\n",
        "  X0 = [\"0\"]\n",
        "  #tmp = [\"n{0}\".format(i) for i in range(1,N-1)]; shuffle(tmp)\n",
        "  tmp = [\"{0}\".format(i) for i in range(1,N-1)]\n",
        "  shuffle(tmp)\n",
        "  X0 = X0+tmp+X0\n",
        "  return (X0)"
      ],
      "execution_count": 18,
      "outputs": []
    },
    {
      "cell_type": "markdown",
      "metadata": {
        "id": "epx1l9bz6uZZ"
      },
      "source": [
        "# [Función] Generación de solución greedy única\n",
        "\n",
        "> La generación de esta solución greedy fue hecha especificamente para el problema del manual de metaheuristicas, no es generica dada un input"
      ]
    },
    {
      "cell_type": "code",
      "metadata": {
        "id": "v9AmvkzCySGi"
      },
      "source": [
        "def get_minimo(cities, city, my_way): \n",
        "  \"\"\"\n",
        "  cities = dict with the cities\n",
        "  city = str with the current city\n",
        "  my_way = array with the cities until now\n",
        "  return: int str the distance and the city\n",
        "  \"\"\"\n",
        "  min_value = 1000\n",
        "  city_key = ''\n",
        "  for key, value in cities[city].items():\n",
        "    #print(f\"ciudad: {city_key} valor:{min_value}\")\n",
        "    if (value < min_value) and (key not in my_way): \n",
        "      min_value = value\n",
        "      city_key = key\n",
        "    else: pass\n",
        "\n",
        "  #print(city_key, min_value)\n",
        "  #print(f\"retornamos: valor: {min_value} - ciudad:{city_key}\")\n",
        "  return (min_value, city_key) \n",
        "  "
      ],
      "execution_count": 19,
      "outputs": []
    },
    {
      "cell_type": "code",
      "metadata": {
        "id": "c9Tn5OYkUnoo"
      },
      "source": [
        "#La solucion inicial se genera utilizando un algoritmo voraz. \n",
        "#Se parte de la ciudad n0, se revisa el costo de ir a las N-1 ciudades restantes\n",
        "# y se elige la de menor costo. Posteriormente, se repite el proceso.\n",
        "def generate_greedy_solution():\n",
        "  #Dic = {0:{1:3, 2:4, 3:1...}, 1:{0:3..}..}\n",
        "  \"\"\"A function to generate a voraz solution\n",
        "  N = int number of the cities\n",
        "  all_cities = dict with city:distance from city to other cities\n",
        "  \"\"\"\n",
        "  cities = {'0':{'1':49, '2':30, '3':53, '4':72, '5':19, '6':76, '7':87, '8':45, '9':48 },\n",
        "            '1':{'0':49, '1': 0, '2':19, '3':38, '4':32, '5':31, '6':75, '7':69, '8':61, '9':25},\n",
        "            '2':{'0':30, '1':19, '2':0, '3':41, '4':98, '5':56, '6':6, '7':6, '8':45, '9':53},\n",
        "            '3':{'0':53, '1':38, '2':41, '3':0, '4':52, '5':29, '6':46, '7':90, '8':23, '9':98},\n",
        "            '4':{'0':72, '1':32, '2':98, '3':52, '4':0, '5':63, '6':90, '7':69, '8':50, '9':82},\n",
        "            '5':{'0':19, '1':31, '2':56, '3':29, '4':63, '5':0, '6':60, '7':88, '8':41, '9':95},            \n",
        "            '6':{'0':76, '1':75, '2':6, '3':46, '4':90, '5':60, '6':0, '7':61, '8':92, '9':10},\n",
        "            '7':{'0':87, '1':69, '2':6, '3':90, '4':69, '5':88, '6':61, '7':0, '8':82, '9':73}, \n",
        "            '8':{'0':45, '1':61, '2':45, '3':23, '4':50, '5':41, '6':92, '7':82, '8':0, '9':5},\n",
        "            '9':{'0':48, '1':25, '2':53, '3':98, '4':82, '5':95, '6':10, '7':73, '8':5, '9':0}}\n",
        "\n",
        "  my_way = ['0']\n",
        "  whole_distance = 0\n",
        "  current_city = my_way[0]    \n",
        "  for _ in range(len(list(cities.keys()))-1):\n",
        "    min_way, city_key = get_minimo(cities, current_city, my_way)\n",
        "    #print(f\"ciudad: {city_key}, distancia: {min_way}\")\n",
        "    my_way.append(city_key) # almacenamos la ciudad\n",
        "    current_city = city_key # actualizamos la ciudad \n",
        "    whole_distance += min_way\n",
        "    #min_way = min(list(cities[current_city].values())) # Obtenemos el valor de menor peso\n",
        "    #for key,value in cities[current_city].items():\n",
        "      #if min_way == value: # speramos que el valor coincida con el de menor peso obtenido previamente para obtener la ciudad\n",
        "        #print( key, min_way)\n",
        "        #my_way.append(city_key) # almacenamos la ciudad\n",
        "        #current_city = city_key # actualizamos la ciudad \n",
        "        #whole_distance += min_way\n",
        "        \n",
        "  \n",
        "  #Añadimos la distancia de la úúltima ciudad a la ciudad de origen\n",
        "  back_distance = cities[my_way[-1]]['0']\n",
        "  #print(back_distance, cities[my_way[-1]])\n",
        "  whole_distance += back_distance\n",
        "  my_way.append('0')\n",
        "  return(my_way)"
      ],
      "execution_count": 20,
      "outputs": []
    },
    {
      "cell_type": "code",
      "metadata": {
        "id": "FlQXd_LobNXK"
      },
      "source": [
        "# test for greedy\n",
        "#(generate_greedy_solution())\n",
        "# it works!\n",
        "# ['0', '5', '3', '8', '9', '6', '2', '7', '1', '4', '0'], 271\n"
      ],
      "execution_count": 21,
      "outputs": []
    },
    {
      "cell_type": "markdown",
      "metadata": {
        "id": "HuEvo1M2Lxgj"
      },
      "source": [
        "# [Función] Evaluación de distancia"
      ]
    },
    {
      "cell_type": "code",
      "metadata": {
        "id": "rfby2VNRGz3H"
      },
      "source": [
        "def f(x, all_cities:dict):\n",
        "  \"\"\"my function to get the whole distance \n",
        "  x = array a permutation of the cities\n",
        "  all_cities = dict with city:distance from city to other cities\n",
        "  return: int with the whole distance\n",
        "  \"\"\"\n",
        "  distance = 0\n",
        "  actual_city = x[0] # ciudad actual\n",
        "  #print(actual_city)\n",
        "  for i in range(len(all_cities.keys())+1):\n",
        "    #print(f\"ciudad: {actual_city} distancia recorrida: {distance}\")\n",
        "    try:\n",
        "      next_city = x[i+1] # ciudad siguiente\n",
        "      #print(\"next\",next_city)\n",
        "    except:\n",
        "      break\n",
        "\n",
        "    if int(actual_city) < int(next_city):\n",
        "      #print(\"ENTRE!\")\n",
        "      index_city_distance = abs(int(actual_city)-int(next_city))-1\n",
        "      #print(\"index\", index_city_distance)\n",
        "      distance += all_cities[actual_city][index_city_distance] # Sumamos la distancia de ir de actual_city a next_city\n",
        "      #print(all_cities[actual_city][index_city_distance],all_cities[actual_city], actual_city )\n",
        "      actual_city = next_city\n",
        "      #print(\"ciudad actual\", actual_city)\n",
        "      \n",
        "    elif int(actual_city) > int(next_city):\n",
        "      index_city_distance = abs(int(actual_city)-int(next_city))-1\n",
        "      distance += all_cities[next_city][index_city_distance] # Sumamos la distancia de ir de actual_city a next_city\n",
        "      actual_city = next_city\n",
        "  \n",
        "  return (distance)\n"
      ],
      "execution_count": 22,
      "outputs": []
    },
    {
      "cell_type": "markdown",
      "metadata": {
        "id": "Pv5Kwu4PShp7"
      },
      "source": [
        "\n",
        "![evidencia.jpg](data:image/jpeg;base64,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)"
      ]
    },
    {
      "cell_type": "code",
      "metadata": {
        "id": "xZkLvxMRKwEL"
      },
      "source": [
        "# test for f(x)\n",
        "#x = ['0', '6', '2', '3', '7', '8', '5', '1', '4', '0']\n",
        "#x = ['0', '5', '3', '8', '9', '6', '2', '7', '1', '4', '0']\n",
        "#all_cities = {'0': [49, 30, 53, 72, 19, 76, 87, 45, 48], '1': [19, 38, 32, 31, 75, 69, 61, 25], '2': [41, 98, 56, 6, 6, 45, 53], '3': [52, 29, 46, 90, 23, 98], '4': [63, 90, 69, 50, 82], '5': [60, 88, 41, 95], '6': [61, 92, 10], '7': [82, 73], '8': [5]}\n",
        "\n",
        "#print(f(x, all_cities))\n",
        "# it works!"
      ],
      "execution_count": 23,
      "outputs": []
    },
    {
      "cell_type": "markdown",
      "metadata": {
        "id": "0sLiMe59w0b3"
      },
      "source": [
        "# [Función] Actualizar Lista Tabú "
      ]
    },
    {
      "cell_type": "code",
      "metadata": {
        "id": "EYhGW9glwz_5"
      },
      "source": [
        "def update_tabu_list(tabu_list:dict): \n",
        "  \"\"\"function to update tabu list\n",
        "  tabu_list = dict with city: tabu time\n",
        "  return: dict with update tabu list\n",
        "  \"\"\"\n",
        "  for i in range(len(tabu_list)): \n",
        "    try:\n",
        "      #print(i[1])\n",
        "      tabu_list[i][1] -= 1\n",
        "      if tabu_list[i][1] == 0:\n",
        "        #print(\"ENTRE! {0}\".format(tabu_list[i]))\n",
        "        tabu_list.pop(i)\n",
        "        #print(\"new tabu: {0}\".format(tabu_list))\n",
        "    except:\n",
        "      pass\n",
        "  return (tabu_list)"
      ],
      "execution_count": 24,
      "outputs": []
    },
    {
      "cell_type": "markdown",
      "metadata": {
        "id": "Vjbjt4j-r2Z3"
      },
      "source": [
        "# [Función] Revisar lista tabú"
      ]
    },
    {
      "cell_type": "code",
      "metadata": {
        "id": "rglZqPfgsrcY"
      },
      "source": [
        "def check_tabu_list(city_used:str, tabu_list):\n",
        "  \"\"\"function to know if an element is in tabu_list\n",
        "  city_used = str city to check if is in tabu_list\n",
        "  tabu_list = dict with city: tabu time\n",
        "  return: True or False\n",
        "  \"\"\"\n",
        "  status = False\n",
        "  for element in tabu_list:\n",
        "    if (city_used in element) == True:\n",
        "      status = True\n",
        "\n",
        "\n",
        "  return (status)"
      ],
      "execution_count": 25,
      "outputs": []
    },
    {
      "cell_type": "markdown",
      "metadata": {
        "id": "3lG961nsN-90"
      },
      "source": [
        "# [Función] Generación de vecindario"
      ]
    },
    {
      "cell_type": "code",
      "metadata": {
        "id": "EQDQN-nYQBd_"
      },
      "source": [
        "#El vecindario de una solución se genera de la siguiente forma: Se elige\n",
        "#al azar una posición de la permutación. Se generan N-2 soluciones\n",
        "#nuevas moviendo la ciudad de esa posición a cualquiera de las otras\n",
        "#N-2 posiciones posibles.\n",
        "def get_neighborhood(current_solution):\n",
        "  \"\"\"function to get more possibles solutions and maybe better\n",
        "  current_solution = array with the current order of the cities\n",
        "  return: array of arrays with N-2 pissibles solutions & the city used\n",
        "  \"\"\"\n",
        "  #from random import randint\n",
        "  tmp_solution = current_solution.copy() # Para no modificar nuestra solución actual\n",
        "  neighborhood = [] # arreglo que contendra las N-2 soluciones\n",
        "  index_city = randint(1, 8) # 0 corresponde a la ciudad de origen, esa no cambia y 9 igual\n",
        "  city = current_solution[index_city] # ciudad que se usará para generar el vecindario\n",
        "  #print(index_city)\n",
        "  for i in range(1, len(current_solution)-1): #Ignoramos los extremos ya que corresponden a la ciudad de origen\n",
        "    tmp = tmp_solution\n",
        "    # hacemos el intercambio de posiciones\n",
        "    val_tmp = tmp[i]\n",
        "    tmp[i] = current_solution[index_city]\n",
        "    tmp[index_city] = val_tmp\n",
        "    # volvemos a la solución con la que entramos a esta función\n",
        "    tmp_solution = current_solution.copy()\n",
        "    # Evitamos almacenar el camino que le pasamos como input\n",
        "    if tmp == current_solution:\n",
        "      pass\n",
        "    else:\n",
        "      #almacenamos la solución generada a partir del intercambio de posiciones\n",
        "      neighborhood.append(tmp)\n",
        "\n",
        "  #print(neighborhood)\n",
        "\n",
        "  return (neighborhood, city)"
      ],
      "execution_count": 26,
      "outputs": []
    },
    {
      "cell_type": "code",
      "metadata": {
        "id": "QPw9DEWmMdny"
      },
      "source": [
        "# test for getNeighborhood\n",
        "#x = ['0', '1', '4', '7', '2', '6', '9', '8', '3', '5', '0']\n",
        "#vecindario, city_used = get_neighborhood(x)\n",
        "#for i in vecindario:\n",
        "  #print(i)\n",
        "#print(len(vecindario), city_used)\n",
        "# It works!"
      ],
      "execution_count": 27,
      "outputs": []
    },
    {
      "cell_type": "markdown",
      "metadata": {
        "id": "uFKje0WFYkyP"
      },
      "source": [
        "# [Función] Generar matriz de adyacencia\n"
      ]
    },
    {
      "cell_type": "code",
      "metadata": {
        "id": "wYwFSOgwGPHV"
      },
      "source": [
        "def generate_adjacency_matrix (distances):\n",
        "  \"\"\"a function to generate an adjacency matrix\n",
        "  distances = array with sub-arrays with the distances \n",
        "  \"\"\"\n",
        "  matrix = np.diag([10000] * int(len(distances)+1))\n",
        "  for i in range(len(distances)):\n",
        "    matrix[i,i+1:] = distances[i]\n",
        "\n",
        "  return(np.where(matrix,matrix,matrix.T))\n",
        "#dis_mat = np.where(matrix,matrix,matrix.T)"
      ],
      "execution_count": 28,
      "outputs": []
    },
    {
      "cell_type": "code",
      "metadata": {
        "id": "nNJ-_db5Net3"
      },
      "source": [
        "# test for generate_adjacency_matrix\n",
        "#JUan = [[49, 30, 53, 72, 19, 76, 87, 45, 48],\n",
        "#[19, 38, 32, 31, 75, 69, 61, 25],\n",
        "#[41, 98, 56, 6, 6, 45, 53],\n",
        "#[52, 29, 46, 90, 23, 98],\n",
        "#[63, 90, 69, 50, 82],\n",
        "#[60, 88, 41, 95],\n",
        "#[61, 92, 10],\n",
        "#[82, 73],\n",
        "#[5]]\n",
        "#adj = (generate_adjacency_matrix(JUan))\n",
        "# it works!\n",
        "#adj"
      ],
      "execution_count": 29,
      "outputs": []
    },
    {
      "cell_type": "markdown",
      "metadata": {
        "id": "3aQnCZvXwlFJ"
      },
      "source": [
        "# [Función] Obtener el camino de menor coste"
      ]
    },
    {
      "cell_type": "code",
      "metadata": {
        "id": "sVIUINqyXty_"
      },
      "source": [
        "def get_minimo_adj(adj_matrix, my_way): \n",
        "  \"\"\"function to to get the minimun distance between A and B\n",
        "  adj_matrix = array with the distances of the cities like [10000 49 30 53 72 19 76 87 45 48]\n",
        "  my_way = array with the cities until now\n",
        "  return: int str the distance and the city\n",
        "  \"\"\"\n",
        "  min_value = 10000\n",
        "  city_key = ''\n",
        "  tmp = list(adj_matrix) # convertimos a lista para poder usar .index\n",
        "  #print(\"Empieza\")\n",
        "  #print(f\"my_Way: {my_way}\")#\" y adj_matrix: {adj_matrix}\")\n",
        "  key = 0 # Correspondera al indice y a su vez a la ciudad\n",
        "  for value in adj_matrix:\n",
        "    #value = i\n",
        "    # la siguiente linea la comente ya que cuando existian dos núúmeros iguales en el arreglo\n",
        "    # a la hora de obtener el indicie, si queria el segundo me daba el del primero\n",
        "    # por eso cambie a la declaracióón de key = 0\n",
        "    #key = tmp.index(value) # Obtenemos el indice del valor actual que corresponderáá a la ciudad\n",
        "    #print(\"value\", value)\n",
        "    #(f\"value: {value}, min_value: {min_value}, ciudad: {key}\")\n",
        "    #key = arr_index_adj(adj_matrix, value)\n",
        "    #if (adj_matrix[key] == value) == True:\n",
        "    # <= Para generar el minimo local desde el inicio \n",
        "    if (value < min_value) and (str(key) not in my_way): # corroboramos que tenemos la ciudad de menor peso y que a sido visitada \n",
        "      #print(f\"ciudad: {key} valor: {value}\")\n",
        "      min_value = value\n",
        "      city_key = key\n",
        "    key += 1\n",
        "        \n",
        "    \n",
        "  #print(city_key, adj_matrix[city_key])\n",
        "  #print(\"TOME: \", city_key, \"Valor\", adj_matrix[city_key])\n",
        "  #return (min_value, city_key)\n",
        "  return (adj_matrix[city_key], city_key)"
      ],
      "execution_count": 30,
      "outputs": []
    },
    {
      "cell_type": "markdown",
      "metadata": {
        "id": "VF-gtelYwq8Y"
      },
      "source": [
        "# [Función] Generación de solución greedy generica"
      ]
    },
    {
      "cell_type": "code",
      "metadata": {
        "id": "OmWD_lB9bqOA"
      },
      "source": [
        "def generate_greedy_solution_adj_matrix(adj_mat):\n",
        "  \"\"\"function to generate a greedy first solution \n",
        "  adj_mat = array with the adjacency matrix\n",
        "  return: array with the best way\n",
        "  \"\"\"\n",
        "  #adj_mat = list(adj_mat)\n",
        "  my_way = ['0'] \n",
        "  current_city = my_way[0]\n",
        "  #distance = 0\n",
        "  tmp_adj_mat = adj_mat.copy()\n",
        "  adj_matrix = tmp_adj_mat[int(current_city)]\n",
        "  for _ in range(len(adj_mat)-1):\n",
        "    #print(adj_mat[i], my_way)\n",
        "    #print(adj_matrix, my_way,\"\\n\")\n",
        "    value, city = get_minimo_adj(adj_matrix, my_way)\n",
        "    current_city = city\n",
        "    \n",
        "    adj_matrix = tmp_adj_mat[int(current_city)]\n",
        "    #distance += value \n",
        "    my_way.append(str(current_city))\n",
        "  \n",
        "  #value += adj_mat[int(current_city)][0]\n",
        "  my_way.append('0')\n",
        "  #print(value)\n",
        "  return(my_way)\n",
        "    "
      ],
      "execution_count": 31,
      "outputs": []
    },
    {
      "cell_type": "code",
      "metadata": {
        "id": "HulsSs1kdqja"
      },
      "source": [
        "#way = generate_greedy_solution_adj_matrix(adjacency_matrix)\n",
        "#print(way, f(way, my_cities))"
      ],
      "execution_count": 32,
      "outputs": []
    },
    {
      "cell_type": "markdown",
      "metadata": {
        "id": "nEdiXo8DUdCC"
      },
      "source": [
        "# [Función] INPUT DESDE ARCHIVO DE TEXTO\n",
        "\n",
        "> Input automatico y generación de matriz de adyacencia"
      ]
    },
    {
      "cell_type": "code",
      "metadata": {
        "id": "vmGQedHVTXEh"
      },
      "source": [
        "# INPUT Automatico\n",
        "def get_dictarr_cities_by_textfile(name_file):\n",
        "  \"\"\"function to read the input from file txt\n",
        "  name_file = str with the name file.txt\n",
        "  return: dict with city:distance from city to other cities and array with adjacency matrix, int num cities, int num iterations \n",
        "  \"\"\"\n",
        "  with open('input.txt', 'r') as fichero:\n",
        "    N = int(fichero.readline().split('\\n')[0])\n",
        "    Imax = int(fichero.readline().split('\\n')[0])\n",
        "    distances = []\n",
        "    for linea in fichero:\n",
        "        distances.append(linea.split(' '))\n",
        "        \n",
        "  \n",
        "  for i in range(len(distances)):\n",
        "    distances[i][-1] = distances[i][-1][:-1]\n",
        "     #print(distances[i])\n",
        "      #distances[8][-1]#[:-1]\n",
        "  for element in range(len(distances)):\n",
        "    distances[element]=(list(map(int,distances[element])))\n",
        "\n",
        "  my_cities = {}\n",
        "  key = 0\n",
        "  for value in distances: \n",
        "    my_cities[str(key)] = value\n",
        "    key += 1\n",
        "\n",
        "  adj_distances = generate_adjacency_matrix(distances)\n",
        "  #print(f\"diccionario de ciudades: {my_cities}\\narreglo de arreglos: {distances}\")\n",
        "  return (my_cities, adj_distances, N, Imax)"
      ],
      "execution_count": 33,
      "outputs": []
    },
    {
      "cell_type": "markdown",
      "metadata": {
        "id": "APuDgA1whh_M"
      },
      "source": [
        "# [Función] INPUT A MANO"
      ]
    },
    {
      "cell_type": "code",
      "metadata": {
        "id": "KNW5qjDKFKrw"
      },
      "source": [
        "#all_cities = []\n",
        "# INPUT A MANO\n",
        "def get_dictarr_cities_by_hand():\n",
        "  \"\"\"function to read the input by hand\n",
        "  return: dict with city:distance from city to other cities and array with adjacency matrix, int num cities, int num iterations \n",
        "  \"\"\"\n",
        "  Imax = 100\n",
        "  N = int(input(\"num. ciudades: \"))\n",
        "  all_cities = {\"{0}\".format(i): \"\" for i in range(N-1)}\n",
        "  for i in range(N-1):\n",
        "    cities = input(f\"ciudad {i}: \") # Recibimos la línea de ciudades\n",
        "    cities = cities.split(\" \") # detectamos cada número \n",
        "    my_cities = list(map(int, cities)) # convertimos cada número a entero\n",
        "    key = f\"{i}\"\n",
        "    all_cities[key] = my_cities # almacenamos la lista en el arreglo que contendra todas\n",
        "\n",
        "  #print(all_cities)\n",
        "  distances = []\n",
        "  for i in all_cities.values():\n",
        "    #print(i)\n",
        "    distances.append(i)\n",
        "\n",
        "  \n",
        "  adj_distance = generate_adjacency_matrix(distances)\n",
        "  return (all_cities, adj_distance, N, Imax)"
      ],
      "execution_count": 34,
      "outputs": []
    },
    {
      "cell_type": "code",
      "metadata": {
        "id": "bnqmgoi8J_g3"
      },
      "source": [
        "#print(get_dictarr_cities_by_hand())"
      ],
      "execution_count": 35,
      "outputs": []
    },
    {
      "cell_type": "markdown",
      "metadata": {
        "id": "jdIXh84HOgdg"
      },
      "source": [
        "# [Función] Búsqueda Tabú"
      ]
    },
    {
      "cell_type": "code",
      "metadata": {
        "id": "s5LTHk6SMOlS"
      },
      "source": [
        "def tabu_search(Imax, N, all_cities, adj_matx):\n",
        "  \"\"\"Implementation of Tabu Search\n",
        "  Imax = int number of iterations\n",
        "  N = int number of cities\n",
        "  all_cities = dict with city:distance from city to other cities\n",
        "  adj_matx = array with the adjacency matrix\n",
        "  return: (array with the best way, int with the whole distance)\n",
        "  \"\"\"\n",
        "  #from math import floor\n",
        "  # Generar solución inicial X0.\n",
        "  # El viajero siempre parte de n0\n",
        "  # De acuerdo a las consideraciones: La solucion inicial se genera utilizando un algoritmo voraz.\n",
        "  #X0 = generate_solution(N) # aleatoria  #X0 = generate_greedy_solution() # no generica\n",
        "  X0 = generate_greedy_solution_adj_matrix(adj_matx) # generica\n",
        "  \n",
        "  #print(f\"Solución inicial: {X0}, {f(X0, all_cities)}\")\n",
        "  \n",
        "  # Colocar el contador de iteraciones en 0: K <- 0\n",
        "  k = 0\n",
        "  X = X0\n",
        "  # Inicializar la lista tabú como un conjunto vacio: T(X, K) = {}\n",
        "  tabu_time = floor(N/2)\n",
        "  tabu_list = [] # [\"0\",2] = [city, tabu_time]\n",
        "  \n",
        "  # Para no estancar el algoritmo en 248\n",
        "  #possible_solutions, city_used = get_neighborhood(X)\n",
        "  #X = possible_solutions[0] \n",
        "  #tabu_list.append([city_used, tabu_time])\n",
        "\n",
        "  while k <= Imax:\n",
        "    k += 1\n",
        "    # Determinar el vecindario N(x)\n",
        "    #possible_solutions, city_used = get_neighborhood(tmp_x)\n",
        "    possible_solutions, city_used = get_neighborhood(X) \n",
        "    # Revisamos que la ciudad no este en la lista tabu\n",
        "    status = check_tabu_list(city_used, tabu_list)\n",
        "    if status == False: \n",
        "      tabu_list.append([city_used, tabu_time]) # Añadimos a la lista tabu, la ciudad usada para generar el vecindario\n",
        "    elif status == True: \n",
        "      possible_solutions = [] # Para evitarel for que revisa las soluciones\n",
        "    \n",
        "    ## Determinar el conjunto de aspirantes A(X,K)\n",
        "    ## Determinar el vecindario reducido: N*(X) = {N(X) - T(X, K)} u A(X, K) \n",
        "    # Escoger la mejor solución X entre las soluciones que estan en N*(X,K)\n",
        "    for ps in possible_solutions:\n",
        "      if f(ps, all_cities) < f(X, all_cities): #if f(x) < f(x*) \n",
        "          X = ps#X_start = X\n",
        "          #tmp_x = X\n",
        "    \n",
        "    #actualizar la lista tabú L(X,K)\n",
        "    tabu_list = update_tabu_list(tabu_list)\n",
        "\n",
        "  return (X, f(X, all_cities))"
      ],
      "execution_count": 42,
      "outputs": []
    },
    {
      "cell_type": "markdown",
      "metadata": {
        "id": "0hp34gH_mSDm"
      },
      "source": [
        "# **MAIN**"
      ]
    },
    {
      "cell_type": "code",
      "metadata": {
        "colab": {
          "base_uri": "https://localhost:8080/"
        },
        "id": "F4eCpXORoSCD",
        "outputId": "a0b42b30-5a54-4918-a7ca-821630029b21"
      },
      "source": [
        "if __name__ == \"__main__\":\n",
        "  #Imax = 100\n",
        "  print(\"Elige el número correspondiente a tu caso\")\n",
        "  type_input = int(input(\"1. Input a mano\\n2. Input desde archivo de texto\\n\"))\n",
        "  if type_input == 1:\n",
        "    # dict city:[distances], adjacency matrix, num cities, num iterations \n",
        "    my_cities, adj_mat, N, Imax = get_dictarr_cities_by_hand()\n",
        "    #print(my_cities,'\\n', adj_mat, '\\n', N, '\\n', Imax)\n",
        "    #print(f\"->Búsqueda tabú: {tabu_search(Imax, N, my_cities, adj_mat)}\")\n",
        "    \n",
        "  elif type_input == 2:\n",
        "    file_name = str(input(\"Nombre del archivo: \"))\n",
        "    M = int(input(\"Número de ejecuciones: \"))\n",
        "    # dict city:[distances], adjacency matrix, num cities, num iterations \n",
        "    my_cities, adj_mat, N, Imax = get_dictarr_cities_by_textfile(file_name)\n",
        "    #print(my_cities,'\\n', adj_mat, '\\n', N, '\\n', Imax)\n",
        "    #print(f\"->Búsqueda tabú: {tabu_search(Imax, N, my_cities, adj_mat)}\")\n",
        "    # ------------------------------------------PARTE 2\n",
        "    #1. Mejor soluci ́on encontrada considerando las M ejecuciones.\n",
        "    #2. Peor soluci ́on encontrada considerando las M ejecuciones.\n",
        "    #3. Soluci ́on que corresponde a la mediana considerando las M ejecuciones.\n",
        "    #4. Media del valor de la funci ́on objetivo considerando las M ejecuciones.\n",
        "    #5. Desviaci ́on est ́andar del valor de la funci ́on objetivo considerando las M ejecuciones.\n",
        "    solutions = []\n",
        "    #better_way = \"\"; better_weight = 100000\n",
        "    #poor_way = \"\"; poor_weight = 0\n",
        "    media = 0\n",
        "    stdesv = []\n",
        "    tmp = 0\n",
        "    while tmp != M:\n",
        "      way, weight = tabu_search(Imax, N, my_cities, adj_mat)\n",
        "      element = (way, weight)\n",
        "      media += weight\n",
        "      stdesv.append(weight)\n",
        "      #if element[1] < better_weight:\n",
        "        #better_weight = element[1]\n",
        "        #better_way = element[0]\n",
        "      #if element[1] > poor_weight:\n",
        "        #poor_weight = element[1]\n",
        "        #poor_way = element[0]\n",
        "\n",
        "\n",
        "      solutions.append(element)\n",
        "      tmp += 1\n",
        "    \n",
        "    print(f\"Mejor solución: {min(solutions)} \")#{better_way}, {better_weight}\")\n",
        "    print(f\"Peor solución: {max(solutions)}\")#{poor_way}, {poor_weight}\")\n",
        "    # Se supone que cuando es un número impar, se hace un promedio de los dos \n",
        "    # del centro pero ¿cóómo haces eso con listas? .-. \n",
        "    # Es por ello que lo he puesto así\n",
        "    print(f\"Mediana ejecuciones: {solutions[int(len(solutions)/2)]}\")\n",
        "    #print(f\"Media: {media/len(solutions)}\")\n",
        "    print(f\"Media: {media/M}\")\n",
        "    print(f\"Desviación estandar: {np.std(stdesv)}\")\n",
        "  \n",
        "  else:\n",
        "    print(\"Opción no valida\")\n",
        "  #print(f\"->Búsqueda tabú: {tabu_search(Imax, N, my_cities, adj_mat)}\")"
      ],
      "execution_count": 44,
      "outputs": [
        {
          "output_type": "stream",
          "text": [
            "Elige el número correspondiente a tu caso\n",
            "1. Input a mano\n",
            "2. Input desde archivo de texto\n",
            "2\n",
            "Nombre del archivo: input.txt\n",
            "Número de ejecuciones: 10000\n",
            "Mejor solución: (['0', '5', '3', '8', '9', '6', '2', '7', '4', '1', '0'], 248) \n",
            "Peor solución: (['0', '5', '3', '8', '9', '6', '2', '7', '4', '1', '0'], 248)\n",
            "Mediana ejecuciones: (['0', '5', '3', '8', '9', '6', '2', '7', '4', '1', '0'], 248)\n",
            "Media: 248.0\n",
            "Desviación estandar: 0.0\n"
          ],
          "name": "stdout"
        }
      ]
    },
    {
      "cell_type": "markdown",
      "metadata": {
        "id": "PWGM90ImenXt"
      },
      "source": [
        "> **Comentario del autor:** Estuve debugeando por un buen rato en busca de fallos ya que hice corridas de M=1, 10, 100, 1000 y 10000 y para este problema en particular, *la mejor solución* y *la peor solución* dan 248 y creo que es debido a que la solución inicial greedy genera un camino con peso de 271, que como podemos darnos cuenta, esta demasiado cerca de 248, por lo que puedo decir que el algoritmo se estanca en ese minimo local. \n",
        "\n",
        "> Pero, si añadimos estás lineas de código: \n",
        "\n",
        "```\n",
        "possible_solutions, city_used = get_neighborhood(X)\n",
        "X = possible_solutions[0] \n",
        "tabu_list.append([city_used, tabu_time])\n",
        "```\n",
        "en la función de TabuSearch, justo antes del while, a la hora de correr el algoritmo, nos da la oportunidad de hacer más exploración. Básicamente lo que hacen estas lineas es que obtienen el vecindario de la solución inicial greedy y en lugar de tomar el camino de menor peso, toma el primer camino del vecindario. \n",
        "Da igual el peso, toma el primero y eso, cuando corremos el algoritmo nos permite hacer más exploración.\n",
        "\n",
        "\n",
        "**Importante:** Se corre el riesgo de que al final, no encuentre el minimo local, que para este caso es 248.\n",
        "\n",
        "Prueba de mi argumento anterior, lo encontramos en esta corrida que hice: \n",
        "\n",
        "\n",
        "```\n",
        "Número de ejecuciones: 10000\n",
        "Mejor solución: (['0', '1', '2', '7', '4', '8', '9', '6', '3', '5', '0'], 302) \n",
        "Peor solución: (['0', '9', '8', '4', '3', '6', '2', '7', '1', '5', '0'], 332)\n",
        "Mediana ejecuciones: (['0', '5', '3', '8', '9', '6', '2', '7', '4', '1', '0'], 248)\n",
        "Media: 261.0505\n",
        "Desviación estandar: 23.826870330574263\n",
        "```\n",
        "\n",
        "Por lo tanto, dejare comentadas esas lineas por defecto, si el evaluador las quiere usar, únicamente tendrá que descomentarlas.\n",
        "\n",
        "\n"
      ]
    },
    {
      "cell_type": "code",
      "metadata": {
        "id": "zg12LORdlLrf"
      },
      "source": [
        ""
      ],
      "execution_count": null,
      "outputs": []
    }
  ]
}