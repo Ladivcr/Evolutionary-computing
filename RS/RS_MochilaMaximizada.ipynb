{
  "nbformat": 4,
  "nbformat_minor": 0,
  "metadata": {
    "colab": {
      "name": "RS_MochilaMaximizada.ipynb",
      "provenance": [],
      "collapsed_sections": []
    },
    "kernelspec": {
      "name": "python3",
      "display_name": "Python 3"
    }
  },
  "cells": [
    {
      "cell_type": "markdown",
      "metadata": {
        "id": "iWuiWaxJ8nHo"
      },
      "source": [
        "# Problema de la mochila con RS (Recocido Simulado) \n",
        "---\n",
        "\n",
        "> Dado un conjunto finito de objetos, en el que cada objeto tiene su respectivo peso y valor. Encontrar el subconjuto de objetos que se pueden introducir en una mochila que soporta cierto peso, de manera que se maximiza el valor.\n",
        "\n"
      ]
    },
    {
      "cell_type": "markdown",
      "metadata": {
        "id": "j4aUsLi5-DxA"
      },
      "source": [
        "**Maximizar:** $$f(\\vec{x}) = \n",
        "\\sum_{i=1}^{n} p_i \\cdot x_i$$\n",
        "\n",
        "**tal que:** $$g_1(\\vec{x}) = \n",
        "\\sum_{i=1}^{n} w_i \\cdot x_i \\leq c$$\n",
        "\n",
        "**donde:**\n",
        "- $x_i \\in \\{0,1\\}$ \n",
        "- $i \\in \\{1,...,n\\}$\n",
        "- $p_i$ y $w_i$ son el **valor** y el **peso** del objeto $i$ respectivamente\n",
        "- $n$ es el número de objetos \n",
        "- $c$ es el peso que puede soportar la mochila \n"
      ]
    },
    {
      "cell_type": "markdown",
      "metadata": {
        "id": "6eW4Pvj3ABnq"
      },
      "source": [
        "# Consideraciones\n",
        "---\n",
        "\n",
        "- **La representación de una solución** será una cadena binaria de tamaño $n$. La posición $i$ indica **1** si el objeto esta en la mochila **0** si no esta.\n",
        "\n",
        "- **La solución inicial** se genera eligiendo objetos aleatorios mientras no exceda la capacidad.\n",
        "\n",
        "- **El vecindario** se genera: \n",
        "\n",
        "> > Para cada posición de la cadena binaria, se revisa su valor y se cambia. Si la solución generada es factible (no excede el peso). Se añade al vecindario. \n",
        "\n",
        "- **La selección de una solución** del vecindario se hace aleatoria\n",
        "\n",
        "- para variar la **temperatura** se usará: $T(t+1) = 0.99T(t)$"
      ]
    },
    {
      "cell_type": "markdown",
      "metadata": {
        "id": "iAhT0bHNdq-h"
      },
      "source": [
        "# Librerias a utilizar\n",
        "---"
      ]
    },
    {
      "cell_type": "code",
      "metadata": {
        "id": "XRnxOYzWLGen"
      },
      "source": [
        "# Librerias\n",
        "from random import randint\n",
        "from itertools import permutations\n",
        "from random import choice\n",
        "from math import e\n",
        "from numpy import std"
      ],
      "execution_count": 37,
      "outputs": []
    },
    {
      "cell_type": "markdown",
      "metadata": {
        "id": "RDMdRweTVtmo"
      },
      "source": [
        "# [Función] $g_1(x)$\n",
        "---"
      ]
    },
    {
      "cell_type": "code",
      "metadata": {
        "id": "09ujJFSeKlTJ"
      },
      "source": [
        "def g(weight_objects, xi, bag_capacity):\n",
        "  \"\"\"function to check the bag weight restriction\n",
        "  weight_objects = list with the objects weights\n",
        "  xi = list binary chain\n",
        "  bag_capacity = int with the bag capacity\n",
        "  return: True if is valid False if not and bag weight\n",
        "  \"\"\"\n",
        "  weight = 0\n",
        "  aux_index = 0\n",
        "  for i in xi: \n",
        "    if i == 1:\n",
        "      # usar index genera problemas cuando hay pesos repetidos en la lista de pesos de objetos\n",
        "      #index_weight = xi.index(i)\n",
        "      current_weight = weight_objects[aux_index]#_weight]\n",
        "      weight += current_weight\n",
        "    aux_index += 1\n",
        "\n",
        "  if weight < bag_capacity:\n",
        "    bag_weight = weight\n",
        "    return (True, bag_weight)\n",
        "  else:\n",
        "    bag_weight = 1000 \n",
        "    return (False, bag_weight)"
      ],
      "execution_count": 38,
      "outputs": []
    },
    {
      "cell_type": "markdown",
      "metadata": {
        "id": "kGlD058gVl_-"
      },
      "source": [
        "# [Función] $f(x)$\n",
        "---"
      ]
    },
    {
      "cell_type": "code",
      "metadata": {
        "id": "zz7W4XIVKiqu"
      },
      "source": [
        "def f(value_objects, xi):\n",
        "  \"\"\"function to check the bag value \n",
        "  value_objects = list with the objects values\n",
        "  xi = binary chain list\n",
        "  return: int with the bag value list with the valid objects\n",
        "  \"\"\"\n",
        "  value = 0\n",
        "  valid_objects = []\n",
        "  aux_index = 0\n",
        "  for i in xi: \n",
        "    if i == 1:\n",
        "      # Usar index genera problemas cuando hay valores repetidos en el arreglo de los valores de los objetos\n",
        "      #index_value = xi.index(i)\n",
        "      current_value = value_objects[aux_index]#_value]\n",
        "      valid_objects.append(aux_index)#_value)\n",
        "      value += current_value\n",
        "    \n",
        "    aux_index += 1\n",
        "  \n",
        "  bag_value = value\n",
        "  return (bag_value, valid_objects)\n",
        "  "
      ],
      "execution_count": 39,
      "outputs": []
    },
    {
      "cell_type": "markdown",
      "metadata": {
        "id": "i1IylkwqG7Zv"
      },
      "source": [
        "# [Función] generación de solución inicial\n",
        "---"
      ]
    },
    {
      "cell_type": "code",
      "metadata": {
        "id": "a6EezdhJHA9G"
      },
      "source": [
        "#La solución inicial se genera eligiendo objetos\n",
        "#aleatorios mientras no exceda la capacidad.\n",
        "def get_initial_solution(value_objects, weight_objects, bag_capacity):\n",
        "  \"\"\"function to generate the first solution \n",
        "  value_objects = list with the objects values\n",
        "  weight_objects = list with the objects weights\n",
        "  bag_capacity = int with the bag capacity\n",
        "  return: list valid objects, objects binary chain, bag value, bag weight \n",
        "  \"\"\"\n",
        "  binary_chain_xi = [randint(0,1) for i in range(len(value_objects))]\n",
        "  state = True\n",
        "  while state == True: \n",
        "    state_solution, bag_weight = g(weight_objects, binary_chain_xi, bag_capacity)\n",
        "    #print(state_solution, bag_weight, binary_chain_xi)\n",
        "    #break\n",
        "    # Si la cadena binaria es aceptable en cuanto a peso, entonces medimos su valor\n",
        "    if state_solution == True: \n",
        "      # Ya que la cadena es valida, revisamos su valor y que objetos son los validos\n",
        "      bag_value, valid_objects = f(value_objects, binary_chain_xi) \n",
        "      return (valid_objects, binary_chain_xi, bag_value, bag_weight)\n",
        "      break\n",
        "      state = False\n",
        "    else:\n",
        "      # Generamos una nueva solución \n",
        "      binary_chain_xi = [randint(0,1) for i in range(len(value_objects))]\n"
      ],
      "execution_count": 40,
      "outputs": []
    },
    {
      "cell_type": "code",
      "metadata": {
        "colab": {
          "base_uri": "https://localhost:8080/"
        },
        "id": "a-6ATK-RJQ7a",
        "outputId": "69d567df-647b-497f-a7e3-4b591c552484"
      },
      "source": [
        "# test for get_initial_soluton\n",
        "temp_initial = 1000\n",
        "temp_end = 0.1\n",
        "bag_capacity = 15\n",
        "value_objects = [5, 14, 7, 2, 23]\n",
        "weight_objects = [2, 3, 4, 5, 10]\n",
        "#print(get_initial_solution(value_objects, weight_objects, bag_capacity))\n",
        "# list valid objects, objects binary chain, bag value, bag weight \n",
        "valid_objects, binary_chain, bag_value, bag_weight = get_initial_solution(value_objects, weight_objects, bag_capacity)\n",
        "print(f\"objetos validos: {valid_objects}\\ncadena binaria: {binary_chain}\\nvalor de mochila: {bag_value}\\npeso mochila: {bag_weight}\")\n",
        "#just_binary = get_initial_solution(value_objects, weight_objects, bag_capacity)[2]\n",
        "#print(just_binary)\n",
        "# it works!"
      ],
      "execution_count": 41,
      "outputs": [
        {
          "output_type": "stream",
          "text": [
            "objetos validos: [0, 1, 2]\n",
            "cadena binaria: [1, 1, 1, 0, 0]\n",
            "valor de mochila: 26\n",
            "peso mochila: 9\n"
          ],
          "name": "stdout"
        }
      ]
    },
    {
      "cell_type": "markdown",
      "metadata": {
        "id": "yAs8gEmxdw5p"
      },
      "source": [
        "# [Función] Actualizar temperatura $T(t)$\n",
        "---"
      ]
    },
    {
      "cell_type": "code",
      "metadata": {
        "id": "LyrhTp6md25l"
      },
      "source": [
        "def update_temperature(t):\n",
        "  \"\"\"function to update current temperature\n",
        "  t = int||float \n",
        "  \"\"\"\n",
        "  return (0.99*t)"
      ],
      "execution_count": 42,
      "outputs": []
    },
    {
      "cell_type": "code",
      "metadata": {
        "colab": {
          "base_uri": "https://localhost:8080/"
        },
        "id": "La3rZEIpf1oL",
        "outputId": "56851bd2-d313-4cc8-f43d-467676f27e57"
      },
      "source": [
        "update_temperature(0.1)"
      ],
      "execution_count": 43,
      "outputs": [
        {
          "output_type": "execute_result",
          "data": {
            "text/plain": [
              "0.099"
            ]
          },
          "metadata": {
            "tags": []
          },
          "execution_count": 43
        }
      ]
    },
    {
      "cell_type": "markdown",
      "metadata": {
        "id": "VSzNpId6oz4g"
      },
      "source": [
        "# [Reto Función] Otra generación de vecindario \n",
        "---\n",
        "Con la finalidad de variar un poco las métricas que obtenemos al final"
      ]
    },
    {
      "cell_type": "code",
      "metadata": {
        "id": "9r3runWFpA7R"
      },
      "source": [
        "def other_generate_neighborhood(X, weight_objects, bag_capacity):\n",
        "  \"\"\"function to generate other neighborhood different to main\n",
        "  X = binary list\n",
        "  weight_objects = list with the objects weights\n",
        "  bag_capacity = int with the bag capacity\n",
        "  return: other binary lists get from X \n",
        "  \"\"\"\n",
        "  neighborhood = []\n",
        "  all_x = list(permutations(X))\n",
        "  all_x = list(map(list, all_x))\n",
        "  \n",
        "  for i in all_x: \n",
        "    if g(weight_objects, i, bag_capacity)[1] < bag_capacity:\n",
        "      neighborhood.append(i)\n",
        "    #if len(neighborhood) >= 5:\n",
        "      #break\n",
        "    \n",
        "    \n",
        "\n",
        "  y = neighborhood\n",
        "  return (y)"
      ],
      "execution_count": 44,
      "outputs": []
    },
    {
      "cell_type": "code",
      "metadata": {
        "colab": {
          "base_uri": "https://localhost:8080/"
        },
        "id": "LYP30dp_pDA2",
        "outputId": "034ce327-1e1d-436e-9ec5-0d03cf3d5fb3"
      },
      "source": [
        "# test for generate_neighborhood\n",
        "temp_initial = 1000\n",
        "temp_end = 0.1\n",
        "bag_capacity = 15\n",
        "value_objects = [5, 14, 7, 2, 23]\n",
        "weight_objects = [2, 3, 4, 5, 10]\n",
        "print(other_generate_neighborhood([0, 0, 1, 0, 1], weight_objects, bag_capacity))\n",
        "\n",
        "# it works!"
      ],
      "execution_count": 45,
      "outputs": [
        {
          "output_type": "stream",
          "text": [
            "[[0, 0, 1, 0, 1], [0, 0, 1, 1, 0], [0, 0, 1, 1, 0], [0, 0, 1, 0, 1], [0, 1, 0, 0, 1], [0, 1, 0, 1, 0], [0, 1, 0, 0, 1], [0, 1, 0, 1, 0], [0, 1, 1, 0, 0], [0, 1, 1, 0, 0], [0, 0, 1, 0, 1], [0, 0, 1, 1, 0], [0, 0, 1, 0, 1], [0, 0, 1, 1, 0], [0, 1, 0, 1, 0], [0, 1, 0, 0, 1], [0, 1, 1, 0, 0], [0, 1, 1, 0, 0], [0, 1, 0, 0, 1], [0, 1, 0, 1, 0], [0, 0, 1, 0, 1], [0, 0, 1, 1, 0], [0, 0, 1, 1, 0], [0, 0, 1, 0, 1], [0, 1, 0, 0, 1], [0, 1, 0, 1, 0], [0, 1, 0, 0, 1], [0, 1, 0, 1, 0], [0, 1, 1, 0, 0], [0, 1, 1, 0, 0], [0, 0, 1, 0, 1], [0, 0, 1, 1, 0], [0, 0, 1, 0, 1], [0, 0, 1, 1, 0], [0, 1, 0, 1, 0], [0, 1, 0, 0, 1], [0, 1, 1, 0, 0], [0, 1, 1, 0, 0], [0, 1, 0, 0, 1], [0, 1, 0, 1, 0], [1, 0, 0, 0, 1], [1, 0, 0, 1, 0], [1, 0, 0, 0, 1], [1, 0, 0, 1, 0], [1, 0, 1, 0, 0], [1, 0, 1, 0, 0], [1, 0, 0, 0, 1], [1, 0, 0, 1, 0], [1, 0, 0, 0, 1], [1, 0, 0, 1, 0], [1, 0, 1, 0, 0], [1, 0, 1, 0, 0], [1, 0, 0, 0, 1], [1, 0, 0, 1, 0], [1, 0, 0, 0, 1], [1, 0, 0, 1, 0], [1, 0, 1, 0, 0], [1, 0, 1, 0, 0], [1, 1, 0, 0, 0], [1, 1, 0, 0, 0], [1, 1, 0, 0, 0], [1, 1, 0, 0, 0], [1, 1, 0, 0, 0], [1, 1, 0, 0, 0], [0, 0, 1, 0, 1], [0, 0, 1, 1, 0], [0, 0, 1, 0, 1], [0, 0, 1, 1, 0], [0, 0, 1, 0, 1], [0, 0, 1, 1, 0], [0, 0, 1, 0, 1], [0, 0, 1, 1, 0], [0, 1, 0, 0, 1], [0, 1, 0, 1, 0], [0, 1, 0, 0, 1], [0, 1, 0, 1, 0], [0, 1, 1, 0, 0], [0, 1, 1, 0, 0], [0, 1, 0, 0, 1], [0, 1, 0, 1, 0], [0, 1, 0, 0, 1], [0, 1, 0, 1, 0], [0, 1, 1, 0, 0], [0, 1, 1, 0, 0], [1, 0, 0, 1, 0], [1, 0, 0, 0, 1], [1, 0, 1, 0, 0], [1, 0, 1, 0, 0], [1, 0, 0, 0, 1], [1, 0, 0, 1, 0], [1, 0, 0, 1, 0], [1, 0, 0, 0, 1], [1, 0, 1, 0, 0], [1, 0, 1, 0, 0], [1, 0, 0, 0, 1], [1, 0, 0, 1, 0], [1, 1, 0, 0, 0], [1, 1, 0, 0, 0], [1, 1, 0, 0, 0], [1, 1, 0, 0, 0], [1, 1, 0, 0, 0], [1, 1, 0, 0, 0], [1, 0, 0, 0, 1], [1, 0, 0, 1, 0], [1, 0, 0, 0, 1], [1, 0, 0, 1, 0], [1, 0, 1, 0, 0], [1, 0, 1, 0, 0]]\n"
          ],
          "name": "stdout"
        }
      ]
    },
    {
      "cell_type": "markdown",
      "metadata": {
        "id": "BeUKLMVWwz9M"
      },
      "source": [
        "# [Función] Generar un vecindario\n",
        "---"
      ]
    },
    {
      "cell_type": "code",
      "metadata": {
        "id": "XOBuWnT9w5ZH"
      },
      "source": [
        "#El vecindario de una soluci ́on se define como sigue: Para cada posici ́on\n",
        "#de la cadena binaria, se revisa su valor y se cambia. Si la soluci ́on\n",
        "#generada es factible (no excede la capacidad de la mochila), entonces\n",
        "#forma parte del vecindario.\n",
        "def generate_neighborhood(X, weight_objects, bag_capacity):\n",
        "  \"\"\"function to generate the neighborhood just with sublists less than bag capacity\n",
        "  X = binary list\n",
        "  weight_objects = list with the objects weights\n",
        "  bag_capacity = int with the bag capacity\n",
        "  return: other binary lists get from X \n",
        "  \"\"\"\n",
        "  neighborhood = []\n",
        "  ### ESTO NO! Generamos las permutaciones\n",
        "  #all_x = list(permutations(X))\n",
        "  #all_x = list(map(list, all_x))\n",
        "  X_aux = X.copy()\n",
        "  \n",
        "  for i in range(len(X)): \n",
        "    if X[i] == 1:\n",
        "      X_aux[i] = 0\n",
        "    elif X[i] == 0: \n",
        "      X_aux[i] = 1 \n",
        "        \n",
        "    if g(weight_objects, X_aux, bag_capacity)[1] < bag_capacity:\n",
        "      neighborhood.append(X_aux)\n",
        "    #if len(neighborhood) >= 5:\n",
        "      #break\n",
        "    #print(X_aux)\n",
        "    X_aux = X.copy()\n",
        "    \n",
        "\n",
        "  y = neighborhood\n",
        "  return (y)\n"
      ],
      "execution_count": 46,
      "outputs": []
    },
    {
      "cell_type": "code",
      "metadata": {
        "colab": {
          "base_uri": "https://localhost:8080/"
        },
        "id": "9nYKif0zI9Aj",
        "outputId": "97af63be-5c8f-4de2-ccb5-a1efd409c8ae"
      },
      "source": [
        "# test for generate_neighborhood\n",
        "temp_initial = 1000\n",
        "temp_end = 0.1\n",
        "bag_capacity = 15\n",
        "value_objects = [5, 14, 7, 2, 23]\n",
        "weight_objects = [2, 3, 4, 5, 10]\n",
        "print(generate_neighborhood([0, 0, 1, 0, 1], weight_objects, bag_capacity))\n",
        "\n",
        "# it works!"
      ],
      "execution_count": 47,
      "outputs": [
        {
          "output_type": "stream",
          "text": [
            "[[0, 0, 0, 0, 1], [0, 0, 1, 0, 0]]\n"
          ],
          "name": "stdout"
        }
      ]
    },
    {
      "cell_type": "markdown",
      "metadata": {
        "id": "x23edUT8E2Fg"
      },
      "source": [
        "# Recocido simulado\n",
        "---"
      ]
    },
    {
      "cell_type": "code",
      "metadata": {
        "id": "_s4rdpNWrtjH"
      },
      "source": [
        "def RS(temp_initial, temp_end, bag_capacity, value_objects, weight_objects):\n",
        "  \"\"\"algorithm RS\n",
        "  temp_initial = int||float it's the initial temperature\n",
        "  temp_end = int||float it's the final temperature\n",
        "  bag_capacity = int current bag capacity\n",
        "  value_objects = list with the objects values\n",
        "  weight_objects = list with the objects weights\n",
        "  return: list valid objects, binary list, bag value, bag weight\n",
        "  \"\"\"\n",
        "\n",
        "  # Generar solución inicial X0 \n",
        "  X0 = get_initial_solution(value_objects, weight_objects, bag_capacity)[1]\n",
        "  \n",
        "  # T(0) = T0 \n",
        "  T0 = temp_initial\n",
        "\n",
        "  #x(0) = X0\n",
        "  X = []\n",
        "  X.append(X0)\n",
        "  \n",
        "  # Actualizar la información de la mejor solución encontrada: Xbest = X0\n",
        "  Xbest = X0; Fbest = f(value_objects, Xbest)[0]\n",
        "\n",
        "  # t = 0\n",
        "  t = 0\n",
        "\n",
        "  #while T(t) <= Tf:\n",
        "  while T0 >= temp_end:\n",
        "    # Elegir aleatoriamente una solución \"y\" del vecindario, y E N(x(t))\n",
        "    y = choice(generate_neighborhood(X[t], weight_objects, bag_capacity))\n",
        "    \n",
        "    # Si el evaluador quiere probar con la generación de vecinos aleatorio (no la estipulada en el manual)\n",
        "    # descompente la siguiente linea y comente la anterior:\n",
        "    #y = choice(other_generate_neighborhood(X[t], weight_objects, bag_capacity))\n",
        "    #if f(y) es mejor que f(xbest) then\n",
        "    if f(value_objects, y)[0] > f(value_objects, Xbest)[0]:\n",
        "      #Xbest = y\n",
        "      Xbest = y \n",
        "      #fbest = f(y)\n",
        "      Fbest = f(value_objects, y)[0]\n",
        "    \n",
        "    #if f(y) <= f(x(t)) or random (0,1) < e^-(f(y)-f(x(t)))/T(t) then\n",
        "    expo = e**( -1*( (f(value_objects, y)[0]) - (f(value_objects, X[t])[0]) ) )/T0\n",
        "    #expo = e**( -1*( ( (f(value_objects, X[t])[0]) - (f(value_objects, y)[0]) ) ) )/T0\n",
        "    #print(expo)\n",
        "    if (f(value_objects, y)[0]) <= (f(value_objects, X[t])[0]) or randint(0,1) < expo:\n",
        "      # x(t+1) = y\n",
        "      X.append(y)\n",
        "    else: \n",
        "      # x(t+1) = x(t)\n",
        "      X.append(X[t])\n",
        "    \n",
        "    # T(t+1) = Actualizar(T(t))\n",
        "    T0 = update_temperature(T0)\n",
        "    # t = t + 1\n",
        "    t = t + 1\n",
        "\n",
        "  #La salida del programa ser ́a:\n",
        "  #1. Lista de objetos que estar ́an en la mochila y su correspondiente cadena binaria, separados por un espacio.\n",
        "  #2. Valor de la mochila.\n",
        "  #3. Peso de la mochila.\n",
        "  objects_in_bag = f(value_objects, Xbest)[1]\n",
        "  bag_weight = g(weight_objects, Xbest, bag_capacity)[1]\n",
        "\n",
        "  return (objects_in_bag, Xbest, Fbest, bag_weight)"
      ],
      "execution_count": 48,
      "outputs": []
    },
    {
      "cell_type": "code",
      "metadata": {
        "colab": {
          "base_uri": "https://localhost:8080/"
        },
        "id": "SoZFE9LIJBls",
        "outputId": "1f0ba738-40bd-456a-d076-91f7a22915b3"
      },
      "source": [
        "temp_initial = 1000\n",
        "temp_end = 0.1\n",
        "bag_capacity = 15\n",
        "value_objects = [5, 14, 7, 2, 23] \n",
        "weight_objects = [2, 3, 4, 5, 10]\n",
        "objects_in_bag, binary, bag_value, bag_weight = RS(temp_initial, temp_end, bag_capacity, value_objects, weight_objects)\n",
        "print(f\"indice de objetos en la mochila: {objects_in_bag}\\nlista binaria asociada: {binary}\")\n",
        "print(f\"valor de mochila: {bag_value}\\npeso de mochila: {bag_weight}\")"
      ],
      "execution_count": 49,
      "outputs": [
        {
          "output_type": "stream",
          "text": [
            "indice de objetos en la mochila: [1, 4]\n",
            "lista binaria asociada: [0, 1, 0, 0, 1]\n",
            "valor de mochila: 37\n",
            "peso de mochila: 13\n"
          ],
          "name": "stdout"
        }
      ]
    },
    {
      "cell_type": "markdown",
      "metadata": {
        "id": "Nub1oJDQBkJ4"
      },
      "source": [
        "# [Función] Input by hand\n"
      ]
    },
    {
      "cell_type": "code",
      "metadata": {
        "id": "-jMZdB4w3mfQ"
      },
      "source": [
        "def get_data_by_hand():\n",
        "  \"\"\"function to read the input by hand\n",
        "  return: temp_initial, temp_end, bag_capacity, value_objects, weight_objects\n",
        "  \"\"\"\n",
        "  # La primera línea tendrá la temperatura inicial y final \n",
        "  # separadas por un espacio \n",
        "  temp_initial, temp_end = input(\"Temperatura: \").split(\" \")\n",
        "  temp_initial = float(temp_initial); temp_end = float(temp_end)\n",
        "  # La segunda línea tendrá el número de objetos N\n",
        "  N = int(input(\"Objetos: \"))\n",
        "  # La tercera línea tendrá la capacidad c de la mochila \n",
        "  bag_capacity =  int(input(\"Capacidad: \"))\n",
        "  # Las siguientes N líneas tendráán el valor pi y el peso wi \n",
        "  # de cada objeto i, separados por un espacio \n",
        "  value_objects = []\n",
        "  weight_objects = []\n",
        "  for _ in range(N): \n",
        "    val_pi, wei_wi = input(\"value weight: \").split(\" \")\n",
        "    val_pi = int(val_pi); wei_wi = int(wei_wi)\n",
        "    value_objects.append(val_pi)\n",
        "    weight_objects.append(wei_wi)\n",
        "\n",
        "  return (temp_initial, temp_end, bag_capacity, value_objects, weight_objects)\n",
        "  "
      ],
      "execution_count": 50,
      "outputs": []
    },
    {
      "cell_type": "markdown",
      "metadata": {
        "id": "f99boBUj8XsA"
      },
      "source": [
        "# [Función] Input by file"
      ]
    },
    {
      "cell_type": "code",
      "metadata": {
        "id": "jnBFOCgQ8XWz"
      },
      "source": [
        "def get_data_by_textfile(name_file):\n",
        "  \"\"\"function to read the input from file txt\n",
        "  name_file = str with the name file.txt\n",
        "  return: temp_initial, temp_end, bag_capacity, value_objects, weight_objects \n",
        "  \"\"\"\n",
        "\n",
        "  with open('input.txt', 'r') as fichero:\n",
        "    temp_initial, temp_end = fichero.readline().split(' ')\n",
        "    temp_initial = float(temp_initial)\n",
        "    temp_end = float(temp_end)\n",
        "    N = int(fichero.readline().split('\\n')[0])\n",
        "    bag_capacity = int(fichero.readline().split('\\n')[0])\n",
        "    value_objects = []\n",
        "    weight_objects = []\n",
        "    #print(temp_initial, temp_end, N, bag_capacity)\n",
        "    for linea in fichero:\n",
        "        value, weight = linea.split(' ')\n",
        "        value_obj = int(value)\n",
        "        weight_obj = int(weight)\n",
        "        value_objects.append(value_obj)\n",
        "        weight_objects.append(weight_obj)\n",
        "        \n",
        "  return (temp_initial, temp_end, bag_capacity, value_objects, weight_objects)"
      ],
      "execution_count": 51,
      "outputs": []
    },
    {
      "cell_type": "markdown",
      "metadata": {
        "id": "l-wAEBIHGtqt"
      },
      "source": [
        "# **Main**\n",
        "---"
      ]
    },
    {
      "cell_type": "code",
      "metadata": {
        "colab": {
          "base_uri": "https://localhost:8080/"
        },
        "id": "7ZrhRq4A_WCa",
        "outputId": "19ed0445-2fc7-4cff-c8d4-6954c2870774"
      },
      "source": [
        "if __name__ == \"__main__\":\n",
        "  #Imax = 100\n",
        "  print(\"Elige el número correspondiente a tu caso\")\n",
        "  type_input = int(input(\"1. Input a mano\\n2. Input desde archivo de texto\\n\"))\n",
        "  if type_input == 1:\n",
        "    \n",
        "    temp_initial, temp_end, bag_capacity, value_objects, weight_objects = get_data_by_hand()\n",
        "    M = int(input(\"Número de ejecuciones: \"))\n",
        "    \n",
        "  elif type_input == 2:\n",
        "    file_name = str(input(\"Nombre del archivo: \"))\n",
        "    M = int(input(\"Número de ejecuciones: \"))\n",
        "    temp_initial, temp_end, bag_capacity, value_objects, weight_objects = get_data_by_textfile(file_name)\n",
        "  \n",
        "  else:\n",
        "    print(\"Opcion no valida\")\n",
        "    \n",
        "  # ------------------------------------------PARTE 2\n",
        "  #1. Mejor soluci ́on encontrada considerando las M ejecuciones.\n",
        "  #2. Peor soluci ́on encontrada considerando las M ejecuciones.\n",
        "  #3. Soluci ́on que corresponde a la mediana considerando las M ejecuciones.\n",
        "  #4. Media del valor de la funci ́on objetivo considerando las M ejecuciones.\n",
        "  #5. Desviaci ́on est ́andar del valor de la funci ́on objetivo considerando las M ejecuciones.\n",
        "\n",
        "  solutions = []\n",
        "  media = 0\n",
        "  stdesv = []\n",
        "  conteo = 0\n",
        "  #En los primeros tres puntos indica tanto el valor de x (lista de objetos y su\n",
        "  #correspondiente cadena binaria) como el valor de las funciones f (valor de la mochila) y g (peso de la mochila).\n",
        "  while conteo != M:\n",
        "    objects_in_bag, binary, bag_value, bag_weight = RS(temp_initial, temp_end, bag_capacity, value_objects, weight_objects)\n",
        "    element = (objects_in_bag, binary, bag_value, bag_weight)\n",
        "     \n",
        "    media += bag_value\n",
        "    stdesv.append(bag_value)\n",
        "      \n",
        "    solutions.append(element)\n",
        "    conteo += 1\n",
        "    \n",
        "  # Ordenamos de manera ascendente en base al costo de recorrido de la solución\n",
        "  solutions = sorted(solutions, key=lambda value: value[2]) \n",
        "  #print(solutions)\n",
        "  #print(f\"Mejor solución: {min(solutions)} \")#{better_way}, {better_weight}\")\n",
        "  print(f\"\\nMejor solución: {solutions[-1]}\")\n",
        "  #print(f\"Peor solución: {max(solutions)}\")#{poor_way}, {poor_weight}\")\n",
        "  print(f\"Peor solución: {solutions[0]}\")\n",
        "  # Se supone que cuando es un número impar, se hace un promedio de los dos \n",
        "  # del centro pero ¿cóómo haces eso con listas? .-. \n",
        "  # Es por ello que lo he puesto así\n",
        "  print(f\"Mediana ejecuciones: {solutions[int(len(solutions)/2)]}\")\n",
        "  #print(f\"Media: {media/len(solutions)}\")\n",
        "  print(f\"Media: {media/M}\")\n",
        "  print(f\"Desviación estandar: {std(stdesv)}\")\n",
        "  "
      ],
      "execution_count": 58,
      "outputs": [
        {
          "output_type": "stream",
          "text": [
            "Elige el número correspondiente a tu caso\n",
            "1. Input a mano\n",
            "2. Input desde archivo de texto\n",
            "2\n",
            "Nombre del archivo: input.txt\n",
            "Número de ejecuciones: 10\n",
            "\n",
            "Mejor solución: ([1, 4], [0, 1, 0, 0, 1], 37, 13)\n",
            "Peor solución: ([1, 4], [0, 1, 0, 0, 1], 37, 13)\n",
            "Mediana ejecuciones: ([1, 4], [0, 1, 0, 0, 1], 37, 13)\n",
            "Media: 37.0\n",
            "Desviación estandar: 0.0\n"
          ],
          "name": "stdout"
        }
      ]
    },
    {
      "cell_type": "markdown",
      "metadata": {
        "id": "rykZkJchrUQ1"
      },
      "source": [
        "> A la hora de realizar el reto para tratar de mejorar el algoritmo, entre las cosas que hice se encuentra una generación de vecindario diferente a la propuesta en el manual (ver función other_generate_neighborhood). Los datos varian más como se observa en este output: \n",
        "\n",
        "```\n",
        "Número de ejecuciones: 1000\n",
        "\n",
        "Mejor solución: ([1, 4], [0, 1, 0, 0, 1], 37, 13)\n",
        "Peor solución: ([], [0, 0, 0, 0, 0], 0, 0)\n",
        "Mediana ejecuciones: ([0, 1, 2], [1, 1, 1, 0, 0], 26, 12)\n",
        "Media: 29.166\n",
        "Desviación estandar: 9.352028870785206\n",
        "```\n",
        "Pero a mayor número de ejecuciones, pasa justo esto, que la peor solución corresponde a puros ceros. Lógicamente no esta mal pero no sé a que se debe. \n",
        "Observe, cuando hay 10 ejecuciones únicamente\n",
        "\n",
        "```\n",
        "Número de ejecuciones: 10\n",
        "\n",
        "Mejor solución: ([1, 4], [0, 1, 0, 0, 1], 37, 13)\n",
        "Peor solución: ([4], [0, 0, 0, 0, 1], 23, 10)\n",
        "Mediana ejecuciones: ([0, 1, 2], [1, 1, 1, 0, 0], 26, 12)\n",
        "Media: 29.2\n",
        "Desviación estandar: 6.462197768561405\n",
        "```\n",
        "En cambio, con la generación de vecindario propuesta tenemos el siguiente output: \n",
        "\n",
        "```\n",
        "Número de ejecuciones: 1000\n",
        "\n",
        "Mejor solución: ([1, 4], [0, 1, 0, 0, 1], 37, 13)\n",
        "Peor solución: ([1, 4], [0, 1, 0, 0, 1], 37, 13)\n",
        "Mediana ejecuciones: ([1, 4], [0, 1, 0, 0, 1], 37, 13)\n",
        "Media: 37.0\n",
        "Desviación estandar: 0.0\n",
        "```\n",
        "Que evidentemente no varia en nada.\n",
        "\n",
        "> **POR DEFECTO SE A DEJADO LA GENERACION DE VECINOS TAL COMO LA PIDE EN EL MANUAL**\n",
        "\n"
      ]
    },
    {
      "cell_type": "code",
      "metadata": {
        "id": "DJ0Ps0dCt5Ca"
      },
      "source": [
        ""
      ],
      "execution_count": 52,
      "outputs": []
    }
  ]
}